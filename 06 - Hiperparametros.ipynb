{
 "cells": [
  {
   "cell_type": "code",
   "execution_count": 1,
   "id": "f2c6837f-fb93-4dd4-a3d0-ffb4c37429d5",
   "metadata": {
    "tags": []
   },
   "outputs": [],
   "source": [
    "import pandas as pd\n",
    "import numpy as np\n",
    "import math\n",
    "\n",
    "valencia = pd.read_csv('https://raw.githubusercontent.com/afoone/caipc-mar-2023/master/data/airbnb.csv')\n",
    "\n",
    "## limpiar los datos\n",
    "\n",
    "# corregir el price (tiene $ y no es numérico)\n",
    "valencia['price'] = valencia['price'].apply(lambda x: x.replace('$', '').replace(',', '')).astype('float')\n",
    "\n",
    "valencia = valencia[valencia['price']<700]\n",
    "\n",
    "\n"
   ]
  },
  {
   "cell_type": "code",
   "execution_count": 2,
   "id": "8c66bc77-affd-4dbf-83a5-5da23dde291f",
   "metadata": {
    "tags": []
   },
   "outputs": [
    {
     "data": {
      "text/html": [
       "<div>\n",
       "<style scoped>\n",
       "    .dataframe tbody tr th:only-of-type {\n",
       "        vertical-align: middle;\n",
       "    }\n",
       "\n",
       "    .dataframe tbody tr th {\n",
       "        vertical-align: top;\n",
       "    }\n",
       "\n",
       "    .dataframe thead th {\n",
       "        text-align: right;\n",
       "    }\n",
       "</style>\n",
       "<table border=\"1\" class=\"dataframe\">\n",
       "  <thead>\n",
       "    <tr style=\"text-align: right;\">\n",
       "      <th></th>\n",
       "      <th>id</th>\n",
       "      <th>listing_url</th>\n",
       "      <th>scrape_id</th>\n",
       "      <th>last_scraped</th>\n",
       "      <th>source</th>\n",
       "      <th>name</th>\n",
       "      <th>description</th>\n",
       "      <th>neighborhood_overview</th>\n",
       "      <th>picture_url</th>\n",
       "      <th>host_id</th>\n",
       "      <th>...</th>\n",
       "      <th>review_scores_communication</th>\n",
       "      <th>review_scores_location</th>\n",
       "      <th>review_scores_value</th>\n",
       "      <th>license</th>\n",
       "      <th>instant_bookable</th>\n",
       "      <th>calculated_host_listings_count</th>\n",
       "      <th>calculated_host_listings_count_entire_homes</th>\n",
       "      <th>calculated_host_listings_count_private_rooms</th>\n",
       "      <th>calculated_host_listings_count_shared_rooms</th>\n",
       "      <th>reviews_per_month</th>\n",
       "    </tr>\n",
       "  </thead>\n",
       "  <tbody>\n",
       "    <tr>\n",
       "      <th>0</th>\n",
       "      <td>55692</td>\n",
       "      <td>https://www.airbnb.com/rooms/55692</td>\n",
       "      <td>20221221170335</td>\n",
       "      <td>2022-12-22</td>\n",
       "      <td>previous scrape</td>\n",
       "      <td>Delight in city center</td>\n",
       "      <td>A great place to stay and visit Valencia.&lt;br /...</td>\n",
       "      <td>NaN</td>\n",
       "      <td>https://a0.muscache.com/pictures/329316/a5d6a7...</td>\n",
       "      <td>120649</td>\n",
       "      <td>...</td>\n",
       "      <td>5.00</td>\n",
       "      <td>5.00</td>\n",
       "      <td>5.00</td>\n",
       "      <td>NaN</td>\n",
       "      <td>f</td>\n",
       "      <td>1</td>\n",
       "      <td>1</td>\n",
       "      <td>0</td>\n",
       "      <td>0</td>\n",
       "      <td>0.01</td>\n",
       "    </tr>\n",
       "    <tr>\n",
       "      <th>1</th>\n",
       "      <td>95393</td>\n",
       "      <td>https://www.airbnb.com/rooms/95393</td>\n",
       "      <td>20221221170335</td>\n",
       "      <td>2022-12-21</td>\n",
       "      <td>city scrape</td>\n",
       "      <td>Modern and bright Duplex 3 Bedrooms Center Wi-Fi</td>\n",
       "      <td>This is \"Edificio Palomar Apartments\", I will ...</td>\n",
       "      <td>It is just 10 min walking distance to the Cath...</td>\n",
       "      <td>https://a0.muscache.com/pictures/931683/64aebc...</td>\n",
       "      <td>508042</td>\n",
       "      <td>...</td>\n",
       "      <td>4.77</td>\n",
       "      <td>4.76</td>\n",
       "      <td>4.68</td>\n",
       "      <td>31815</td>\n",
       "      <td>f</td>\n",
       "      <td>5</td>\n",
       "      <td>5</td>\n",
       "      <td>0</td>\n",
       "      <td>0</td>\n",
       "      <td>0.77</td>\n",
       "    </tr>\n",
       "    <tr>\n",
       "      <th>2</th>\n",
       "      <td>100347</td>\n",
       "      <td>https://www.airbnb.com/rooms/100347</td>\n",
       "      <td>20221221170335</td>\n",
       "      <td>2022-12-22</td>\n",
       "      <td>previous scrape</td>\n",
       "      <td>3BDR full Home at Sorolla station and Metro Jesús</td>\n",
       "      <td>Te va a encantar mi espacio por la ubicación y...</td>\n",
       "      <td>Barrio de Jesús, cercano al centro, zona conso...</td>\n",
       "      <td>https://a0.muscache.com/pictures/b0bb18e8-1f24...</td>\n",
       "      <td>1451371</td>\n",
       "      <td>...</td>\n",
       "      <td>4.90</td>\n",
       "      <td>4.80</td>\n",
       "      <td>4.65</td>\n",
       "      <td>NaN</td>\n",
       "      <td>f</td>\n",
       "      <td>1</td>\n",
       "      <td>1</td>\n",
       "      <td>0</td>\n",
       "      <td>0</td>\n",
       "      <td>2.20</td>\n",
       "    </tr>\n",
       "    <tr>\n",
       "      <th>3</th>\n",
       "      <td>102524</td>\n",
       "      <td>https://www.airbnb.com/rooms/102524</td>\n",
       "      <td>20221221170335</td>\n",
       "      <td>2022-12-21</td>\n",
       "      <td>city scrape</td>\n",
       "      <td>EXCLUSIVE VILLA WITH POOL &amp; 5 SUITES ON THE BEACH</td>\n",
       "      <td>DO NOT PARTY OR STAG/HEN PARTIES! THE RESERVAT...</td>\n",
       "      <td>Best restaurantes bars and clubs and chill out...</td>\n",
       "      <td>https://a0.muscache.com/pictures/d2019707-1596...</td>\n",
       "      <td>535881</td>\n",
       "      <td>...</td>\n",
       "      <td>4.63</td>\n",
       "      <td>4.80</td>\n",
       "      <td>4.33</td>\n",
       "      <td>VT-36438-V</td>\n",
       "      <td>f</td>\n",
       "      <td>6</td>\n",
       "      <td>5</td>\n",
       "      <td>1</td>\n",
       "      <td>0</td>\n",
       "      <td>1.31</td>\n",
       "    </tr>\n",
       "    <tr>\n",
       "      <th>4</th>\n",
       "      <td>103386</td>\n",
       "      <td>https://www.airbnb.com/rooms/103386</td>\n",
       "      <td>20221221170335</td>\n",
       "      <td>2022-12-21</td>\n",
       "      <td>city scrape</td>\n",
       "      <td>Central 2 Bedrooms, 3/5 pers. Wi-Fi</td>\n",
       "      <td>This is \"Edificio Palomar Apartments\", I will ...</td>\n",
       "      <td>It is just 10 min walking distance to the Cath...</td>\n",
       "      <td>https://a0.muscache.com/pictures/44403436/e2a9...</td>\n",
       "      <td>508042</td>\n",
       "      <td>...</td>\n",
       "      <td>4.69</td>\n",
       "      <td>4.75</td>\n",
       "      <td>4.88</td>\n",
       "      <td>31813</td>\n",
       "      <td>f</td>\n",
       "      <td>5</td>\n",
       "      <td>5</td>\n",
       "      <td>0</td>\n",
       "      <td>0</td>\n",
       "      <td>0.12</td>\n",
       "    </tr>\n",
       "  </tbody>\n",
       "</table>\n",
       "<p>5 rows × 75 columns</p>\n",
       "</div>"
      ],
      "text/plain": [
       "       id                          listing_url       scrape_id last_scraped  \\\n",
       "0   55692   https://www.airbnb.com/rooms/55692  20221221170335   2022-12-22   \n",
       "1   95393   https://www.airbnb.com/rooms/95393  20221221170335   2022-12-21   \n",
       "2  100347  https://www.airbnb.com/rooms/100347  20221221170335   2022-12-22   \n",
       "3  102524  https://www.airbnb.com/rooms/102524  20221221170335   2022-12-21   \n",
       "4  103386  https://www.airbnb.com/rooms/103386  20221221170335   2022-12-21   \n",
       "\n",
       "            source                                               name  \\\n",
       "0  previous scrape                             Delight in city center   \n",
       "1      city scrape   Modern and bright Duplex 3 Bedrooms Center Wi-Fi   \n",
       "2  previous scrape  3BDR full Home at Sorolla station and Metro Jesús   \n",
       "3      city scrape  EXCLUSIVE VILLA WITH POOL & 5 SUITES ON THE BEACH   \n",
       "4      city scrape                Central 2 Bedrooms, 3/5 pers. Wi-Fi   \n",
       "\n",
       "                                         description  \\\n",
       "0  A great place to stay and visit Valencia.<br /...   \n",
       "1  This is \"Edificio Palomar Apartments\", I will ...   \n",
       "2  Te va a encantar mi espacio por la ubicación y...   \n",
       "3  DO NOT PARTY OR STAG/HEN PARTIES! THE RESERVAT...   \n",
       "4  This is \"Edificio Palomar Apartments\", I will ...   \n",
       "\n",
       "                               neighborhood_overview  \\\n",
       "0                                                NaN   \n",
       "1  It is just 10 min walking distance to the Cath...   \n",
       "2  Barrio de Jesús, cercano al centro, zona conso...   \n",
       "3  Best restaurantes bars and clubs and chill out...   \n",
       "4  It is just 10 min walking distance to the Cath...   \n",
       "\n",
       "                                         picture_url  host_id  ...  \\\n",
       "0  https://a0.muscache.com/pictures/329316/a5d6a7...   120649  ...   \n",
       "1  https://a0.muscache.com/pictures/931683/64aebc...   508042  ...   \n",
       "2  https://a0.muscache.com/pictures/b0bb18e8-1f24...  1451371  ...   \n",
       "3  https://a0.muscache.com/pictures/d2019707-1596...   535881  ...   \n",
       "4  https://a0.muscache.com/pictures/44403436/e2a9...   508042  ...   \n",
       "\n",
       "  review_scores_communication review_scores_location review_scores_value  \\\n",
       "0                        5.00                   5.00                5.00   \n",
       "1                        4.77                   4.76                4.68   \n",
       "2                        4.90                   4.80                4.65   \n",
       "3                        4.63                   4.80                4.33   \n",
       "4                        4.69                   4.75                4.88   \n",
       "\n",
       "      license instant_bookable calculated_host_listings_count  \\\n",
       "0         NaN                f                              1   \n",
       "1       31815                f                              5   \n",
       "2         NaN                f                              1   \n",
       "3  VT-36438-V                f                              6   \n",
       "4       31813                f                              5   \n",
       "\n",
       "  calculated_host_listings_count_entire_homes  \\\n",
       "0                                           1   \n",
       "1                                           5   \n",
       "2                                           1   \n",
       "3                                           5   \n",
       "4                                           5   \n",
       "\n",
       "  calculated_host_listings_count_private_rooms  \\\n",
       "0                                            0   \n",
       "1                                            0   \n",
       "2                                            0   \n",
       "3                                            1   \n",
       "4                                            0   \n",
       "\n",
       "  calculated_host_listings_count_shared_rooms reviews_per_month  \n",
       "0                                           0              0.01  \n",
       "1                                           0              0.77  \n",
       "2                                           0              2.20  \n",
       "3                                           0              1.31  \n",
       "4                                           0              0.12  \n",
       "\n",
       "[5 rows x 75 columns]"
      ]
     },
     "execution_count": 2,
     "metadata": {},
     "output_type": "execute_result"
    }
   ],
   "source": [
    "valencia.head()"
   ]
  },
  {
   "cell_type": "code",
   "execution_count": 3,
   "id": "c4527046-23e0-4813-af0e-7cc103e9e37c",
   "metadata": {
    "tags": []
   },
   "outputs": [
    {
     "data": {
      "text/plain": [
       "Index(['id', 'listing_url', 'scrape_id', 'last_scraped', 'source', 'name',\n",
       "       'description', 'neighborhood_overview', 'picture_url', 'host_id',\n",
       "       'host_url', 'host_name', 'host_since', 'host_location', 'host_about',\n",
       "       'host_response_time', 'host_response_rate', 'host_acceptance_rate',\n",
       "       'host_is_superhost', 'host_thumbnail_url', 'host_picture_url',\n",
       "       'host_neighbourhood', 'host_listings_count',\n",
       "       'host_total_listings_count', 'host_verifications',\n",
       "       'host_has_profile_pic', 'host_identity_verified', 'neighbourhood',\n",
       "       'neighbourhood_cleansed', 'neighbourhood_group_cleansed', 'latitude',\n",
       "       'longitude', 'property_type', 'room_type', 'accommodates', 'bathrooms',\n",
       "       'bathrooms_text', 'bedrooms', 'beds', 'amenities', 'price',\n",
       "       'minimum_nights', 'maximum_nights', 'minimum_minimum_nights',\n",
       "       'maximum_minimum_nights', 'minimum_maximum_nights',\n",
       "       'maximum_maximum_nights', 'minimum_nights_avg_ntm',\n",
       "       'maximum_nights_avg_ntm', 'calendar_updated', 'has_availability',\n",
       "       'availability_30', 'availability_60', 'availability_90',\n",
       "       'availability_365', 'calendar_last_scraped', 'number_of_reviews',\n",
       "       'number_of_reviews_ltm', 'number_of_reviews_l30d', 'first_review',\n",
       "       'last_review', 'review_scores_rating', 'review_scores_accuracy',\n",
       "       'review_scores_cleanliness', 'review_scores_checkin',\n",
       "       'review_scores_communication', 'review_scores_location',\n",
       "       'review_scores_value', 'license', 'instant_bookable',\n",
       "       'calculated_host_listings_count',\n",
       "       'calculated_host_listings_count_entire_homes',\n",
       "       'calculated_host_listings_count_private_rooms',\n",
       "       'calculated_host_listings_count_shared_rooms', 'reviews_per_month'],\n",
       "      dtype='object')"
      ]
     },
     "execution_count": 3,
     "metadata": {},
     "output_type": "execute_result"
    }
   ],
   "source": [
    "valencia.columns"
   ]
  },
  {
   "cell_type": "code",
   "execution_count": 4,
   "id": "ca3ad618-83f3-49e7-81d3-060cb129cdda",
   "metadata": {
    "tags": []
   },
   "outputs": [],
   "source": [
    "valencia = valencia.drop(\n",
    "    ['id', 'listing_url', 'scrape_id', 'last_scraped', 'source', 'name',\n",
    "       'description', 'neighborhood_overview', 'picture_url', 'host_id',\n",
    "       'host_url', 'host_name', 'host_since', 'host_location', 'host_about',\n",
    "       'host_response_time', 'host_response_rate', 'host_acceptance_rate',\n",
    "       'host_is_superhost', 'host_thumbnail_url', 'host_picture_url',\n",
    "       'host_neighbourhood', 'host_listings_count',\n",
    "       'host_total_listings_count', 'host_verifications',\n",
    "       'host_has_profile_pic', 'host_identity_verified', 'neighbourhood',\n",
    "       'neighbourhood_cleansed', 'neighbourhood_group_cleansed', 'latitude',\n",
    "       'longitude', 'property_type', 'room_type', 'bathrooms',\n",
    "       'bathrooms_text',  'beds', 'amenities', \n",
    "       'minimum_nights', 'maximum_nights', 'minimum_minimum_nights',\n",
    "       'maximum_minimum_nights', 'minimum_maximum_nights',\n",
    "       'maximum_maximum_nights', 'minimum_nights_avg_ntm',\n",
    "       'maximum_nights_avg_ntm', 'calendar_updated', 'has_availability',\n",
    "       'availability_30', 'availability_60', 'availability_90',\n",
    "       'availability_365', 'calendar_last_scraped', 'number_of_reviews',\n",
    "       'number_of_reviews_ltm', 'number_of_reviews_l30d', 'first_review',\n",
    "       'last_review', 'review_scores_rating', 'review_scores_accuracy',\n",
    "       'review_scores_cleanliness', 'review_scores_checkin',\n",
    "       'review_scores_communication', 'review_scores_location',\n",
    "       'review_scores_value', 'license', 'instant_bookable',\n",
    "       'calculated_host_listings_count',\n",
    "       'calculated_host_listings_count_entire_homes',\n",
    "       'calculated_host_listings_count_private_rooms',\n",
    "       'calculated_host_listings_count_shared_rooms', 'reviews_per_month'], axis=1\n",
    ")"
   ]
  },
  {
   "cell_type": "code",
   "execution_count": 5,
   "id": "173b4d8e-fa1d-453c-ad78-214f8d2cbba6",
   "metadata": {
    "tags": []
   },
   "outputs": [
    {
     "name": "stdout",
     "output_type": "stream",
     "text": [
      "<class 'pandas.core.frame.DataFrame'>\n",
      "Int64Index: 6493 entries, 0 to 6710\n",
      "Data columns (total 3 columns):\n",
      " #   Column        Non-Null Count  Dtype  \n",
      "---  ------        --------------  -----  \n",
      " 0   accommodates  6493 non-null   int64  \n",
      " 1   bedrooms      6183 non-null   float64\n",
      " 2   price         6493 non-null   float64\n",
      "dtypes: float64(2), int64(1)\n",
      "memory usage: 202.9 KB\n"
     ]
    }
   ],
   "source": [
    "valencia.info()"
   ]
  },
  {
   "cell_type": "code",
   "execution_count": 6,
   "id": "b24de0f5-eb74-461d-870a-11fbcc6e7cfd",
   "metadata": {
    "tags": []
   },
   "outputs": [],
   "source": [
    "valencia = valencia.dropna()"
   ]
  },
  {
   "cell_type": "code",
   "execution_count": 7,
   "id": "5f7ffbf9-ca6e-41d2-bbc6-982cb6d198e5",
   "metadata": {
    "tags": []
   },
   "outputs": [],
   "source": [
    "from sklearn.model_selection import train_test_split\n",
    "\n",
    "X_train, X_test, y_train, y_test = train_test_split(valencia[[ 'bedrooms', 'accommodates']], valencia['price'], shuffle=True, test_size=0.2)"
   ]
  },
  {
   "cell_type": "code",
   "execution_count": 8,
   "id": "de7457f8-c833-4a3c-9b6b-d813e0eea927",
   "metadata": {
    "tags": []
   },
   "outputs": [],
   "source": [
    "X_train = (X_train - X_train.mean())/X_train.std()\n",
    "X_test = (X_test - X_test.mean())/X_test.std()"
   ]
  },
  {
   "cell_type": "code",
   "execution_count": 9,
   "id": "41a7f167-c7f7-40ca-82ac-45611fa2ed2f",
   "metadata": {
    "tags": []
   },
   "outputs": [
    {
     "data": {
      "text/plain": [
       "bedrooms        0\n",
       "accommodates    0\n",
       "dtype: int64"
      ]
     },
     "execution_count": 9,
     "metadata": {},
     "output_type": "execute_result"
    }
   ],
   "source": [
    "X_train.isnull().sum()"
   ]
  },
  {
   "cell_type": "code",
   "execution_count": 10,
   "id": "20cd4aa1-69d1-429d-afe0-8fc23eba5c34",
   "metadata": {
    "tags": []
   },
   "outputs": [],
   "source": [
    "from sklearn.neighbors import KNeighborsRegressor\n",
    "from sklearn.metrics import mean_squared_error"
   ]
  },
  {
   "cell_type": "code",
   "execution_count": 18,
   "id": "c5a53ab2-559e-4a3a-ba0a-382f4c8cd11c",
   "metadata": {
    "tags": []
   },
   "outputs": [
    {
     "name": "stdout",
     "output_type": "stream",
     "text": [
      "[69.3536914590534, 60.584427190885414, 58.84778983476084, 54.12915402694743, 53.20873314932904, 52.548829607556875, 51.28198809775589, 50.53953369432002, 50.31404111070991, 50.33787279704625, 50.51469992272053, 50.182568299753164, 50.037984433695534, 50.0840173238242, 49.91659477596089, 49.79775502686218, 49.91306625488942, 49.497231212022015, 49.363643164543646, 49.64123874740964, 49.65036643646809, 49.78359552599257, 49.78754241777528, 49.76934717526908, 49.77610323502855, 49.800382463968035, 50.013563094379265, 49.91764349938917, 49.631729597935845, 49.6965458625809, 49.697733957227314, 49.64908717646813, 49.74974363927359, 49.717127827580455, 49.746013975935, 49.77524158331202, 49.64225878435019, 49.609127428085536, 49.562430065845085, 49.76438903884594, 49.58397370399015, 49.62345918450658, 49.68991073954467, 49.45443973892289, 49.51388933600268, 49.48352779067918, 49.58682355352749, 49.541217230483156, 49.715731022912536, 49.74476128291302, 49.64414459595511, 49.556282695429815, 49.725605780411925, 49.57155354594637, 49.65599627817236, 49.70155805270295, 49.696779366527785, 49.63295864339385, 49.7049421035535, 49.66554432823864, 49.63604250740903, 49.612201220593136, 49.601776279589096, 49.58368128488356, 49.69228356055818, 49.73978295855958, 49.68085333014878, 49.64913985912056, 49.54022451316855, 49.637176816676714, 49.54784351956048, 49.68935028188676, 49.69298456617722, 49.671974894320066, 49.64348807139345, 49.65326299804635, 49.659908808814706, 49.67136250044731, 49.680370485917635, 49.70985044012893, 49.695286703754235, 49.720764796996505, 49.70002637427015, 49.70166814032445, 49.64961107521521, 49.63131050515744, 49.67429627047095, 49.6261162748813, 49.730476878723934, 49.751597699406624, 49.761591797604, 49.739341440315556, 49.73579642440659, 49.75032626178302, 49.761457020563725, 49.73263729995047, 49.7160526734402, 49.685114471737954, 49.668445758530154]\n"
     ]
    }
   ],
   "source": [
    "rmse_values = []\n",
    "\n",
    "for k in range(1,100):\n",
    "    knn = KNeighborsRegressor(n_neighbors=k)\n",
    "    knn.fit(X_train, y_train)\n",
    "    predictions = knn.predict(X_test)\n",
    "    rmse_values.append(mean_squared_error(predictions, y_test)**0.5)\n",
    "    \n",
    "print(rmse_values)"
   ]
  },
  {
   "cell_type": "code",
   "execution_count": 16,
   "id": "e713dc34-47e4-459c-b2ed-dcd008155de7",
   "metadata": {
    "tags": []
   },
   "outputs": [],
   "source": [
    "import matplotlib.pyplot as plt"
   ]
  },
  {
   "cell_type": "code",
   "execution_count": 19,
   "id": "8a065990-638b-45f0-88fe-eac706776bb5",
   "metadata": {
    "tags": []
   },
   "outputs": [
    {
     "data": {
      "text/plain": [
       "<matplotlib.collections.PathCollection at 0x168a634c0>"
      ]
     },
     "execution_count": 19,
     "metadata": {},
     "output_type": "execute_result"
    },
    {
     "data": {
      "image/png": "[encoded data removed]",
      "text/plain": [
       "<Figure size 640x480 with 1 Axes>"
      ]
     },
     "metadata": {},
     "output_type": "display_data"
    }
   ],
   "source": [
    "plt.scatter(range(1,100), rmse_values)\n"
   ]
  },
  {
   "cell_type": "code",
   "execution_count": 20,
   "id": "688781c0-3b0a-43b0-9854-58e69cacade3",
   "metadata": {
    "tags": []
   },
   "outputs": [
    {
     "name": "stdout",
     "output_type": "stream",
     "text": [
      "[69.3536914590534, 60.50430245269337, 58.74916309938507, 54.041238556766956, 53.149877784748384, 52.58289349155767, 51.24204329751079, 50.50882028859795, 50.27487890708107, 50.29217024528071, 50.568677180723746, 50.205790790035884, 50.05391384700003, 50.0993177385877, 49.954702457952436, 49.85676101599079, 49.9372182224828, 49.54826290337552, 49.438730961014656, 49.710095283801245, 49.71157596008155, 49.790360200533975, 49.785555935763426, 49.78832989487048, 49.78280534395057, 49.8326273379846, 49.991617033838054, 49.935968719022114, 49.68046655003107, 49.74206967075182, 49.74667365919741, 49.72410268632358, 49.820571668323694, 49.791371779864164, 49.83644979776462, 49.85086297528581, 49.742424571630515, 49.70400291861124, 49.68156274441889, 49.84870403966117, 49.669499224228794, 49.70548423793591, 49.740476199556454, 49.53600435629254, 49.56538552673499, 49.53285394365584, 49.61696451377041, 49.58259403739062, 49.73759799609739, 49.7431747714226, 49.67872463972302, 49.60242608781191, 49.737882966390416, 49.598244801067416, 49.64274322244184, 49.67946145103527, 49.68375520443357, 49.627127614017965, 49.699335392587194, 49.654565744781515, 49.62038429830036, 49.60050151328847, 49.59219693949378, 49.57493632483833, 49.67989124815145, 49.72139892155357, 49.67863918415755, 49.64619553270642, 49.566208020394384, 49.63068514231742, 49.544801434166445, 49.67845557238366, 49.66657994860205, 49.676886814413486, 49.64879693614777, 49.62416495109878, 49.618625604260274, 49.64278012020482, 49.658788578856836, 49.671212740546146, 49.64294221866506, 49.63854495174546, 49.60325732499374, 49.608488793970984, 49.57808202404774, 49.57509717865196, 49.60514177561808, 49.575109822365256, 49.63955278288641, 49.6417489863237, 49.651629396199944, 49.64277466925872, 49.6333037322776, 49.65581466593759, 49.65324953742898, 49.63141601591233, 49.62669751986765, 49.604050663805545, 49.59100867640648]\n"
     ]
    }
   ],
   "source": [
    "rmse_values = []\n",
    "\n",
    "for k in range(1,100):\n",
    "    knn = KNeighborsRegressor(n_neighbors=k, weights='distance')\n",
    "    knn.fit(X_train, y_train)\n",
    "    predictions = knn.predict(X_test)\n",
    "    rmse_values.append(mean_squared_error(predictions, y_test)**0.5)\n",
    "    \n",
    "print(rmse_values)"
   ]
  },
  {
   "cell_type": "code",
   "execution_count": 21,
   "id": "8fdb1873-75e2-48a7-aa90-d9df6296514f",
   "metadata": {
    "tags": []
   },
   "outputs": [
    {
     "data": {
      "text/plain": [
       "<matplotlib.collections.PathCollection at 0x168f15070>"
      ]
     },
     "execution_count": 21,
     "metadata": {},
     "output_type": "execute_result"
    },
    {
     "data": {
      "image/png": "[encoded data removed]",
      "text/plain": [
       "<Figure size 640x480 with 1 Axes>"
      ]
     },
     "metadata": {},
     "output_type": "display_data"
    }
   ],
   "source": [
    "plt.scatter(range(1,100), rmse_values)"
   ]
  },
  {
   "cell_type": "markdown",
   "id": "ca09933b-7df1-4b33-b0a8-313b81e46e12",
   "metadata": {},
   "source": [
    "# Validación cruzada\n",
    "\n",
    "# holdout validation\n",
    "\n",
    "- Dividimos el conjunto en dos particiones (A, B)\n",
    "- Usamos A como train y B como test\n",
    "- Usamos B como test y A como train \n",
    "- Promediamos los resultados de error\n",
    "\n"
   ]
  },
  {
   "cell_type": "code",
   "execution_count": 22,
   "id": "7f875883-1b3a-4e58-9dbb-1cebafef048c",
   "metadata": {
    "tags": []
   },
   "outputs": [
    {
     "name": "stdout",
     "output_type": "stream",
     "text": [
      "<class 'pandas.core.frame.DataFrame'>\n",
      "Int64Index: 6183 entries, 0 to 6710\n",
      "Data columns (total 3 columns):\n",
      " #   Column        Non-Null Count  Dtype  \n",
      "---  ------        --------------  -----  \n",
      " 0   accommodates  6183 non-null   int64  \n",
      " 1   bedrooms      6183 non-null   float64\n",
      " 2   price         6183 non-null   float64\n",
      "dtypes: float64(2), int64(1)\n",
      "memory usage: 193.2 KB\n"
     ]
    }
   ],
   "source": [
    "valencia.info()"
   ]
  },
  {
   "cell_type": "code",
   "execution_count": 23,
   "id": "793e4254-363f-489f-8717-cbe2f9431dbe",
   "metadata": {
    "tags": []
   },
   "outputs": [],
   "source": [
    "split = math.trunc(len(valencia)/2) # una posibilidad"
   ]
  },
  {
   "cell_type": "code",
   "execution_count": 25,
   "id": "baebc233-10b7-45df-a0dc-bf07df0ba0d8",
   "metadata": {
    "tags": []
   },
   "outputs": [],
   "source": [
    "X_A, X_B, y_A, y_B = train_test_split(valencia[[ 'bedrooms', 'accommodates']], valencia['price'], shuffle=True, test_size=0.5)"
   ]
  },
  {
   "cell_type": "code",
   "execution_count": 26,
   "id": "8bb97e36-8d94-40a2-b0b0-4af6a566a010",
   "metadata": {
    "tags": []
   },
   "outputs": [
    {
     "data": {
      "text/plain": [
       "3091"
      ]
     },
     "execution_count": 26,
     "metadata": {},
     "output_type": "execute_result"
    }
   ],
   "source": [
    "len(X_A)"
   ]
  },
  {
   "cell_type": "code",
   "execution_count": 27,
   "id": "b6f46ff7-e921-441b-9c7a-91da48403f10",
   "metadata": {
    "tags": []
   },
   "outputs": [
    {
     "data": {
      "text/plain": [
       "3092"
      ]
     },
     "execution_count": 27,
     "metadata": {},
     "output_type": "execute_result"
    }
   ],
   "source": [
    "len(X_B)"
   ]
  },
  {
   "cell_type": "code",
   "execution_count": 28,
   "id": "7193783a-b558-40cc-a296-78d18406f1a0",
   "metadata": {
    "tags": []
   },
   "outputs": [
    {
     "data": {
      "text/html": [
       "<style>#sk-container-id-1 {color: black;background-color: white;}#sk-container-id-1 pre{padding: 0;}#sk-container-id-1 div.sk-toggleable {background-color: white;}#sk-container-id-1 label.sk-toggleable__label {cursor: pointer;display: block;width: 100%;margin-bottom: 0;padding: 0.3em;box-sizing: border-box;text-align: center;}#sk-container-id-1 label.sk-toggleable__label-arrow:before {content: \"▸\";float: left;margin-right: 0.25em;color: #696969;}#sk-container-id-1 label.sk-toggleable__label-arrow:hover:before {color: black;}#sk-container-id-1 div.sk-estimator:hover label.sk-toggleable__label-arrow:before {color: black;}#sk-container-id-1 div.sk-toggleable__content {max-height: 0;max-width: 0;overflow: hidden;text-align: left;background-color: #f0f8ff;}#sk-container-id-1 div.sk-toggleable__content pre {margin: 0.2em;color: black;border-radius: 0.25em;background-color: #f0f8ff;}#sk-container-id-1 input.sk-toggleable__control:checked~div.sk-toggleable__content {max-height: 200px;max-width: 100%;overflow: auto;}#sk-container-id-1 input.sk-toggleable__control:checked~label.sk-toggleable__label-arrow:before {content: \"▾\";}#sk-container-id-1 div.sk-estimator input.sk-toggleable__control:checked~label.sk-toggleable__label {background-color: #d4ebff;}#sk-container-id-1 div.sk-label input.sk-toggleable__control:checked~label.sk-toggleable__label {background-color: #d4ebff;}#sk-container-id-1 input.sk-hidden--visually {border: 0;clip: rect(1px 1px 1px 1px);clip: rect(1px, 1px, 1px, 1px);height: 1px;margin: -1px;overflow: hidden;padding: 0;position: absolute;width: 1px;}#sk-container-id-1 div.sk-estimator {font-family: monospace;background-color: #f0f8ff;border: 1px dotted black;border-radius: 0.25em;box-sizing: border-box;margin-bottom: 0.5em;}#sk-container-id-1 div.sk-estimator:hover {background-color: #d4ebff;}#sk-container-id-1 div.sk-parallel-item::after {content: \"\";width: 100%;border-bottom: 1px solid gray;flex-grow: 1;}#sk-container-id-1 div.sk-label:hover label.sk-toggleable__label {background-color: #d4ebff;}#sk-container-id-1 div.sk-serial::before {content: \"\";position: absolute;border-left: 1px solid gray;box-sizing: border-box;top: 0;bottom: 0;left: 50%;z-index: 0;}#sk-container-id-1 div.sk-serial {display: flex;flex-direction: column;align-items: center;background-color: white;padding-right: 0.2em;padding-left: 0.2em;position: relative;}#sk-container-id-1 div.sk-item {position: relative;z-index: 1;}#sk-container-id-1 div.sk-parallel {display: flex;align-items: stretch;justify-content: center;background-color: white;position: relative;}#sk-container-id-1 div.sk-item::before, #sk-container-id-1 div.sk-parallel-item::before {content: \"\";position: absolute;border-left: 1px solid gray;box-sizing: border-box;top: 0;bottom: 0;left: 50%;z-index: -1;}#sk-container-id-1 div.sk-parallel-item {display: flex;flex-direction: column;z-index: 1;position: relative;background-color: white;}#sk-container-id-1 div.sk-parallel-item:first-child::after {align-self: flex-end;width: 50%;}#sk-container-id-1 div.sk-parallel-item:last-child::after {align-self: flex-start;width: 50%;}#sk-container-id-1 div.sk-parallel-item:only-child::after {width: 0;}#sk-container-id-1 div.sk-dashed-wrapped {border: 1px dashed gray;margin: 0 0.4em 0.5em 0.4em;box-sizing: border-box;padding-bottom: 0.4em;background-color: white;}#sk-container-id-1 div.sk-label label {font-family: monospace;font-weight: bold;display: inline-block;line-height: 1.2em;}#sk-container-id-1 div.sk-label-container {text-align: center;}#sk-container-id-1 div.sk-container {/* jupyter's `normalize.less` sets `[hidden] { display: none; }` but bootstrap.min.css set `[hidden] { display: none !important; }` so we also need the `!important` here to be able to override the default hidden behavior on the sphinx rendered scikit-learn.org. See: https://github.com/scikit-learn/scikit-learn/issues/21755 */display: inline-block !important;position: relative;}#sk-container-id-1 div.sk-text-repr-fallback {display: none;}</style><div id=\"sk-container-id-1\" class=\"sk-top-container\"><div class=\"sk-text-repr-fallback\"><pre>KNeighborsRegressor()</pre><b>In a Jupyter environment, please rerun this cell to show the HTML representation or trust the notebook. <br />On GitHub, the HTML representation is unable to render, please try loading this page with nbviewer.org.</b></div><div class=\"sk-container\" hidden><div class=\"sk-item\"><div class=\"sk-estimator sk-toggleable\"><input class=\"sk-toggleable__control sk-hidden--visually\" id=\"sk-estimator-id-1\" type=\"checkbox\" checked><label for=\"sk-estimator-id-1\" class=\"sk-toggleable__label sk-toggleable__label-arrow\">KNeighborsRegressor</label><div class=\"sk-toggleable__content\"><pre>KNeighborsRegressor()</pre></div></div></div></div></div>"
      ],
      "text/plain": [
       "KNeighborsRegressor()"
      ]
     },
     "execution_count": 28,
     "metadata": {},
     "output_type": "execute_result"
    }
   ],
   "source": [
    "knn_ho = KNeighborsRegressor()\n",
    "knn_ho.fit(\n",
    "    X_A,\n",
    "    y_A\n",
    ")"
   ]
  },
  {
   "cell_type": "code",
   "execution_count": 29,
   "id": "5e208495-da4b-46d3-a5c5-4962c827042b",
   "metadata": {
    "tags": []
   },
   "outputs": [],
   "source": [
    "pred_A = knn_ho.predict(X_B)\n"
   ]
  },
  {
   "cell_type": "code",
   "execution_count": 31,
   "id": "e2b49829-2a4f-497d-bcf6-1f9192823f53",
   "metadata": {
    "tags": []
   },
   "outputs": [],
   "source": [
    "rmse_1 = mean_squared_error(y_B, pred_A)**0.5"
   ]
  },
  {
   "cell_type": "code",
   "execution_count": 32,
   "id": "41ddd9ae-4c56-4921-9f73-ea8047c85b9d",
   "metadata": {
    "tags": []
   },
   "outputs": [
    {
     "data": {
      "text/plain": [
       "55.99550137076424"
      ]
     },
     "execution_count": 32,
     "metadata": {},
     "output_type": "execute_result"
    }
   ],
   "source": [
    "rmse_1"
   ]
  },
  {
   "cell_type": "code",
   "execution_count": 33,
   "id": "80750922-6c6e-443e-ae1c-13787324ae10",
   "metadata": {
    "tags": []
   },
   "outputs": [
    {
     "data": {
      "text/html": [
       "<style>#sk-container-id-2 {color: black;background-color: white;}#sk-container-id-2 pre{padding: 0;}#sk-container-id-2 div.sk-toggleable {background-color: white;}#sk-container-id-2 label.sk-toggleable__label {cursor: pointer;display: block;width: 100%;margin-bottom: 0;padding: 0.3em;box-sizing: border-box;text-align: center;}#sk-container-id-2 label.sk-toggleable__label-arrow:before {content: \"▸\";float: left;margin-right: 0.25em;color: #696969;}#sk-container-id-2 label.sk-toggleable__label-arrow:hover:before {color: black;}#sk-container-id-2 div.sk-estimator:hover label.sk-toggleable__label-arrow:before {color: black;}#sk-container-id-2 div.sk-toggleable__content {max-height: 0;max-width: 0;overflow: hidden;text-align: left;background-color: #f0f8ff;}#sk-container-id-2 div.sk-toggleable__content pre {margin: 0.2em;color: black;border-radius: 0.25em;background-color: #f0f8ff;}#sk-container-id-2 input.sk-toggleable__control:checked~div.sk-toggleable__content {max-height: 200px;max-width: 100%;overflow: auto;}#sk-container-id-2 input.sk-toggleable__control:checked~label.sk-toggleable__label-arrow:before {content: \"▾\";}#sk-container-id-2 div.sk-estimator input.sk-toggleable__control:checked~label.sk-toggleable__label {background-color: #d4ebff;}#sk-container-id-2 div.sk-label input.sk-toggleable__control:checked~label.sk-toggleable__label {background-color: #d4ebff;}#sk-container-id-2 input.sk-hidden--visually {border: 0;clip: rect(1px 1px 1px 1px);clip: rect(1px, 1px, 1px, 1px);height: 1px;margin: -1px;overflow: hidden;padding: 0;position: absolute;width: 1px;}#sk-container-id-2 div.sk-estimator {font-family: monospace;background-color: #f0f8ff;border: 1px dotted black;border-radius: 0.25em;box-sizing: border-box;margin-bottom: 0.5em;}#sk-container-id-2 div.sk-estimator:hover {background-color: #d4ebff;}#sk-container-id-2 div.sk-parallel-item::after {content: \"\";width: 100%;border-bottom: 1px solid gray;flex-grow: 1;}#sk-container-id-2 div.sk-label:hover label.sk-toggleable__label {background-color: #d4ebff;}#sk-container-id-2 div.sk-serial::before {content: \"\";position: absolute;border-left: 1px solid gray;box-sizing: border-box;top: 0;bottom: 0;left: 50%;z-index: 0;}#sk-container-id-2 div.sk-serial {display: flex;flex-direction: column;align-items: center;background-color: white;padding-right: 0.2em;padding-left: 0.2em;position: relative;}#sk-container-id-2 div.sk-item {position: relative;z-index: 1;}#sk-container-id-2 div.sk-parallel {display: flex;align-items: stretch;justify-content: center;background-color: white;position: relative;}#sk-container-id-2 div.sk-item::before, #sk-container-id-2 div.sk-parallel-item::before {content: \"\";position: absolute;border-left: 1px solid gray;box-sizing: border-box;top: 0;bottom: 0;left: 50%;z-index: -1;}#sk-container-id-2 div.sk-parallel-item {display: flex;flex-direction: column;z-index: 1;position: relative;background-color: white;}#sk-container-id-2 div.sk-parallel-item:first-child::after {align-self: flex-end;width: 50%;}#sk-container-id-2 div.sk-parallel-item:last-child::after {align-self: flex-start;width: 50%;}#sk-container-id-2 div.sk-parallel-item:only-child::after {width: 0;}#sk-container-id-2 div.sk-dashed-wrapped {border: 1px dashed gray;margin: 0 0.4em 0.5em 0.4em;box-sizing: border-box;padding-bottom: 0.4em;background-color: white;}#sk-container-id-2 div.sk-label label {font-family: monospace;font-weight: bold;display: inline-block;line-height: 1.2em;}#sk-container-id-2 div.sk-label-container {text-align: center;}#sk-container-id-2 div.sk-container {/* jupyter's `normalize.less` sets `[hidden] { display: none; }` but bootstrap.min.css set `[hidden] { display: none !important; }` so we also need the `!important` here to be able to override the default hidden behavior on the sphinx rendered scikit-learn.org. See: https://github.com/scikit-learn/scikit-learn/issues/21755 */display: inline-block !important;position: relative;}#sk-container-id-2 div.sk-text-repr-fallback {display: none;}</style><div id=\"sk-container-id-2\" class=\"sk-top-container\"><div class=\"sk-text-repr-fallback\"><pre>KNeighborsRegressor()</pre><b>In a Jupyter environment, please rerun this cell to show the HTML representation or trust the notebook. <br />On GitHub, the HTML representation is unable to render, please try loading this page with nbviewer.org.</b></div><div class=\"sk-container\" hidden><div class=\"sk-item\"><div class=\"sk-estimator sk-toggleable\"><input class=\"sk-toggleable__control sk-hidden--visually\" id=\"sk-estimator-id-2\" type=\"checkbox\" checked><label for=\"sk-estimator-id-2\" class=\"sk-toggleable__label sk-toggleable__label-arrow\">KNeighborsRegressor</label><div class=\"sk-toggleable__content\"><pre>KNeighborsRegressor()</pre></div></div></div></div></div>"
      ],
      "text/plain": [
       "KNeighborsRegressor()"
      ]
     },
     "execution_count": 33,
     "metadata": {},
     "output_type": "execute_result"
    }
   ],
   "source": [
    "knn_ho.fit(\n",
    "    X_B,\n",
    "    y_B\n",
    ")"
   ]
  },
  {
   "cell_type": "code",
   "execution_count": 34,
   "id": "6a34e7b5-2e82-4811-96a6-1d4747125c25",
   "metadata": {
    "tags": []
   },
   "outputs": [],
   "source": [
    "pred_2 = knn_ho.predict(X_A)"
   ]
  },
  {
   "cell_type": "code",
   "execution_count": 37,
   "id": "9625f3fc-3e2c-4049-a56a-002923b0f479",
   "metadata": {
    "tags": []
   },
   "outputs": [],
   "source": [
    "rmse_2 = mean_squared_error(y_A, pred_2)**0.5"
   ]
  },
  {
   "cell_type": "code",
   "execution_count": 38,
   "id": "f60a736f-5e43-4a5c-a651-b0f59a8b1c6f",
   "metadata": {
    "tags": []
   },
   "outputs": [
    {
     "data": {
      "text/plain": [
       "58.02800621999137"
      ]
     },
     "execution_count": 38,
     "metadata": {},
     "output_type": "execute_result"
    }
   ],
   "source": [
    "rmse_2 "
   ]
  },
  {
   "cell_type": "code",
   "execution_count": 39,
   "id": "2d786a66-6687-4925-adac-4f02a0a8f434",
   "metadata": {
    "tags": []
   },
   "outputs": [],
   "source": [
    "rmse = (rmse_1+rmse_2) / 2"
   ]
  },
  {
   "cell_type": "code",
   "execution_count": 41,
   "id": "6e0a6d30-df9f-4efe-98d7-f744f9b4cca8",
   "metadata": {
    "tags": []
   },
   "outputs": [
    {
     "data": {
      "text/plain": [
       "57.0117537953778"
      ]
     },
     "execution_count": 41,
     "metadata": {},
     "output_type": "execute_result"
    }
   ],
   "source": [
    "rmse"
   ]
  },
  {
   "cell_type": "markdown",
   "id": "a59c70c5-4597-48d6-88db-d24322cee605",
   "metadata": {},
   "source": [
    "# k-fold validation\n",
    "\n",
    "- Dividimos el conjunto en k particiones\n",
    "- Para cada k:\n",
    "    Usamos la k-ésima partición como test y el resto como train\n",
    "- Promediamos los resultado de error\n"
   ]
  },
  {
   "cell_type": "code",
   "execution_count": 42,
   "id": "b842c4b5-4169-4510-9b5d-fb1270d897f1",
   "metadata": {
    "tags": []
   },
   "outputs": [],
   "source": [
    "k_split = math.trunc(len(valencia)/5)"
   ]
  },
  {
   "cell_type": "code",
   "execution_count": 43,
   "id": "9694ea12-27db-4443-996c-7e61e905aa1d",
   "metadata": {
    "tags": []
   },
   "outputs": [
    {
     "data": {
      "text/plain": [
       "1236"
      ]
     },
     "execution_count": 43,
     "metadata": {},
     "output_type": "execute_result"
    }
   ],
   "source": [
    "k_split"
   ]
  },
  {
   "cell_type": "code",
   "execution_count": 45,
   "id": "1fcedbb5-4149-4957-b142-de51f49bb37d",
   "metadata": {
    "tags": []
   },
   "outputs": [],
   "source": [
    "# barajar\n",
    "np.random.seed(398943)\n",
    "valencia = valencia.iloc[\n",
    "    np.random.permutation(len(valencia))\n",
    "]\n",
    "        "
   ]
  },
  {
   "cell_type": "code",
   "execution_count": 46,
   "id": "8952603d-c62e-4ec5-849d-e6115492ca17",
   "metadata": {
    "tags": []
   },
   "outputs": [
    {
     "data": {
      "text/html": [
       "<div>\n",
       "<style scoped>\n",
       "    .dataframe tbody tr th:only-of-type {\n",
       "        vertical-align: middle;\n",
       "    }\n",
       "\n",
       "    .dataframe tbody tr th {\n",
       "        vertical-align: top;\n",
       "    }\n",
       "\n",
       "    .dataframe thead th {\n",
       "        text-align: right;\n",
       "    }\n",
       "</style>\n",
       "<table border=\"1\" class=\"dataframe\">\n",
       "  <thead>\n",
       "    <tr style=\"text-align: right;\">\n",
       "      <th></th>\n",
       "      <th>accommodates</th>\n",
       "      <th>bedrooms</th>\n",
       "      <th>price</th>\n",
       "    </tr>\n",
       "  </thead>\n",
       "  <tbody>\n",
       "    <tr>\n",
       "      <th>3669</th>\n",
       "      <td>6</td>\n",
       "      <td>2.0</td>\n",
       "      <td>115.0</td>\n",
       "    </tr>\n",
       "    <tr>\n",
       "      <th>3398</th>\n",
       "      <td>2</td>\n",
       "      <td>1.0</td>\n",
       "      <td>31.0</td>\n",
       "    </tr>\n",
       "    <tr>\n",
       "      <th>889</th>\n",
       "      <td>4</td>\n",
       "      <td>4.0</td>\n",
       "      <td>209.0</td>\n",
       "    </tr>\n",
       "    <tr>\n",
       "      <th>3217</th>\n",
       "      <td>2</td>\n",
       "      <td>1.0</td>\n",
       "      <td>95.0</td>\n",
       "    </tr>\n",
       "    <tr>\n",
       "      <th>6444</th>\n",
       "      <td>4</td>\n",
       "      <td>3.0</td>\n",
       "      <td>70.0</td>\n",
       "    </tr>\n",
       "  </tbody>\n",
       "</table>\n",
       "</div>"
      ],
      "text/plain": [
       "      accommodates  bedrooms  price\n",
       "3669             6       2.0  115.0\n",
       "3398             2       1.0   31.0\n",
       "889              4       4.0  209.0\n",
       "3217             2       1.0   95.0\n",
       "6444             4       3.0   70.0"
      ]
     },
     "execution_count": 46,
     "metadata": {},
     "output_type": "execute_result"
    }
   ],
   "source": [
    "valencia.head()"
   ]
  },
  {
   "cell_type": "code",
   "execution_count": 92,
   "id": "5c31b93a-2fc8-4ccb-87ee-a077568674c7",
   "metadata": {
    "tags": []
   },
   "outputs": [],
   "source": [
    "df = valencia.copy()\n",
    "\n",
    "k_split = math.trunc(len(valencia)/10)\n",
    "\n",
    "for i in range(0,10):\n",
    "    df.loc[df.index[(k_split*i):(k_split*(i+1) if i<9 else len(df))], 'fold'] = i+1"
   ]
  },
  {
   "cell_type": "code",
   "execution_count": 93,
   "id": "f702826d-9bc4-4507-a64e-8bb36cf9f86a",
   "metadata": {
    "tags": []
   },
   "outputs": [
    {
     "data": {
      "text/html": [
       "<div>\n",
       "<style scoped>\n",
       "    .dataframe tbody tr th:only-of-type {\n",
       "        vertical-align: middle;\n",
       "    }\n",
       "\n",
       "    .dataframe tbody tr th {\n",
       "        vertical-align: top;\n",
       "    }\n",
       "\n",
       "    .dataframe thead th {\n",
       "        text-align: right;\n",
       "    }\n",
       "</style>\n",
       "<table border=\"1\" class=\"dataframe\">\n",
       "  <thead>\n",
       "    <tr style=\"text-align: right;\">\n",
       "      <th></th>\n",
       "      <th>accommodates</th>\n",
       "      <th>bedrooms</th>\n",
       "      <th>price</th>\n",
       "      <th>fold</th>\n",
       "    </tr>\n",
       "  </thead>\n",
       "  <tbody>\n",
       "    <tr>\n",
       "      <th>3669</th>\n",
       "      <td>6</td>\n",
       "      <td>2.0</td>\n",
       "      <td>115.0</td>\n",
       "      <td>1.0</td>\n",
       "    </tr>\n",
       "    <tr>\n",
       "      <th>3398</th>\n",
       "      <td>2</td>\n",
       "      <td>1.0</td>\n",
       "      <td>31.0</td>\n",
       "      <td>1.0</td>\n",
       "    </tr>\n",
       "    <tr>\n",
       "      <th>889</th>\n",
       "      <td>4</td>\n",
       "      <td>4.0</td>\n",
       "      <td>209.0</td>\n",
       "      <td>1.0</td>\n",
       "    </tr>\n",
       "    <tr>\n",
       "      <th>3217</th>\n",
       "      <td>2</td>\n",
       "      <td>1.0</td>\n",
       "      <td>95.0</td>\n",
       "      <td>1.0</td>\n",
       "    </tr>\n",
       "    <tr>\n",
       "      <th>6444</th>\n",
       "      <td>4</td>\n",
       "      <td>3.0</td>\n",
       "      <td>70.0</td>\n",
       "      <td>1.0</td>\n",
       "    </tr>\n",
       "  </tbody>\n",
       "</table>\n",
       "</div>"
      ],
      "text/plain": [
       "      accommodates  bedrooms  price  fold\n",
       "3669             6       2.0  115.0   1.0\n",
       "3398             2       1.0   31.0   1.0\n",
       "889              4       4.0  209.0   1.0\n",
       "3217             2       1.0   95.0   1.0\n",
       "6444             4       3.0   70.0   1.0"
      ]
     },
     "execution_count": 93,
     "metadata": {},
     "output_type": "execute_result"
    }
   ],
   "source": [
    "df.head()"
   ]
  },
  {
   "cell_type": "code",
   "execution_count": 94,
   "id": "f02f5dfd-0d1c-43cc-a4c4-d7be817c73ec",
   "metadata": {
    "tags": []
   },
   "outputs": [
    {
     "data": {
      "text/html": [
       "<div>\n",
       "<style scoped>\n",
       "    .dataframe tbody tr th:only-of-type {\n",
       "        vertical-align: middle;\n",
       "    }\n",
       "\n",
       "    .dataframe tbody tr th {\n",
       "        vertical-align: top;\n",
       "    }\n",
       "\n",
       "    .dataframe thead th {\n",
       "        text-align: right;\n",
       "    }\n",
       "</style>\n",
       "<table border=\"1\" class=\"dataframe\">\n",
       "  <thead>\n",
       "    <tr style=\"text-align: right;\">\n",
       "      <th></th>\n",
       "      <th>accommodates</th>\n",
       "      <th>bedrooms</th>\n",
       "      <th>price</th>\n",
       "      <th>fold</th>\n",
       "    </tr>\n",
       "  </thead>\n",
       "  <tbody>\n",
       "    <tr>\n",
       "      <th>510</th>\n",
       "      <td>2</td>\n",
       "      <td>1.0</td>\n",
       "      <td>81.0</td>\n",
       "      <td>10.0</td>\n",
       "    </tr>\n",
       "    <tr>\n",
       "      <th>4866</th>\n",
       "      <td>5</td>\n",
       "      <td>2.0</td>\n",
       "      <td>103.0</td>\n",
       "      <td>10.0</td>\n",
       "    </tr>\n",
       "    <tr>\n",
       "      <th>4094</th>\n",
       "      <td>5</td>\n",
       "      <td>2.0</td>\n",
       "      <td>64.0</td>\n",
       "      <td>10.0</td>\n",
       "    </tr>\n",
       "    <tr>\n",
       "      <th>268</th>\n",
       "      <td>7</td>\n",
       "      <td>3.0</td>\n",
       "      <td>60.0</td>\n",
       "      <td>10.0</td>\n",
       "    </tr>\n",
       "    <tr>\n",
       "      <th>4622</th>\n",
       "      <td>6</td>\n",
       "      <td>3.0</td>\n",
       "      <td>146.0</td>\n",
       "      <td>10.0</td>\n",
       "    </tr>\n",
       "  </tbody>\n",
       "</table>\n",
       "</div>"
      ],
      "text/plain": [
       "      accommodates  bedrooms  price  fold\n",
       "510              2       1.0   81.0  10.0\n",
       "4866             5       2.0  103.0  10.0\n",
       "4094             5       2.0   64.0  10.0\n",
       "268              7       3.0   60.0  10.0\n",
       "4622             6       3.0  146.0  10.0"
      ]
     },
     "execution_count": 94,
     "metadata": {},
     "output_type": "execute_result"
    }
   ],
   "source": [
    "df.tail()"
   ]
  },
  {
   "cell_type": "code",
   "execution_count": 95,
   "id": "02e52067-9b43-4758-8aa3-5b90e2e23952",
   "metadata": {
    "tags": []
   },
   "outputs": [
    {
     "data": {
      "text/plain": [
       "618"
      ]
     },
     "execution_count": 95,
     "metadata": {},
     "output_type": "execute_result"
    }
   ],
   "source": [
    "(df['fold'] == 3).sum()"
   ]
  },
  {
   "cell_type": "code",
   "execution_count": 96,
   "id": "8f28e191-820c-4e10-8605-cbdf55e0d24c",
   "metadata": {
    "tags": []
   },
   "outputs": [
    {
     "data": {
      "text/plain": [
       "10.0    621\n",
       "1.0     618\n",
       "2.0     618\n",
       "3.0     618\n",
       "4.0     618\n",
       "5.0     618\n",
       "6.0     618\n",
       "7.0     618\n",
       "8.0     618\n",
       "9.0     618\n",
       "Name: fold, dtype: int64"
      ]
     },
     "execution_count": 96,
     "metadata": {},
     "output_type": "execute_result"
    }
   ],
   "source": [
    "df['fold'].value_counts()"
   ]
  },
  {
   "cell_type": "code",
   "execution_count": 97,
   "id": "85fac8da-52a6-4c63-bbcc-732461fd563e",
   "metadata": {
    "tags": []
   },
   "outputs": [],
   "source": [
    "rmse_list = []\n",
    "\n",
    "for i in range(1,11):\n",
    "    knn = KNeighborsRegressor()\n",
    "    knn.fit(\n",
    "        df[df['fold'] != i][['accommodates', 'bedrooms']],\n",
    "        df[df['fold'] != i]['price']\n",
    "    )\n",
    "    pred = knn.predict(df[df['fold']==i][['accommodates', 'bedrooms']])\n",
    "    rmse = mean_squared_error(df[df['fold']==i]['price'], pred)**0.5\n",
    "    rmse_list.append(rmse)\n",
    "    \n",
    "    \n",
    "    "
   ]
  },
  {
   "cell_type": "code",
   "execution_count": 98,
   "id": "c31e52b3-858e-41aa-9346-6c3c5fd425a9",
   "metadata": {
    "tags": []
   },
   "outputs": [
    {
     "data": {
      "text/plain": [
       "[60.84381084462977,\n",
       " 57.31270789890757,\n",
       " 54.43517328543087,\n",
       " 53.92109776354604,\n",
       " 67.21222438512295,\n",
       " 59.98825427140503,\n",
       " 55.613676749041915,\n",
       " 57.81111076153269,\n",
       " 49.39572034716051,\n",
       " 56.32630478407064]"
      ]
     },
     "execution_count": 98,
     "metadata": {},
     "output_type": "execute_result"
    }
   ],
   "source": [
    "rmse_list"
   ]
  },
  {
   "cell_type": "code",
   "execution_count": 99,
   "id": "1dd8e46f-88fb-4893-912a-e921877c1bc1",
   "metadata": {
    "tags": []
   },
   "outputs": [
    {
     "data": {
      "text/plain": [
       "57.2860081090848"
      ]
     },
     "execution_count": 99,
     "metadata": {},
     "output_type": "execute_result"
    }
   ],
   "source": [
    "np.mean(rmse_list)"
   ]
  },
  {
   "cell_type": "markdown",
   "id": "d1841e96-213a-4039-8b47-aec9ec7c8e13",
   "metadata": {},
   "source": [
    "Cualquier modelo tiene realmente dos tipos de error:\n",
    "\n",
    "- **Sesgo (bias)**: resulta de las *malas suposiciones* del algoritmo de aprendizaje: o hemos tomado mal los datos, o hemos elegido mal las variables. Esto lo vemos en el rmse.\n",
    "- **Varianza**: viene dada por la variabilidad de los valores predecidos de un modelo.\n",
    "\n",
    "    \n"
   ]
  },
  {
   "cell_type": "code",
   "execution_count": 100,
   "id": "39f287cf-b916-47a4-9b98-58cba7a4c7a3",
   "metadata": {
    "tags": []
   },
   "outputs": [
    {
     "data": {
      "text/plain": [
       "53.919832203018395"
      ]
     },
     "execution_count": 100,
     "metadata": {},
     "output_type": "execute_result"
    }
   ],
   "source": [
    "df[(df['accommodates'] == 6) & (df['bedrooms'] == 2)]['price'].std()"
   ]
  },
  {
   "cell_type": "code",
   "execution_count": 101,
   "id": "cdb6dd12-0f9a-4a1d-a322-81a3c363429a",
   "metadata": {
    "tags": []
   },
   "outputs": [
    {
     "data": {
      "text/plain": [
       "4.5187448954434775"
      ]
     },
     "execution_count": 101,
     "metadata": {},
     "output_type": "execute_result"
    }
   ],
   "source": [
    "np.std(rmse_list)"
   ]
  },
  {
   "cell_type": "code",
   "execution_count": null,
   "id": "364ba9c7-6d32-4fe7-a4e8-1d343d0ae1fa",
   "metadata": {},
   "outputs": [],
   "source": []
  }
 ],
 "metadata": {
  "kernelspec": {
   "display_name": "Python 3 (ipykernel)",
   "language": "python",
   "name": "python3"
  },
  "language_info": {
   "codemirror_mode": {
    "name": "ipython",
    "version": 3
   },
   "file_extension": ".py",
   "mimetype": "text/x-python",
   "name": "python",
   "nbconvert_exporter": "python",
   "pygments_lexer": "ipython3",
   "version": "3.9.16"
  }
 },
 "nbformat": 4,
 "nbformat_minor": 5
}
