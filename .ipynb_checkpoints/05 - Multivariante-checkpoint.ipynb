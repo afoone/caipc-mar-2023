{
 "cells": [
  {
   "cell_type": "markdown",
   "id": "02423145-48d5-4b65-bb6d-68e2628fd21a",
   "metadata": {},
   "source": [
    "# Multivariante\n",
    "\n",
    "Hasta ahora, hemos intentado predecir con una variable (`accommodates` y `bedrooms`)\n",
    "\n",
    "Dos formas de intentar mejorar la precisión:\n",
    "\n",
    "1. Cambiar el valor de k (cambio de hiperparámetros)\n",
    "2. Cambiar las variables, incluso incrementando el número de variables, p.ej [`accommodates`, `bedrooms`,  `bathrooms`]\n",
    "\n",
    "\n",
    "Lo que vamos a hacer en el multivariante es añadir columnas al modelo. Por el momento tienen que ser columnas:\n",
    "\n",
    "- numéricas\n",
    "- no nulas (el cálculo de la distancia no nos lo va a permitir)\n",
    "- no ordinales - tenemos que quitar las variables en las que '2' no represente más que '1', por ejemplo, el id no representa un valor que siendo mayor o menor implique algo; lo mismo con host_id, scrape_id y la latitud y la longitud...."
   ]
  },
  {
   "cell_type": "code",
   "execution_count": 1,
   "id": "29ad3ab0-c1a4-4ccd-b092-6444658c9046",
   "metadata": {
    "tags": []
   },
   "outputs": [],
   "source": [
    "import pandas as pd\n",
    "import numpy as np\n",
    "import math"
   ]
  },
  {
   "cell_type": "code",
   "execution_count": 2,
   "id": "0625f3a6-068e-43d1-b9a5-3ebb293b729b",
   "metadata": {
    "tags": []
   },
   "outputs": [],
   "source": [
    "valencia = pd.read_csv('https://raw.githubusercontent.com/afoone/caipc-mar-2023/master/data/airbnb.csv')\n"
   ]
  },
  {
   "cell_type": "code",
   "execution_count": 3,
   "id": "fc3ad6e9-225d-4ff0-adf5-96b0abac7a4c",
   "metadata": {
    "tags": []
   },
   "outputs": [
    {
     "name": "stdout",
     "output_type": "stream",
     "text": [
      "<class 'pandas.core.frame.DataFrame'>\n",
      "RangeIndex: 6711 entries, 0 to 6710\n",
      "Data columns (total 75 columns):\n",
      " #   Column                                        Non-Null Count  Dtype  \n",
      "---  ------                                        --------------  -----  \n",
      " 0   id                                            6711 non-null   int64  \n",
      " 1   listing_url                                   6711 non-null   object \n",
      " 2   scrape_id                                     6711 non-null   int64  \n",
      " 3   last_scraped                                  6711 non-null   object \n",
      " 4   source                                        6711 non-null   object \n",
      " 5   name                                          6711 non-null   object \n",
      " 6   description                                   6558 non-null   object \n",
      " 7   neighborhood_overview                         3759 non-null   object \n",
      " 8   picture_url                                   6711 non-null   object \n",
      " 9   host_id                                       6711 non-null   int64  \n",
      " 10  host_url                                      6711 non-null   object \n",
      " 11  host_name                                     6711 non-null   object \n",
      " 12  host_since                                    6711 non-null   object \n",
      " 13  host_location                                 5012 non-null   object \n",
      " 14  host_about                                    3551 non-null   object \n",
      " 15  host_response_time                            5937 non-null   object \n",
      " 16  host_response_rate                            5937 non-null   object \n",
      " 17  host_acceptance_rate                          6403 non-null   object \n",
      " 18  host_is_superhost                             6711 non-null   object \n",
      " 19  host_thumbnail_url                            6711 non-null   object \n",
      " 20  host_picture_url                              6711 non-null   object \n",
      " 21  host_neighbourhood                            2636 non-null   object \n",
      " 22  host_listings_count                           6711 non-null   int64  \n",
      " 23  host_total_listings_count                     6711 non-null   int64  \n",
      " 24  host_verifications                            6711 non-null   object \n",
      " 25  host_has_profile_pic                          6711 non-null   object \n",
      " 26  host_identity_verified                        6711 non-null   object \n",
      " 27  neighbourhood                                 3759 non-null   object \n",
      " 28  neighbourhood_cleansed                        6711 non-null   object \n",
      " 29  neighbourhood_group_cleansed                  6711 non-null   object \n",
      " 30  latitude                                      6711 non-null   float64\n",
      " 31  longitude                                     6711 non-null   float64\n",
      " 32  property_type                                 6711 non-null   object \n",
      " 33  room_type                                     6711 non-null   object \n",
      " 34  accommodates                                  6711 non-null   int64  \n",
      " 35  bathrooms                                     0 non-null      float64\n",
      " 36  bathrooms_text                                6707 non-null   object \n",
      " 37  bedrooms                                      6243 non-null   float64\n",
      " 38  beds                                          6641 non-null   float64\n",
      " 39  amenities                                     6711 non-null   object \n",
      " 40  price                                         6711 non-null   object \n",
      " 41  minimum_nights                                6711 non-null   int64  \n",
      " 42  maximum_nights                                6711 non-null   int64  \n",
      " 43  minimum_minimum_nights                        6711 non-null   int64  \n",
      " 44  maximum_minimum_nights                        6711 non-null   int64  \n",
      " 45  minimum_maximum_nights                        6711 non-null   int64  \n",
      " 46  maximum_maximum_nights                        6711 non-null   int64  \n",
      " 47  minimum_nights_avg_ntm                        6711 non-null   float64\n",
      " 48  maximum_nights_avg_ntm                        6711 non-null   float64\n",
      " 49  calendar_updated                              0 non-null      float64\n",
      " 50  has_availability                              6711 non-null   object \n",
      " 51  availability_30                               6711 non-null   int64  \n",
      " 52  availability_60                               6711 non-null   int64  \n",
      " 53  availability_90                               6711 non-null   int64  \n",
      " 54  availability_365                              6711 non-null   int64  \n",
      " 55  calendar_last_scraped                         6711 non-null   object \n",
      " 56  number_of_reviews                             6711 non-null   int64  \n",
      " 57  number_of_reviews_ltm                         6711 non-null   int64  \n",
      " 58  number_of_reviews_l30d                        6711 non-null   int64  \n",
      " 59  first_review                                  5875 non-null   object \n",
      " 60  last_review                                   5875 non-null   object \n",
      " 61  review_scores_rating                          5875 non-null   float64\n",
      " 62  review_scores_accuracy                        5864 non-null   float64\n",
      " 63  review_scores_cleanliness                     5864 non-null   float64\n",
      " 64  review_scores_checkin                         5864 non-null   float64\n",
      " 65  review_scores_communication                   5864 non-null   float64\n",
      " 66  review_scores_location                        5864 non-null   float64\n",
      " 67  review_scores_value                           5864 non-null   float64\n",
      " 68  license                                       1894 non-null   object \n",
      " 69  instant_bookable                              6711 non-null   object \n",
      " 70  calculated_host_listings_count                6711 non-null   int64  \n",
      " 71  calculated_host_listings_count_entire_homes   6711 non-null   int64  \n",
      " 72  calculated_host_listings_count_private_rooms  6711 non-null   int64  \n",
      " 73  calculated_host_listings_count_shared_rooms   6711 non-null   int64  \n",
      " 74  reviews_per_month                             5875 non-null   float64\n",
      "dtypes: float64(16), int64(23), object(36)\n",
      "memory usage: 3.8+ MB\n"
     ]
    }
   ],
   "source": [
    "valencia.info()"
   ]
  },
  {
   "cell_type": "code",
   "execution_count": 4,
   "id": "390d56aa-1167-417c-9e19-35aab59300db",
   "metadata": {
    "tags": []
   },
   "outputs": [],
   "source": [
    "## limpiar los datos\n",
    "\n",
    "# corregir el price (tiene $ y no es numérico)\n",
    "valencia['price'] = valencia['price'].apply(lambda x: x.replace('$', '').replace(',', '')).astype('float')\n",
    "\n",
    "valencia = valencia[valencia['price']<700]"
   ]
  },
  {
   "cell_type": "code",
   "execution_count": 5,
   "id": "88497314-2f1b-4b2c-865d-581871f44728",
   "metadata": {
    "tags": []
   },
   "outputs": [],
   "source": [
    "# barajar\n",
    "\n",
    "np.random.seed(3837980)\n",
    "valencia = valencia.iloc[\n",
    "    np.random.permutation(len(valencia))\n",
    "]"
   ]
  },
  {
   "cell_type": "code",
   "execution_count": 6,
   "id": "b769304b-66f9-411e-9078-264f9b6cc9dc",
   "metadata": {
    "tags": []
   },
   "outputs": [
    {
     "data": {
      "text/plain": [
       "(6493, 75)"
      ]
     },
     "execution_count": 6,
     "metadata": {},
     "output_type": "execute_result"
    }
   ],
   "source": [
    "valencia.shape"
   ]
  },
  {
   "cell_type": "code",
   "execution_count": 7,
   "id": "4705d58c-bd70-4a45-a495-f2e612beff75",
   "metadata": {
    "tags": []
   },
   "outputs": [
    {
     "name": "stdout",
     "output_type": "stream",
     "text": [
      "<class 'pandas.core.frame.DataFrame'>\n",
      "Int64Index: 6493 entries, 5738 to 2287\n",
      "Data columns (total 75 columns):\n",
      " #   Column                                        Non-Null Count  Dtype  \n",
      "---  ------                                        --------------  -----  \n",
      " 0   id                                            6493 non-null   int64  \n",
      " 1   listing_url                                   6493 non-null   object \n",
      " 2   scrape_id                                     6493 non-null   int64  \n",
      " 3   last_scraped                                  6493 non-null   object \n",
      " 4   source                                        6493 non-null   object \n",
      " 5   name                                          6493 non-null   object \n",
      " 6   description                                   6341 non-null   object \n",
      " 7   neighborhood_overview                         3567 non-null   object \n",
      " 8   picture_url                                   6493 non-null   object \n",
      " 9   host_id                                       6493 non-null   int64  \n",
      " 10  host_url                                      6493 non-null   object \n",
      " 11  host_name                                     6493 non-null   object \n",
      " 12  host_since                                    6493 non-null   object \n",
      " 13  host_location                                 4810 non-null   object \n",
      " 14  host_about                                    3360 non-null   object \n",
      " 15  host_response_time                            5730 non-null   object \n",
      " 16  host_response_rate                            5730 non-null   object \n",
      " 17  host_acceptance_rate                          6195 non-null   object \n",
      " 18  host_is_superhost                             6493 non-null   object \n",
      " 19  host_thumbnail_url                            6493 non-null   object \n",
      " 20  host_picture_url                              6493 non-null   object \n",
      " 21  host_neighbourhood                            2447 non-null   object \n",
      " 22  host_listings_count                           6493 non-null   int64  \n",
      " 23  host_total_listings_count                     6493 non-null   int64  \n",
      " 24  host_verifications                            6493 non-null   object \n",
      " 25  host_has_profile_pic                          6493 non-null   object \n",
      " 26  host_identity_verified                        6493 non-null   object \n",
      " 27  neighbourhood                                 3567 non-null   object \n",
      " 28  neighbourhood_cleansed                        6493 non-null   object \n",
      " 29  neighbourhood_group_cleansed                  6493 non-null   object \n",
      " 30  latitude                                      6493 non-null   float64\n",
      " 31  longitude                                     6493 non-null   float64\n",
      " 32  property_type                                 6493 non-null   object \n",
      " 33  room_type                                     6493 non-null   object \n",
      " 34  accommodates                                  6493 non-null   int64  \n",
      " 35  bathrooms                                     0 non-null      float64\n",
      " 36  bathrooms_text                                6489 non-null   object \n",
      " 37  bedrooms                                      6183 non-null   float64\n",
      " 38  beds                                          6424 non-null   float64\n",
      " 39  amenities                                     6493 non-null   object \n",
      " 40  price                                         6493 non-null   float64\n",
      " 41  minimum_nights                                6493 non-null   int64  \n",
      " 42  maximum_nights                                6493 non-null   int64  \n",
      " 43  minimum_minimum_nights                        6493 non-null   int64  \n",
      " 44  maximum_minimum_nights                        6493 non-null   int64  \n",
      " 45  minimum_maximum_nights                        6493 non-null   int64  \n",
      " 46  maximum_maximum_nights                        6493 non-null   int64  \n",
      " 47  minimum_nights_avg_ntm                        6493 non-null   float64\n",
      " 48  maximum_nights_avg_ntm                        6493 non-null   float64\n",
      " 49  calendar_updated                              0 non-null      float64\n",
      " 50  has_availability                              6493 non-null   object \n",
      " 51  availability_30                               6493 non-null   int64  \n",
      " 52  availability_60                               6493 non-null   int64  \n",
      " 53  availability_90                               6493 non-null   int64  \n",
      " 54  availability_365                              6493 non-null   int64  \n",
      " 55  calendar_last_scraped                         6493 non-null   object \n",
      " 56  number_of_reviews                             6493 non-null   int64  \n",
      " 57  number_of_reviews_ltm                         6493 non-null   int64  \n",
      " 58  number_of_reviews_l30d                        6493 non-null   int64  \n",
      " 59  first_review                                  5783 non-null   object \n",
      " 60  last_review                                   5783 non-null   object \n",
      " 61  review_scores_rating                          5783 non-null   float64\n",
      " 62  review_scores_accuracy                        5772 non-null   float64\n",
      " 63  review_scores_cleanliness                     5772 non-null   float64\n",
      " 64  review_scores_checkin                         5772 non-null   float64\n",
      " 65  review_scores_communication                   5772 non-null   float64\n",
      " 66  review_scores_location                        5772 non-null   float64\n",
      " 67  review_scores_value                           5772 non-null   float64\n",
      " 68  license                                       1878 non-null   object \n",
      " 69  instant_bookable                              6493 non-null   object \n",
      " 70  calculated_host_listings_count                6493 non-null   int64  \n",
      " 71  calculated_host_listings_count_entire_homes   6493 non-null   int64  \n",
      " 72  calculated_host_listings_count_private_rooms  6493 non-null   int64  \n",
      " 73  calculated_host_listings_count_shared_rooms   6493 non-null   int64  \n",
      " 74  reviews_per_month                             5783 non-null   float64\n",
      "dtypes: float64(17), int64(23), object(35)\n",
      "memory usage: 3.8+ MB\n"
     ]
    }
   ],
   "source": [
    "valencia.info()"
   ]
  },
  {
   "cell_type": "code",
   "execution_count": 10,
   "id": "dc51df73-87d4-4342-be5d-7b1f78e45acc",
   "metadata": {
    "tags": []
   },
   "outputs": [
    {
     "data": {
      "text/html": [
       "<div>\n",
       "<style scoped>\n",
       "    .dataframe tbody tr th:only-of-type {\n",
       "        vertical-align: middle;\n",
       "    }\n",
       "\n",
       "    .dataframe tbody tr th {\n",
       "        vertical-align: top;\n",
       "    }\n",
       "\n",
       "    .dataframe thead th {\n",
       "        text-align: right;\n",
       "    }\n",
       "</style>\n",
       "<table border=\"1\" class=\"dataframe\">\n",
       "  <thead>\n",
       "    <tr style=\"text-align: right;\">\n",
       "      <th></th>\n",
       "      <th>bathrooms</th>\n",
       "      <th>bedrooms</th>\n",
       "      <th>accommodates</th>\n",
       "    </tr>\n",
       "  </thead>\n",
       "  <tbody>\n",
       "    <tr>\n",
       "      <th>5738</th>\n",
       "      <td>NaN</td>\n",
       "      <td>1.0</td>\n",
       "      <td>1</td>\n",
       "    </tr>\n",
       "    <tr>\n",
       "      <th>1559</th>\n",
       "      <td>NaN</td>\n",
       "      <td>1.0</td>\n",
       "      <td>2</td>\n",
       "    </tr>\n",
       "    <tr>\n",
       "      <th>5461</th>\n",
       "      <td>NaN</td>\n",
       "      <td>2.0</td>\n",
       "      <td>4</td>\n",
       "    </tr>\n",
       "    <tr>\n",
       "      <th>25</th>\n",
       "      <td>NaN</td>\n",
       "      <td>1.0</td>\n",
       "      <td>3</td>\n",
       "    </tr>\n",
       "    <tr>\n",
       "      <th>3559</th>\n",
       "      <td>NaN</td>\n",
       "      <td>2.0</td>\n",
       "      <td>6</td>\n",
       "    </tr>\n",
       "    <tr>\n",
       "      <th>...</th>\n",
       "      <td>...</td>\n",
       "      <td>...</td>\n",
       "      <td>...</td>\n",
       "    </tr>\n",
       "    <tr>\n",
       "      <th>5882</th>\n",
       "      <td>NaN</td>\n",
       "      <td>NaN</td>\n",
       "      <td>2</td>\n",
       "    </tr>\n",
       "    <tr>\n",
       "      <th>2961</th>\n",
       "      <td>NaN</td>\n",
       "      <td>1.0</td>\n",
       "      <td>1</td>\n",
       "    </tr>\n",
       "    <tr>\n",
       "      <th>1550</th>\n",
       "      <td>NaN</td>\n",
       "      <td>3.0</td>\n",
       "      <td>6</td>\n",
       "    </tr>\n",
       "    <tr>\n",
       "      <th>2312</th>\n",
       "      <td>NaN</td>\n",
       "      <td>1.0</td>\n",
       "      <td>2</td>\n",
       "    </tr>\n",
       "    <tr>\n",
       "      <th>2287</th>\n",
       "      <td>NaN</td>\n",
       "      <td>NaN</td>\n",
       "      <td>2</td>\n",
       "    </tr>\n",
       "  </tbody>\n",
       "</table>\n",
       "<p>6493 rows × 3 columns</p>\n",
       "</div>"
      ],
      "text/plain": [
       "      bathrooms  bedrooms  accommodates\n",
       "5738        NaN       1.0             1\n",
       "1559        NaN       1.0             2\n",
       "5461        NaN       2.0             4\n",
       "25          NaN       1.0             3\n",
       "3559        NaN       2.0             6\n",
       "...         ...       ...           ...\n",
       "5882        NaN       NaN             2\n",
       "2961        NaN       1.0             1\n",
       "1550        NaN       3.0             6\n",
       "2312        NaN       1.0             2\n",
       "2287        NaN       NaN             2\n",
       "\n",
       "[6493 rows x 3 columns]"
      ]
     },
     "execution_count": 10,
     "metadata": {},
     "output_type": "execute_result"
    }
   ],
   "source": [
    "valencia[['bathrooms', 'bedrooms', 'accommodates']]"
   ]
  },
  {
   "cell_type": "code",
   "execution_count": 14,
   "id": "af7980e1-5712-4917-864a-a2bd33e8bf4b",
   "metadata": {
    "tags": []
   },
   "outputs": [
    {
     "data": {
      "text/plain": [
       "6493"
      ]
     },
     "execution_count": 14,
     "metadata": {},
     "output_type": "execute_result"
    }
   ],
   "source": [
    "valencia['bathrooms'].isnull().sum()"
   ]
  },
  {
   "cell_type": "code",
   "execution_count": 15,
   "id": "d9a3dd20-5bdf-4367-84a2-8b40dd581c8d",
   "metadata": {
    "tags": []
   },
   "outputs": [
    {
     "data": {
      "text/plain": [
       "5738    1.5 shared baths\n",
       "1559              1 bath\n",
       "5461              1 bath\n",
       "25                1 bath\n",
       "3559              1 bath\n",
       "              ...       \n",
       "5882              1 bath\n",
       "2961      1 private bath\n",
       "1550              1 bath\n",
       "2312       1 shared bath\n",
       "2287              1 bath\n",
       "Name: bathrooms_text, Length: 6493, dtype: object"
      ]
     },
     "execution_count": 15,
     "metadata": {},
     "output_type": "execute_result"
    }
   ],
   "source": [
    "valencia['bathrooms_text']"
   ]
  },
  {
   "cell_type": "code",
   "execution_count": 16,
   "id": "bc9a8a02-f996-44c9-800a-b0b81d94c741",
   "metadata": {
    "tags": []
   },
   "outputs": [
    {
     "name": "stdout",
     "output_type": "stream",
     "text": [
      "<class 'pandas.core.series.Series'>\n",
      "Int64Index: 6493 entries, 5738 to 2287\n",
      "Series name: bathrooms_text\n",
      "Non-Null Count  Dtype \n",
      "--------------  ----- \n",
      "6489 non-null   object\n",
      "dtypes: object(1)\n",
      "memory usage: 101.5+ KB\n"
     ]
    }
   ],
   "source": [
    "valencia['bathrooms_text'].info()"
   ]
  },
  {
   "cell_type": "code",
   "execution_count": 17,
   "id": "63bd585c-fa88-4363-8489-c0c57627b59d",
   "metadata": {
    "tags": []
   },
   "outputs": [
    {
     "data": {
      "text/plain": [
       "1 bath              2950\n",
       "2 baths             1087\n",
       "1 shared bath        957\n",
       "1.5 baths            483\n",
       "1 private bath       357\n",
       "1.5 shared baths     240\n",
       "2 shared baths       155\n",
       "2.5 baths             70\n",
       "3 baths               57\n",
       "2.5 shared baths      26\n",
       "3 shared baths        23\n",
       "4 baths               19\n",
       "3.5 baths             14\n",
       "0 shared baths        11\n",
       "Shared half-bath      10\n",
       "4 shared baths         8\n",
       "0 baths                6\n",
       "5 baths                5\n",
       "4.5 baths              3\n",
       "Half-bath              2\n",
       "5.5 baths              1\n",
       "4.5 shared baths       1\n",
       "6.5 baths              1\n",
       "3.5 shared baths       1\n",
       "7 baths                1\n",
       "6 baths                1\n",
       "Name: bathrooms_text, dtype: int64"
      ]
     },
     "execution_count": 17,
     "metadata": {},
     "output_type": "execute_result"
    }
   ],
   "source": [
    "valencia['bathrooms_text'].value_counts()"
   ]
  },
  {
   "cell_type": "code",
   "execution_count": 18,
   "id": "5ec334d4-e096-43aa-8744-d4af5d233446",
   "metadata": {
    "tags": []
   },
   "outputs": [],
   "source": [
    "def half_bath(x):\n",
    "    if ('half' in str(x).lower()):\n",
    "        return '0.5'\n",
    "    else:\n",
    "        return x\n",
    "    "
   ]
  },
  {
   "cell_type": "code",
   "execution_count": 19,
   "id": "be0b591b-9090-4919-b8a6-c1669585d66b",
   "metadata": {
    "tags": []
   },
   "outputs": [],
   "source": [
    "valencia['bathrooms_text']=valencia['bathrooms_text'].apply(\n",
    "    lambda x: half_bath(x)\n",
    ") "
   ]
  },
  {
   "cell_type": "code",
   "execution_count": 20,
   "id": "149e8386-252b-4976-a53e-9eb829f809b6",
   "metadata": {
    "tags": []
   },
   "outputs": [
    {
     "data": {
      "text/plain": [
       "1 bath              2950\n",
       "2 baths             1087\n",
       "1 shared bath        957\n",
       "1.5 baths            483\n",
       "1 private bath       357\n",
       "1.5 shared baths     240\n",
       "2 shared baths       155\n",
       "2.5 baths             70\n",
       "3 baths               57\n",
       "2.5 shared baths      26\n",
       "3 shared baths        23\n",
       "4 baths               19\n",
       "3.5 baths             14\n",
       "0.5                   12\n",
       "0 shared baths        11\n",
       "4 shared baths         8\n",
       "0 baths                6\n",
       "5 baths                5\n",
       "4.5 baths              3\n",
       "5.5 baths              1\n",
       "4.5 shared baths       1\n",
       "6.5 baths              1\n",
       "3.5 shared baths       1\n",
       "7 baths                1\n",
       "6 baths                1\n",
       "Name: bathrooms_text, dtype: int64"
      ]
     },
     "execution_count": 20,
     "metadata": {},
     "output_type": "execute_result"
    }
   ],
   "source": [
    "valencia['bathrooms_text'].value_counts()"
   ]
  },
  {
   "cell_type": "code",
   "execution_count": 23,
   "id": "caf8ced9-2a00-416e-bd33-83d4f45c9fd7",
   "metadata": {
    "tags": []
   },
   "outputs": [
    {
     "data": {
      "text/plain": [
       "'9.9'"
      ]
     },
     "execution_count": 23,
     "metadata": {},
     "output_type": "execute_result"
    }
   ],
   "source": [
    "import re\n",
    "\n",
    "def txt_to_number(x):\n",
    "    return re.search(\"[0-9|.]*\", str(x)).group(0)\n",
    "\n",
    "txt_to_number('9.9df')"
   ]
  }
 ],
 "metadata": {
  "kernelspec": {
   "display_name": "Python 3 (ipykernel)",
   "language": "python",
   "name": "python3"
  },
  "language_info": {
   "codemirror_mode": {
    "name": "ipython",
    "version": 3
   },
   "file_extension": ".py",
   "mimetype": "text/x-python",
   "name": "python",
   "nbconvert_exporter": "python",
   "pygments_lexer": "ipython3",
   "version": "3.9.16"
  }
 },
 "nbformat": 4,
 "nbformat_minor": 5
}
