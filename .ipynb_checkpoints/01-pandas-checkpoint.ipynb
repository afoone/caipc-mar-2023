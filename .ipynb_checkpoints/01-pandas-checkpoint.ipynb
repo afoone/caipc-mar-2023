{
 "cells": [
  {
   "cell_type": "code",
   "execution_count": 1,
   "id": "f14a6113-d5fd-435b-b51a-93240f28f9fd",
   "metadata": {
    "tags": []
   },
   "outputs": [],
   "source": [
    "x = 1"
   ]
  },
  {
   "cell_type": "code",
   "execution_count": 2,
   "id": "406d8171-ced8-44b1-b3b2-f96077e10dbd",
   "metadata": {
    "tags": []
   },
   "outputs": [
    {
     "name": "stdout",
     "output_type": "stream",
     "text": [
      "1\n"
     ]
    }
   ],
   "source": [
    "print(x)"
   ]
  },
  {
   "cell_type": "code",
   "execution_count": 3,
   "id": "754b28f2-b583-423c-9a40-df36c93c9ebd",
   "metadata": {
    "tags": []
   },
   "outputs": [
    {
     "data": {
      "text/plain": [
       "1"
      ]
     },
     "execution_count": 3,
     "metadata": {},
     "output_type": "execute_result"
    }
   ],
   "source": [
    "x"
   ]
  },
  {
   "cell_type": "code",
   "execution_count": 4,
   "id": "4265532a-9054-4fc5-a0e2-6e9cc8e3d1ff",
   "metadata": {
    "tags": []
   },
   "outputs": [],
   "source": [
    "x = 2"
   ]
  },
  {
   "cell_type": "code",
   "execution_count": 6,
   "id": "872bd07c-f516-4ae0-804a-3fd1ad844df8",
   "metadata": {
    "tags": []
   },
   "outputs": [
    {
     "data": {
      "text/plain": [
       "2"
      ]
     },
     "execution_count": 6,
     "metadata": {},
     "output_type": "execute_result"
    }
   ],
   "source": [
    "x #esto es la x"
   ]
  },
  {
   "cell_type": "code",
   "execution_count": 7,
   "id": "3a9cd4ed-e07c-44c2-9a8a-8f0ea75da12e",
   "metadata": {
    "tags": []
   },
   "outputs": [],
   "source": [
    "# ahora voy a hacer la y"
   ]
  },
  {
   "cell_type": "code",
   "execution_count": null,
   "id": "38943f8d-1c31-40c6-8972-e5e6db7a27fa",
   "metadata": {},
   "outputs": [],
   "source": []
  }
 ],
 "metadata": {
  "kernelspec": {
   "display_name": "Python 3 (ipykernel)",
   "language": "python",
   "name": "python3"
  },
  "language_info": {
   "codemirror_mode": {
    "name": "ipython",
    "version": 3
   },
   "file_extension": ".py",
   "mimetype": "text/x-python",
   "name": "python",
   "nbconvert_exporter": "python",
   "pygments_lexer": "ipython3",
   "version": "3.9.16"
  }
 },
 "nbformat": 4,
 "nbformat_minor": 5
}
