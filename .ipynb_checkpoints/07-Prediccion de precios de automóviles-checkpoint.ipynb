{
 "cells": [
  {
   "cell_type": "code",
   "execution_count": 1,
   "id": "2036c0b5-a82a-4958-940d-e5dafeb1aed2",
   "metadata": {
    "tags": []
   },
   "outputs": [],
   "source": [
    "columns = ['symboling',\n",
    "'normalized-losses',\n",
    "'make',\n",
    "'fuel-type',\n",
    "'aspiration',\n",
    "'num-of-doors',\n",
    "'body-style',\n",
    "'drive-wheels',\n",
    "'engine-location',\n",
    " 'wheel-base',\n",
    " 'length',\n",
    " 'width',\n",
    " 'height',\n",
    " 'curb-weight',\n",
    " 'engine-type',\n",
    " 'num-of-cylinders',\n",
    " 'engine-size',\n",
    " 'fuel-system',\n",
    " 'bore',\n",
    " 'stroke',\n",
    " 'compression-ratio',\n",
    " 'horsepower',\n",
    " 'peak-rpm',\n",
    " 'city-mpg',\n",
    " 'highway-mpg',\n",
    " 'price']"
   ]
  },
  {
   "cell_type": "code",
   "execution_count": 2,
   "id": "5ebbfbc6-7f2a-49f6-aaa9-8da5d9a3c5e0",
   "metadata": {
    "tags": []
   },
   "outputs": [
    {
     "data": {
      "text/plain": [
       "['symboling',\n",
       " 'normalized-losses',\n",
       " 'make',\n",
       " 'fuel-type',\n",
       " 'aspiration',\n",
       " 'num-of-doors',\n",
       " 'body-style',\n",
       " 'drive-wheels',\n",
       " 'engine-location',\n",
       " 'wheel-base',\n",
       " 'length',\n",
       " 'width',\n",
       " 'height',\n",
       " 'curb-weight',\n",
       " 'engine-type',\n",
       " 'num-of-cylinders',\n",
       " 'engine-size',\n",
       " 'fuel-system',\n",
       " 'bore',\n",
       " 'stroke',\n",
       " 'compression-ratio',\n",
       " 'horsepower',\n",
       " 'peak-rpm',\n",
       " 'city-mpg',\n",
       " 'highway-mpg',\n",
       " 'price']"
      ]
     },
     "execution_count": 2,
     "metadata": {},
     "output_type": "execute_result"
    }
   ],
   "source": [
    "columns"
   ]
  },
  {
   "cell_type": "code",
   "execution_count": 3,
   "id": "3e5c964f-9760-4c6d-88f4-1574a89f905b",
   "metadata": {
    "tags": []
   },
   "outputs": [],
   "source": [
    "import pandas as pd\n",
    "import numpy as np"
   ]
  },
  {
   "cell_type": "code",
   "execution_count": 4,
   "id": "51cd3d4c-0a95-49f7-9c4e-74823b8f2055",
   "metadata": {
    "tags": []
   },
   "outputs": [],
   "source": [
    "df = pd.read_csv('https://raw.githubusercontent.com/afoone/caipc-mar-2023/master/data/imports-85.data', names=columns)"
   ]
  },
  {
   "cell_type": "code",
   "execution_count": 5,
   "id": "137622d9-7ea0-4990-9450-7979f6cecda2",
   "metadata": {
    "tags": []
   },
   "outputs": [
    {
     "data": {
      "text/html": [
       "<div>\n",
       "<style scoped>\n",
       "    .dataframe tbody tr th:only-of-type {\n",
       "        vertical-align: middle;\n",
       "    }\n",
       "\n",
       "    .dataframe tbody tr th {\n",
       "        vertical-align: top;\n",
       "    }\n",
       "\n",
       "    .dataframe thead th {\n",
       "        text-align: right;\n",
       "    }\n",
       "</style>\n",
       "<table border=\"1\" class=\"dataframe\">\n",
       "  <thead>\n",
       "    <tr style=\"text-align: right;\">\n",
       "      <th></th>\n",
       "      <th>symboling</th>\n",
       "      <th>normalized-losses</th>\n",
       "      <th>make</th>\n",
       "      <th>fuel-type</th>\n",
       "      <th>aspiration</th>\n",
       "      <th>num-of-doors</th>\n",
       "      <th>body-style</th>\n",
       "      <th>drive-wheels</th>\n",
       "      <th>engine-location</th>\n",
       "      <th>wheel-base</th>\n",
       "      <th>...</th>\n",
       "      <th>engine-size</th>\n",
       "      <th>fuel-system</th>\n",
       "      <th>bore</th>\n",
       "      <th>stroke</th>\n",
       "      <th>compression-ratio</th>\n",
       "      <th>horsepower</th>\n",
       "      <th>peak-rpm</th>\n",
       "      <th>city-mpg</th>\n",
       "      <th>highway-mpg</th>\n",
       "      <th>price</th>\n",
       "    </tr>\n",
       "  </thead>\n",
       "  <tbody>\n",
       "    <tr>\n",
       "      <th>0</th>\n",
       "      <td>3</td>\n",
       "      <td>?</td>\n",
       "      <td>alfa-romero</td>\n",
       "      <td>gas</td>\n",
       "      <td>std</td>\n",
       "      <td>two</td>\n",
       "      <td>convertible</td>\n",
       "      <td>rwd</td>\n",
       "      <td>front</td>\n",
       "      <td>88.6</td>\n",
       "      <td>...</td>\n",
       "      <td>130</td>\n",
       "      <td>mpfi</td>\n",
       "      <td>3.47</td>\n",
       "      <td>2.68</td>\n",
       "      <td>9.0</td>\n",
       "      <td>111</td>\n",
       "      <td>5000</td>\n",
       "      <td>21</td>\n",
       "      <td>27</td>\n",
       "      <td>13495</td>\n",
       "    </tr>\n",
       "    <tr>\n",
       "      <th>1</th>\n",
       "      <td>3</td>\n",
       "      <td>?</td>\n",
       "      <td>alfa-romero</td>\n",
       "      <td>gas</td>\n",
       "      <td>std</td>\n",
       "      <td>two</td>\n",
       "      <td>convertible</td>\n",
       "      <td>rwd</td>\n",
       "      <td>front</td>\n",
       "      <td>88.6</td>\n",
       "      <td>...</td>\n",
       "      <td>130</td>\n",
       "      <td>mpfi</td>\n",
       "      <td>3.47</td>\n",
       "      <td>2.68</td>\n",
       "      <td>9.0</td>\n",
       "      <td>111</td>\n",
       "      <td>5000</td>\n",
       "      <td>21</td>\n",
       "      <td>27</td>\n",
       "      <td>16500</td>\n",
       "    </tr>\n",
       "    <tr>\n",
       "      <th>2</th>\n",
       "      <td>1</td>\n",
       "      <td>?</td>\n",
       "      <td>alfa-romero</td>\n",
       "      <td>gas</td>\n",
       "      <td>std</td>\n",
       "      <td>two</td>\n",
       "      <td>hatchback</td>\n",
       "      <td>rwd</td>\n",
       "      <td>front</td>\n",
       "      <td>94.5</td>\n",
       "      <td>...</td>\n",
       "      <td>152</td>\n",
       "      <td>mpfi</td>\n",
       "      <td>2.68</td>\n",
       "      <td>3.47</td>\n",
       "      <td>9.0</td>\n",
       "      <td>154</td>\n",
       "      <td>5000</td>\n",
       "      <td>19</td>\n",
       "      <td>26</td>\n",
       "      <td>16500</td>\n",
       "    </tr>\n",
       "    <tr>\n",
       "      <th>3</th>\n",
       "      <td>2</td>\n",
       "      <td>164</td>\n",
       "      <td>audi</td>\n",
       "      <td>gas</td>\n",
       "      <td>std</td>\n",
       "      <td>four</td>\n",
       "      <td>sedan</td>\n",
       "      <td>fwd</td>\n",
       "      <td>front</td>\n",
       "      <td>99.8</td>\n",
       "      <td>...</td>\n",
       "      <td>109</td>\n",
       "      <td>mpfi</td>\n",
       "      <td>3.19</td>\n",
       "      <td>3.40</td>\n",
       "      <td>10.0</td>\n",
       "      <td>102</td>\n",
       "      <td>5500</td>\n",
       "      <td>24</td>\n",
       "      <td>30</td>\n",
       "      <td>13950</td>\n",
       "    </tr>\n",
       "    <tr>\n",
       "      <th>4</th>\n",
       "      <td>2</td>\n",
       "      <td>164</td>\n",
       "      <td>audi</td>\n",
       "      <td>gas</td>\n",
       "      <td>std</td>\n",
       "      <td>four</td>\n",
       "      <td>sedan</td>\n",
       "      <td>4wd</td>\n",
       "      <td>front</td>\n",
       "      <td>99.4</td>\n",
       "      <td>...</td>\n",
       "      <td>136</td>\n",
       "      <td>mpfi</td>\n",
       "      <td>3.19</td>\n",
       "      <td>3.40</td>\n",
       "      <td>8.0</td>\n",
       "      <td>115</td>\n",
       "      <td>5500</td>\n",
       "      <td>18</td>\n",
       "      <td>22</td>\n",
       "      <td>17450</td>\n",
       "    </tr>\n",
       "  </tbody>\n",
       "</table>\n",
       "<p>5 rows × 26 columns</p>\n",
       "</div>"
      ],
      "text/plain": [
       "   symboling normalized-losses         make fuel-type aspiration num-of-doors  \\\n",
       "0          3                 ?  alfa-romero       gas        std          two   \n",
       "1          3                 ?  alfa-romero       gas        std          two   \n",
       "2          1                 ?  alfa-romero       gas        std          two   \n",
       "3          2               164         audi       gas        std         four   \n",
       "4          2               164         audi       gas        std         four   \n",
       "\n",
       "    body-style drive-wheels engine-location  wheel-base  ...  engine-size  \\\n",
       "0  convertible          rwd           front        88.6  ...          130   \n",
       "1  convertible          rwd           front        88.6  ...          130   \n",
       "2    hatchback          rwd           front        94.5  ...          152   \n",
       "3        sedan          fwd           front        99.8  ...          109   \n",
       "4        sedan          4wd           front        99.4  ...          136   \n",
       "\n",
       "   fuel-system  bore  stroke compression-ratio horsepower  peak-rpm city-mpg  \\\n",
       "0         mpfi  3.47    2.68               9.0        111      5000       21   \n",
       "1         mpfi  3.47    2.68               9.0        111      5000       21   \n",
       "2         mpfi  2.68    3.47               9.0        154      5000       19   \n",
       "3         mpfi  3.19    3.40              10.0        102      5500       24   \n",
       "4         mpfi  3.19    3.40               8.0        115      5500       18   \n",
       "\n",
       "  highway-mpg  price  \n",
       "0          27  13495  \n",
       "1          27  16500  \n",
       "2          26  16500  \n",
       "3          30  13950  \n",
       "4          22  17450  \n",
       "\n",
       "[5 rows x 26 columns]"
      ]
     },
     "execution_count": 5,
     "metadata": {},
     "output_type": "execute_result"
    }
   ],
   "source": [
    "df.head()"
   ]
  },
  {
   "cell_type": "code",
   "execution_count": 6,
   "id": "0c2588f8-c430-406c-9644-920d627d3ea0",
   "metadata": {
    "tags": []
   },
   "outputs": [
    {
     "name": "stdout",
     "output_type": "stream",
     "text": [
      "<class 'pandas.core.frame.DataFrame'>\n",
      "RangeIndex: 205 entries, 0 to 204\n",
      "Data columns (total 26 columns):\n",
      " #   Column             Non-Null Count  Dtype  \n",
      "---  ------             --------------  -----  \n",
      " 0   symboling          205 non-null    int64  \n",
      " 1   normalized-losses  205 non-null    object \n",
      " 2   make               205 non-null    object \n",
      " 3   fuel-type          205 non-null    object \n",
      " 4   aspiration         205 non-null    object \n",
      " 5   num-of-doors       205 non-null    object \n",
      " 6   body-style         205 non-null    object \n",
      " 7   drive-wheels       205 non-null    object \n",
      " 8   engine-location    205 non-null    object \n",
      " 9   wheel-base         205 non-null    float64\n",
      " 10  length             205 non-null    float64\n",
      " 11  width              205 non-null    float64\n",
      " 12  height             205 non-null    float64\n",
      " 13  curb-weight        205 non-null    int64  \n",
      " 14  engine-type        205 non-null    object \n",
      " 15  num-of-cylinders   205 non-null    object \n",
      " 16  engine-size        205 non-null    int64  \n",
      " 17  fuel-system        205 non-null    object \n",
      " 18  bore               205 non-null    object \n",
      " 19  stroke             205 non-null    object \n",
      " 20  compression-ratio  205 non-null    float64\n",
      " 21  horsepower         205 non-null    object \n",
      " 22  peak-rpm           205 non-null    object \n",
      " 23  city-mpg           205 non-null    int64  \n",
      " 24  highway-mpg        205 non-null    int64  \n",
      " 25  price              205 non-null    object \n",
      "dtypes: float64(5), int64(5), object(16)\n",
      "memory usage: 41.8+ KB\n"
     ]
    }
   ],
   "source": [
    "df.info()"
   ]
  },
  {
   "cell_type": "code",
   "execution_count": 7,
   "id": "5a720c56-bca8-4aaa-bcc7-ceeaf026ebf8",
   "metadata": {
    "tags": []
   },
   "outputs": [
    {
     "data": {
      "text/plain": [
       "four      159\n",
       "six        24\n",
       "five       11\n",
       "eight       5\n",
       "two         4\n",
       "three       1\n",
       "twelve      1\n",
       "Name: num-of-cylinders, dtype: int64"
      ]
     },
     "execution_count": 7,
     "metadata": {},
     "output_type": "execute_result"
    }
   ],
   "source": [
    "df['num-of-cylinders'].value_counts()"
   ]
  },
  {
   "cell_type": "code",
   "execution_count": 8,
   "id": "3641b64a-ead9-4d84-ad9f-f166e2dfb7d0",
   "metadata": {
    "tags": []
   },
   "outputs": [],
   "source": [
    "df = df.replace('?', np.nan)"
   ]
  },
  {
   "cell_type": "code",
   "execution_count": 9,
   "id": "d39bc569-6f66-45e9-b000-fedb8044c5e1",
   "metadata": {
    "tags": []
   },
   "outputs": [
    {
     "name": "stdout",
     "output_type": "stream",
     "text": [
      "<class 'pandas.core.frame.DataFrame'>\n",
      "RangeIndex: 205 entries, 0 to 204\n",
      "Data columns (total 26 columns):\n",
      " #   Column             Non-Null Count  Dtype  \n",
      "---  ------             --------------  -----  \n",
      " 0   symboling          205 non-null    int64  \n",
      " 1   normalized-losses  164 non-null    object \n",
      " 2   make               205 non-null    object \n",
      " 3   fuel-type          205 non-null    object \n",
      " 4   aspiration         205 non-null    object \n",
      " 5   num-of-doors       203 non-null    object \n",
      " 6   body-style         205 non-null    object \n",
      " 7   drive-wheels       205 non-null    object \n",
      " 8   engine-location    205 non-null    object \n",
      " 9   wheel-base         205 non-null    float64\n",
      " 10  length             205 non-null    float64\n",
      " 11  width              205 non-null    float64\n",
      " 12  height             205 non-null    float64\n",
      " 13  curb-weight        205 non-null    int64  \n",
      " 14  engine-type        205 non-null    object \n",
      " 15  num-of-cylinders   205 non-null    object \n",
      " 16  engine-size        205 non-null    int64  \n",
      " 17  fuel-system        205 non-null    object \n",
      " 18  bore               201 non-null    object \n",
      " 19  stroke             201 non-null    object \n",
      " 20  compression-ratio  205 non-null    float64\n",
      " 21  horsepower         203 non-null    object \n",
      " 22  peak-rpm           203 non-null    object \n",
      " 23  city-mpg           205 non-null    int64  \n",
      " 24  highway-mpg        205 non-null    int64  \n",
      " 25  price              201 non-null    object \n",
      "dtypes: float64(5), int64(5), object(16)\n",
      "memory usage: 41.8+ KB\n"
     ]
    }
   ],
   "source": [
    "df.info()"
   ]
  },
  {
   "cell_type": "code",
   "execution_count": 10,
   "id": "73b8ef62-a394-4b88-b525-9aab06a1cf10",
   "metadata": {
    "tags": []
   },
   "outputs": [],
   "source": [
    "df['horsepower'] = df['horsepower'].astype('float')"
   ]
  },
  {
   "cell_type": "code",
   "execution_count": 11,
   "id": "16decbaa-27fb-4d3f-91b0-485ed7e70b6f",
   "metadata": {
    "tags": []
   },
   "outputs": [
    {
     "data": {
      "text/plain": [
       "104.25615763546799"
      ]
     },
     "execution_count": 11,
     "metadata": {},
     "output_type": "execute_result"
    }
   ],
   "source": [
    "df['horsepower'].mean()"
   ]
  },
  {
   "cell_type": "code",
   "execution_count": 12,
   "id": "7c75c4da-3e10-48d8-b952-430e07700dd2",
   "metadata": {
    "tags": []
   },
   "outputs": [],
   "source": [
    "def text_to_number(x):\n",
    "    if x == 'two':\n",
    "        return 2\n",
    "    elif x == 'three':\n",
    "        return 3\n",
    "    elif x == 'four':\n",
    "        return 4\n",
    "    elif x == 'five':\n",
    "        return 5\n",
    "    elif x == 'six':\n",
    "        return 6\n",
    "    elif x == 'eight':\n",
    "        return 8\n",
    "    elif x == 'twelve':\n",
    "        return 12\n",
    "    else:\n",
    "        return 0\n",
    "    \n"
   ]
  },
  {
   "cell_type": "code",
   "execution_count": 13,
   "id": "e7f0281b-8d46-4282-991b-e1141edf60e4",
   "metadata": {
    "tags": []
   },
   "outputs": [],
   "source": [
    "df['num-of-cylinders'] = df['num-of-cylinders'].apply(text_to_number).astype('float')"
   ]
  },
  {
   "cell_type": "code",
   "execution_count": 14,
   "id": "3d299e26-0a9e-4528-92b5-495b8dac577e",
   "metadata": {
    "tags": []
   },
   "outputs": [
    {
     "data": {
      "text/plain": [
       "0    4.0\n",
       "1    4.0\n",
       "2    6.0\n",
       "3    4.0\n",
       "4    5.0\n",
       "Name: num-of-cylinders, dtype: float64"
      ]
     },
     "execution_count": 14,
     "metadata": {},
     "output_type": "execute_result"
    }
   ],
   "source": [
    "df['num-of-cylinders'].head()"
   ]
  },
  {
   "cell_type": "code",
   "execution_count": 15,
   "id": "8bdea68e-e2ef-468c-9b83-434a317be096",
   "metadata": {
    "tags": []
   },
   "outputs": [
    {
     "data": {
      "text/plain": [
       "four    95\n",
       "two     64\n",
       "Name: num-of-doors, dtype: int64"
      ]
     },
     "execution_count": 15,
     "metadata": {},
     "output_type": "execute_result"
    }
   ],
   "source": [
    "df = df.dropna()\n",
    "\n",
    "df['num-of-doors'].value_counts()\n"
   ]
  },
  {
   "cell_type": "code",
   "execution_count": 16,
   "id": "13d944ce-cb8d-457c-8825-99f06e36f153",
   "metadata": {
    "tags": []
   },
   "outputs": [],
   "source": [
    "df['num-of-doors'] = df['num-of-doors'].apply(text_to_number).astype('float')"
   ]
  },
  {
   "cell_type": "code",
   "execution_count": 17,
   "id": "6dc2c52f-b7b2-480f-af33-86451dc55930",
   "metadata": {
    "tags": []
   },
   "outputs": [
    {
     "data": {
      "text/plain": [
       "4.0    95\n",
       "2.0    64\n",
       "Name: num-of-doors, dtype: int64"
      ]
     },
     "execution_count": 17,
     "metadata": {},
     "output_type": "execute_result"
    }
   ],
   "source": [
    "df['num-of-doors'].value_counts()"
   ]
  },
  {
   "cell_type": "code",
   "execution_count": 18,
   "id": "7a483597-5892-4cc4-a446-2539f09d1d1d",
   "metadata": {
    "tags": []
   },
   "outputs": [
    {
     "data": {
      "text/plain": [
       "symboling            0\n",
       "normalized-losses    0\n",
       "make                 0\n",
       "fuel-type            0\n",
       "aspiration           0\n",
       "num-of-doors         0\n",
       "body-style           0\n",
       "drive-wheels         0\n",
       "engine-location      0\n",
       "wheel-base           0\n",
       "length               0\n",
       "width                0\n",
       "height               0\n",
       "curb-weight          0\n",
       "engine-type          0\n",
       "num-of-cylinders     0\n",
       "engine-size          0\n",
       "fuel-system          0\n",
       "bore                 0\n",
       "stroke               0\n",
       "compression-ratio    0\n",
       "horsepower           0\n",
       "peak-rpm             0\n",
       "city-mpg             0\n",
       "highway-mpg          0\n",
       "price                0\n",
       "dtype: int64"
      ]
     },
     "execution_count": 18,
     "metadata": {},
     "output_type": "execute_result"
    }
   ],
   "source": [
    "df.isna().sum()"
   ]
  },
  {
   "cell_type": "code",
   "execution_count": 20,
   "id": "3efacf3a-17fe-4062-a10f-d9e4b88ec9e7",
   "metadata": {
    "tags": []
   },
   "outputs": [],
   "source": [
    "df['price'] = df['price'].astype('float')\n"
   ]
  },
  {
   "cell_type": "code",
   "execution_count": 21,
   "id": "03fd2368-8897-43d5-a0f8-ae1f473b0d13",
   "metadata": {
    "tags": []
   },
   "outputs": [
    {
     "name": "stdout",
     "output_type": "stream",
     "text": [
      "<class 'pandas.core.frame.DataFrame'>\n",
      "Int64Index: 159 entries, 3 to 204\n",
      "Data columns (total 26 columns):\n",
      " #   Column             Non-Null Count  Dtype  \n",
      "---  ------             --------------  -----  \n",
      " 0   symboling          159 non-null    int64  \n",
      " 1   normalized-losses  159 non-null    object \n",
      " 2   make               159 non-null    object \n",
      " 3   fuel-type          159 non-null    object \n",
      " 4   aspiration         159 non-null    object \n",
      " 5   num-of-doors       159 non-null    float64\n",
      " 6   body-style         159 non-null    object \n",
      " 7   drive-wheels       159 non-null    object \n",
      " 8   engine-location    159 non-null    object \n",
      " 9   wheel-base         159 non-null    float64\n",
      " 10  length             159 non-null    float64\n",
      " 11  width              159 non-null    float64\n",
      " 12  height             159 non-null    float64\n",
      " 13  curb-weight        159 non-null    int64  \n",
      " 14  engine-type        159 non-null    object \n",
      " 15  num-of-cylinders   159 non-null    float64\n",
      " 16  engine-size        159 non-null    int64  \n",
      " 17  fuel-system        159 non-null    object \n",
      " 18  bore               159 non-null    object \n",
      " 19  stroke             159 non-null    object \n",
      " 20  compression-ratio  159 non-null    float64\n",
      " 21  horsepower         159 non-null    float64\n",
      " 22  peak-rpm           159 non-null    object \n",
      " 23  city-mpg           159 non-null    int64  \n",
      " 24  highway-mpg        159 non-null    int64  \n",
      " 25  price              159 non-null    float64\n",
      "dtypes: float64(9), int64(5), object(12)\n",
      "memory usage: 33.5+ KB\n"
     ]
    }
   ],
   "source": [
    "df.info()"
   ]
  },
  {
   "cell_type": "code",
   "execution_count": 22,
   "id": "f60cfa64-744e-472f-b362-c6124d0c11ab",
   "metadata": {
    "tags": []
   },
   "outputs": [],
   "source": [
    "numeric_variables = [\n",
    "     'symboling',          \n",
    " 'num-of-doors',      \n",
    " 'wheel-base',     \n",
    " 'length',   \n",
    " 'width',    \n",
    " 'height',   \n",
    " 'curb-weight', \n",
    " 'num-of-cylinders',\n",
    " 'engine-size', \n",
    " 'compression-ratio',\n",
    " 'horsepower',\n",
    " 'city-mpg', \n",
    " 'highway-mpg',\n",
    " 'price',   ]\n"
   ]
  },
  {
   "cell_type": "code",
   "execution_count": 23,
   "id": "219fa501-ac1e-44ef-9a11-ed1132680f07",
   "metadata": {
    "tags": []
   },
   "outputs": [
    {
     "data": {
      "text/plain": [
       "['symboling',\n",
       " 'num-of-doors',\n",
       " 'wheel-base',\n",
       " 'length',\n",
       " 'width',\n",
       " 'height',\n",
       " 'curb-weight',\n",
       " 'num-of-cylinders',\n",
       " 'engine-size',\n",
       " 'compression-ratio',\n",
       " 'horsepower',\n",
       " 'city-mpg',\n",
       " 'highway-mpg',\n",
       " 'price']"
      ]
     },
     "execution_count": 23,
     "metadata": {},
     "output_type": "execute_result"
    }
   ],
   "source": [
    "numeric_variables"
   ]
  },
  {
   "cell_type": "code",
   "execution_count": 24,
   "id": "c6b79707-deb1-4e3d-80f6-27f3f9a8a340",
   "metadata": {
    "tags": []
   },
   "outputs": [],
   "source": [
    "df = df[numeric_variables].copy()"
   ]
  },
  {
   "cell_type": "code",
   "execution_count": 28,
   "id": "daf87ed2-c803-423d-b3e5-6aadaa92e25d",
   "metadata": {
    "tags": []
   },
   "outputs": [],
   "source": [
    "df = df.drop(columns=['symboling'])"
   ]
  },
  {
   "cell_type": "code",
   "execution_count": 29,
   "id": "951fa4ad-9880-4b34-b835-8140ba871a5a",
   "metadata": {
    "tags": []
   },
   "outputs": [
    {
     "data": {
      "text/html": [
       "<div>\n",
       "<style scoped>\n",
       "    .dataframe tbody tr th:only-of-type {\n",
       "        vertical-align: middle;\n",
       "    }\n",
       "\n",
       "    .dataframe tbody tr th {\n",
       "        vertical-align: top;\n",
       "    }\n",
       "\n",
       "    .dataframe thead th {\n",
       "        text-align: right;\n",
       "    }\n",
       "</style>\n",
       "<table border=\"1\" class=\"dataframe\">\n",
       "  <thead>\n",
       "    <tr style=\"text-align: right;\">\n",
       "      <th></th>\n",
       "      <th>num-of-doors</th>\n",
       "      <th>wheel-base</th>\n",
       "      <th>length</th>\n",
       "      <th>width</th>\n",
       "      <th>height</th>\n",
       "      <th>curb-weight</th>\n",
       "      <th>num-of-cylinders</th>\n",
       "      <th>engine-size</th>\n",
       "      <th>compression-ratio</th>\n",
       "      <th>horsepower</th>\n",
       "      <th>city-mpg</th>\n",
       "      <th>highway-mpg</th>\n",
       "      <th>price</th>\n",
       "    </tr>\n",
       "  </thead>\n",
       "  <tbody>\n",
       "    <tr>\n",
       "      <th>3</th>\n",
       "      <td>4.0</td>\n",
       "      <td>99.8</td>\n",
       "      <td>176.6</td>\n",
       "      <td>66.2</td>\n",
       "      <td>54.3</td>\n",
       "      <td>2337</td>\n",
       "      <td>4.0</td>\n",
       "      <td>109</td>\n",
       "      <td>10.0</td>\n",
       "      <td>102.0</td>\n",
       "      <td>24</td>\n",
       "      <td>30</td>\n",
       "      <td>13950.0</td>\n",
       "    </tr>\n",
       "    <tr>\n",
       "      <th>4</th>\n",
       "      <td>4.0</td>\n",
       "      <td>99.4</td>\n",
       "      <td>176.6</td>\n",
       "      <td>66.4</td>\n",
       "      <td>54.3</td>\n",
       "      <td>2824</td>\n",
       "      <td>5.0</td>\n",
       "      <td>136</td>\n",
       "      <td>8.0</td>\n",
       "      <td>115.0</td>\n",
       "      <td>18</td>\n",
       "      <td>22</td>\n",
       "      <td>17450.0</td>\n",
       "    </tr>\n",
       "    <tr>\n",
       "      <th>6</th>\n",
       "      <td>4.0</td>\n",
       "      <td>105.8</td>\n",
       "      <td>192.7</td>\n",
       "      <td>71.4</td>\n",
       "      <td>55.7</td>\n",
       "      <td>2844</td>\n",
       "      <td>5.0</td>\n",
       "      <td>136</td>\n",
       "      <td>8.5</td>\n",
       "      <td>110.0</td>\n",
       "      <td>19</td>\n",
       "      <td>25</td>\n",
       "      <td>17710.0</td>\n",
       "    </tr>\n",
       "    <tr>\n",
       "      <th>8</th>\n",
       "      <td>4.0</td>\n",
       "      <td>105.8</td>\n",
       "      <td>192.7</td>\n",
       "      <td>71.4</td>\n",
       "      <td>55.9</td>\n",
       "      <td>3086</td>\n",
       "      <td>5.0</td>\n",
       "      <td>131</td>\n",
       "      <td>8.3</td>\n",
       "      <td>140.0</td>\n",
       "      <td>17</td>\n",
       "      <td>20</td>\n",
       "      <td>23875.0</td>\n",
       "    </tr>\n",
       "    <tr>\n",
       "      <th>10</th>\n",
       "      <td>2.0</td>\n",
       "      <td>101.2</td>\n",
       "      <td>176.8</td>\n",
       "      <td>64.8</td>\n",
       "      <td>54.3</td>\n",
       "      <td>2395</td>\n",
       "      <td>4.0</td>\n",
       "      <td>108</td>\n",
       "      <td>8.8</td>\n",
       "      <td>101.0</td>\n",
       "      <td>23</td>\n",
       "      <td>29</td>\n",
       "      <td>16430.0</td>\n",
       "    </tr>\n",
       "  </tbody>\n",
       "</table>\n",
       "</div>"
      ],
      "text/plain": [
       "    num-of-doors  wheel-base  length  width  height  curb-weight  \\\n",
       "3            4.0        99.8   176.6   66.2    54.3         2337   \n",
       "4            4.0        99.4   176.6   66.4    54.3         2824   \n",
       "6            4.0       105.8   192.7   71.4    55.7         2844   \n",
       "8            4.0       105.8   192.7   71.4    55.9         3086   \n",
       "10           2.0       101.2   176.8   64.8    54.3         2395   \n",
       "\n",
       "    num-of-cylinders  engine-size  compression-ratio  horsepower  city-mpg  \\\n",
       "3                4.0          109               10.0       102.0        24   \n",
       "4                5.0          136                8.0       115.0        18   \n",
       "6                5.0          136                8.5       110.0        19   \n",
       "8                5.0          131                8.3       140.0        17   \n",
       "10               4.0          108                8.8       101.0        23   \n",
       "\n",
       "    highway-mpg    price  \n",
       "3            30  13950.0  \n",
       "4            22  17450.0  \n",
       "6            25  17710.0  \n",
       "8            20  23875.0  \n",
       "10           29  16430.0  "
      ]
     },
     "execution_count": 29,
     "metadata": {},
     "output_type": "execute_result"
    }
   ],
   "source": [
    "df.head()"
   ]
  },
  {
   "cell_type": "code",
   "execution_count": 35,
   "id": "c92afe02-90e7-47ff-9ce1-aed0bf8d8918",
   "metadata": {
    "tags": []
   },
   "outputs": [],
   "source": [
    "X = df[[\n",
    " 'num-of-doors',\n",
    " 'wheel-base',\n",
    " 'length',\n",
    " 'width',\n",
    " 'height',\n",
    " 'curb-weight',\n",
    " 'num-of-cylinders',\n",
    " 'engine-size',\n",
    " 'compression-ratio',\n",
    " 'horsepower',\n",
    " 'city-mpg',\n",
    " 'highway-mpg']].copy()\n"
   ]
  },
  {
   "cell_type": "code",
   "execution_count": 36,
   "id": "99e44bc6-73cb-47ca-92dc-918a15385e9a",
   "metadata": {
    "tags": []
   },
   "outputs": [],
   "source": [
    "y = df['price']"
   ]
  },
  {
   "cell_type": "code",
   "execution_count": 37,
   "id": "441f12fb-cbc9-4982-adee-75775b02fa92",
   "metadata": {
    "tags": []
   },
   "outputs": [],
   "source": [
    "X = (X-X.mean())/X.std()"
   ]
  },
  {
   "cell_type": "code",
   "execution_count": 38,
   "id": "680d95fc-fecf-41b3-b4ca-2fe78be25333",
   "metadata": {
    "tags": []
   },
   "outputs": [
    {
     "data": {
      "text/html": [
       "<div>\n",
       "<style scoped>\n",
       "    .dataframe tbody tr th:only-of-type {\n",
       "        vertical-align: middle;\n",
       "    }\n",
       "\n",
       "    .dataframe tbody tr th {\n",
       "        vertical-align: top;\n",
       "    }\n",
       "\n",
       "    .dataframe thead th {\n",
       "        text-align: right;\n",
       "    }\n",
       "</style>\n",
       "<table border=\"1\" class=\"dataframe\">\n",
       "  <thead>\n",
       "    <tr style=\"text-align: right;\">\n",
       "      <th></th>\n",
       "      <th>num-of-doors</th>\n",
       "      <th>wheel-base</th>\n",
       "      <th>length</th>\n",
       "      <th>width</th>\n",
       "      <th>height</th>\n",
       "      <th>curb-weight</th>\n",
       "      <th>num-of-cylinders</th>\n",
       "      <th>engine-size</th>\n",
       "      <th>compression-ratio</th>\n",
       "      <th>horsepower</th>\n",
       "      <th>city-mpg</th>\n",
       "      <th>highway-mpg</th>\n",
       "    </tr>\n",
       "  </thead>\n",
       "  <tbody>\n",
       "    <tr>\n",
       "      <th>3</th>\n",
       "      <td>0.818198</td>\n",
       "      <td>0.297218</td>\n",
       "      <td>0.363282</td>\n",
       "      <td>0.304152</td>\n",
       "      <td>0.176585</td>\n",
       "      <td>-0.257580</td>\n",
       "      <td>-0.356727</td>\n",
       "      <td>-0.335724</td>\n",
       "      <td>-0.041428</td>\n",
       "      <td>0.200645</td>\n",
       "      <td>-0.413638</td>\n",
       "      <td>-0.322294</td>\n",
       "    </tr>\n",
       "    <tr>\n",
       "      <th>4</th>\n",
       "      <td>0.818198</td>\n",
       "      <td>0.219810</td>\n",
       "      <td>0.363282</td>\n",
       "      <td>0.406828</td>\n",
       "      <td>0.176585</td>\n",
       "      <td>0.752917</td>\n",
       "      <td>1.135894</td>\n",
       "      <td>0.550661</td>\n",
       "      <td>-0.555636</td>\n",
       "      <td>0.623841</td>\n",
       "      <td>-1.397706</td>\n",
       "      <td>-1.560840</td>\n",
       "    </tr>\n",
       "    <tr>\n",
       "      <th>6</th>\n",
       "      <td>0.818198</td>\n",
       "      <td>1.458340</td>\n",
       "      <td>1.760466</td>\n",
       "      <td>2.973718</td>\n",
       "      <td>0.793662</td>\n",
       "      <td>0.794415</td>\n",
       "      <td>1.135894</td>\n",
       "      <td>0.550661</td>\n",
       "      <td>-0.427084</td>\n",
       "      <td>0.461073</td>\n",
       "      <td>-1.233695</td>\n",
       "      <td>-1.096385</td>\n",
       "    </tr>\n",
       "    <tr>\n",
       "      <th>8</th>\n",
       "      <td>0.818198</td>\n",
       "      <td>1.458340</td>\n",
       "      <td>1.760466</td>\n",
       "      <td>2.973718</td>\n",
       "      <td>0.881816</td>\n",
       "      <td>1.296551</td>\n",
       "      <td>1.135894</td>\n",
       "      <td>0.386516</td>\n",
       "      <td>-0.478505</td>\n",
       "      <td>1.437681</td>\n",
       "      <td>-1.561717</td>\n",
       "      <td>-1.870477</td>\n",
       "    </tr>\n",
       "    <tr>\n",
       "      <th>10</th>\n",
       "      <td>-1.214512</td>\n",
       "      <td>0.568146</td>\n",
       "      <td>0.380638</td>\n",
       "      <td>-0.414577</td>\n",
       "      <td>0.176585</td>\n",
       "      <td>-0.137233</td>\n",
       "      <td>-0.356727</td>\n",
       "      <td>-0.368553</td>\n",
       "      <td>-0.349953</td>\n",
       "      <td>0.168091</td>\n",
       "      <td>-0.577650</td>\n",
       "      <td>-0.477113</td>\n",
       "    </tr>\n",
       "    <tr>\n",
       "      <th>...</th>\n",
       "      <td>...</td>\n",
       "      <td>...</td>\n",
       "      <td>...</td>\n",
       "      <td>...</td>\n",
       "      <td>...</td>\n",
       "      <td>...</td>\n",
       "      <td>...</td>\n",
       "      <td>...</td>\n",
       "      <td>...</td>\n",
       "      <td>...</td>\n",
       "      <td>...</td>\n",
       "      <td>...</td>\n",
       "    </tr>\n",
       "    <tr>\n",
       "      <th>200</th>\n",
       "      <td>0.818198</td>\n",
       "      <td>2.096957</td>\n",
       "      <td>1.422018</td>\n",
       "      <td>1.690273</td>\n",
       "      <td>0.705508</td>\n",
       "      <td>1.018509</td>\n",
       "      <td>-0.356727</td>\n",
       "      <td>0.714807</td>\n",
       "      <td>-0.169980</td>\n",
       "      <td>0.591288</td>\n",
       "      <td>-0.577650</td>\n",
       "      <td>-0.631931</td>\n",
       "    </tr>\n",
       "    <tr>\n",
       "      <th>201</th>\n",
       "      <td>0.818198</td>\n",
       "      <td>2.096957</td>\n",
       "      <td>1.422018</td>\n",
       "      <td>1.638935</td>\n",
       "      <td>0.705508</td>\n",
       "      <td>1.219778</td>\n",
       "      <td>-0.356727</td>\n",
       "      <td>0.714807</td>\n",
       "      <td>-0.375663</td>\n",
       "      <td>2.088753</td>\n",
       "      <td>-1.233695</td>\n",
       "      <td>-1.096385</td>\n",
       "    </tr>\n",
       "    <tr>\n",
       "      <th>202</th>\n",
       "      <td>0.818198</td>\n",
       "      <td>2.096957</td>\n",
       "      <td>1.422018</td>\n",
       "      <td>1.690273</td>\n",
       "      <td>0.705508</td>\n",
       "      <td>1.143006</td>\n",
       "      <td>2.628515</td>\n",
       "      <td>1.765338</td>\n",
       "      <td>-0.349953</td>\n",
       "      <td>1.242359</td>\n",
       "      <td>-1.397706</td>\n",
       "      <td>-1.406022</td>\n",
       "    </tr>\n",
       "    <tr>\n",
       "      <th>203</th>\n",
       "      <td>0.818198</td>\n",
       "      <td>2.096957</td>\n",
       "      <td>1.422018</td>\n",
       "      <td>1.690273</td>\n",
       "      <td>0.705508</td>\n",
       "      <td>1.568369</td>\n",
       "      <td>2.628515</td>\n",
       "      <td>0.846123</td>\n",
       "      <td>3.300926</td>\n",
       "      <td>0.330859</td>\n",
       "      <td>-0.085616</td>\n",
       "      <td>-0.786749</td>\n",
       "    </tr>\n",
       "    <tr>\n",
       "      <th>204</th>\n",
       "      <td>0.818198</td>\n",
       "      <td>2.096957</td>\n",
       "      <td>1.422018</td>\n",
       "      <td>1.690273</td>\n",
       "      <td>0.705508</td>\n",
       "      <td>1.246753</td>\n",
       "      <td>-0.356727</td>\n",
       "      <td>0.714807</td>\n",
       "      <td>-0.169980</td>\n",
       "      <td>0.591288</td>\n",
       "      <td>-1.233695</td>\n",
       "      <td>-1.096385</td>\n",
       "    </tr>\n",
       "  </tbody>\n",
       "</table>\n",
       "<p>159 rows × 12 columns</p>\n",
       "</div>"
      ],
      "text/plain": [
       "     num-of-doors  wheel-base    length     width    height  curb-weight  \\\n",
       "3        0.818198    0.297218  0.363282  0.304152  0.176585    -0.257580   \n",
       "4        0.818198    0.219810  0.363282  0.406828  0.176585     0.752917   \n",
       "6        0.818198    1.458340  1.760466  2.973718  0.793662     0.794415   \n",
       "8        0.818198    1.458340  1.760466  2.973718  0.881816     1.296551   \n",
       "10      -1.214512    0.568146  0.380638 -0.414577  0.176585    -0.137233   \n",
       "..            ...         ...       ...       ...       ...          ...   \n",
       "200      0.818198    2.096957  1.422018  1.690273  0.705508     1.018509   \n",
       "201      0.818198    2.096957  1.422018  1.638935  0.705508     1.219778   \n",
       "202      0.818198    2.096957  1.422018  1.690273  0.705508     1.143006   \n",
       "203      0.818198    2.096957  1.422018  1.690273  0.705508     1.568369   \n",
       "204      0.818198    2.096957  1.422018  1.690273  0.705508     1.246753   \n",
       "\n",
       "     num-of-cylinders  engine-size  compression-ratio  horsepower  city-mpg  \\\n",
       "3           -0.356727    -0.335724          -0.041428    0.200645 -0.413638   \n",
       "4            1.135894     0.550661          -0.555636    0.623841 -1.397706   \n",
       "6            1.135894     0.550661          -0.427084    0.461073 -1.233695   \n",
       "8            1.135894     0.386516          -0.478505    1.437681 -1.561717   \n",
       "10          -0.356727    -0.368553          -0.349953    0.168091 -0.577650   \n",
       "..                ...          ...                ...         ...       ...   \n",
       "200         -0.356727     0.714807          -0.169980    0.591288 -0.577650   \n",
       "201         -0.356727     0.714807          -0.375663    2.088753 -1.233695   \n",
       "202          2.628515     1.765338          -0.349953    1.242359 -1.397706   \n",
       "203          2.628515     0.846123           3.300926    0.330859 -0.085616   \n",
       "204         -0.356727     0.714807          -0.169980    0.591288 -1.233695   \n",
       "\n",
       "     highway-mpg  \n",
       "3      -0.322294  \n",
       "4      -1.560840  \n",
       "6      -1.096385  \n",
       "8      -1.870477  \n",
       "10     -0.477113  \n",
       "..           ...  \n",
       "200    -0.631931  \n",
       "201    -1.096385  \n",
       "202    -1.406022  \n",
       "203    -0.786749  \n",
       "204    -1.096385  \n",
       "\n",
       "[159 rows x 12 columns]"
      ]
     },
     "execution_count": 38,
     "metadata": {},
     "output_type": "execute_result"
    }
   ],
   "source": [
    "X"
   ]
  },
  {
   "cell_type": "code",
   "execution_count": 41,
   "id": "988816e8-2650-43da-8061-e1932a483e94",
   "metadata": {
    "tags": []
   },
   "outputs": [],
   "source": [
    "from sklearn.neighbors import KNeighborsRegressor\n",
    "import math"
   ]
  },
  {
   "cell_type": "code",
   "execution_count": 42,
   "id": "923a6c51-34d0-48fc-937e-302920752e3e",
   "metadata": {
    "tags": []
   },
   "outputs": [],
   "source": [
    "k_split = math.trunc(len(X)/5)"
   ]
  },
  {
   "cell_type": "code",
   "execution_count": 43,
   "id": "a885e64b-185c-4435-9dd6-61373dbda804",
   "metadata": {
    "tags": []
   },
   "outputs": [
    {
     "data": {
      "text/plain": [
       "31"
      ]
     },
     "execution_count": 43,
     "metadata": {},
     "output_type": "execute_result"
    }
   ],
   "source": [
    "k_split"
   ]
  },
  {
   "cell_type": "code",
   "execution_count": 44,
   "id": "f0997045-c1ce-480e-97e2-806ee68582ed",
   "metadata": {
    "tags": []
   },
   "outputs": [],
   "source": [
    "for i in range(0,5):\n",
    "    X.loc[X.index[(k_split*i): (k_split*(i+1) if i<4 else len(X))], 'fold'] = i+1 "
   ]
  },
  {
   "cell_type": "code",
   "execution_count": 46,
   "id": "1424ba75-04bd-4d8a-987e-b27403a24cd4",
   "metadata": {
    "tags": []
   },
   "outputs": [
    {
     "data": {
      "text/plain": [
       "5.0    35\n",
       "1.0    31\n",
       "2.0    31\n",
       "3.0    31\n",
       "4.0    31\n",
       "Name: fold, dtype: int64"
      ]
     },
     "execution_count": 46,
     "metadata": {},
     "output_type": "execute_result"
    }
   ],
   "source": [
    "X['fold'].value_counts()\n",
    "\n"
   ]
  },
  {
   "cell_type": "code",
   "execution_count": 49,
   "id": "a056387a-9ed9-4f89-a65e-9b5493e63775",
   "metadata": {
    "tags": []
   },
   "outputs": [],
   "source": [
    "X['price'] = y"
   ]
  },
  {
   "cell_type": "code",
   "execution_count": 50,
   "id": "7cbd0599-c45c-420c-8e49-ce5fc4fdd1ac",
   "metadata": {
    "tags": []
   },
   "outputs": [
    {
     "data": {
      "text/html": [
       "<div>\n",
       "<style scoped>\n",
       "    .dataframe tbody tr th:only-of-type {\n",
       "        vertical-align: middle;\n",
       "    }\n",
       "\n",
       "    .dataframe tbody tr th {\n",
       "        vertical-align: top;\n",
       "    }\n",
       "\n",
       "    .dataframe thead th {\n",
       "        text-align: right;\n",
       "    }\n",
       "</style>\n",
       "<table border=\"1\" class=\"dataframe\">\n",
       "  <thead>\n",
       "    <tr style=\"text-align: right;\">\n",
       "      <th></th>\n",
       "      <th>num-of-doors</th>\n",
       "      <th>wheel-base</th>\n",
       "      <th>length</th>\n",
       "      <th>width</th>\n",
       "      <th>height</th>\n",
       "      <th>curb-weight</th>\n",
       "      <th>num-of-cylinders</th>\n",
       "      <th>engine-size</th>\n",
       "      <th>compression-ratio</th>\n",
       "      <th>horsepower</th>\n",
       "      <th>city-mpg</th>\n",
       "      <th>highway-mpg</th>\n",
       "      <th>fold</th>\n",
       "      <th>price</th>\n",
       "    </tr>\n",
       "  </thead>\n",
       "  <tbody>\n",
       "    <tr>\n",
       "      <th>3</th>\n",
       "      <td>0.818198</td>\n",
       "      <td>0.297218</td>\n",
       "      <td>0.363282</td>\n",
       "      <td>0.304152</td>\n",
       "      <td>0.176585</td>\n",
       "      <td>-0.257580</td>\n",
       "      <td>-0.356727</td>\n",
       "      <td>-0.335724</td>\n",
       "      <td>-0.041428</td>\n",
       "      <td>0.200645</td>\n",
       "      <td>-0.413638</td>\n",
       "      <td>-0.322294</td>\n",
       "      <td>1.0</td>\n",
       "      <td>13950.0</td>\n",
       "    </tr>\n",
       "    <tr>\n",
       "      <th>4</th>\n",
       "      <td>0.818198</td>\n",
       "      <td>0.219810</td>\n",
       "      <td>0.363282</td>\n",
       "      <td>0.406828</td>\n",
       "      <td>0.176585</td>\n",
       "      <td>0.752917</td>\n",
       "      <td>1.135894</td>\n",
       "      <td>0.550661</td>\n",
       "      <td>-0.555636</td>\n",
       "      <td>0.623841</td>\n",
       "      <td>-1.397706</td>\n",
       "      <td>-1.560840</td>\n",
       "      <td>1.0</td>\n",
       "      <td>17450.0</td>\n",
       "    </tr>\n",
       "    <tr>\n",
       "      <th>6</th>\n",
       "      <td>0.818198</td>\n",
       "      <td>1.458340</td>\n",
       "      <td>1.760466</td>\n",
       "      <td>2.973718</td>\n",
       "      <td>0.793662</td>\n",
       "      <td>0.794415</td>\n",
       "      <td>1.135894</td>\n",
       "      <td>0.550661</td>\n",
       "      <td>-0.427084</td>\n",
       "      <td>0.461073</td>\n",
       "      <td>-1.233695</td>\n",
       "      <td>-1.096385</td>\n",
       "      <td>1.0</td>\n",
       "      <td>17710.0</td>\n",
       "    </tr>\n",
       "    <tr>\n",
       "      <th>8</th>\n",
       "      <td>0.818198</td>\n",
       "      <td>1.458340</td>\n",
       "      <td>1.760466</td>\n",
       "      <td>2.973718</td>\n",
       "      <td>0.881816</td>\n",
       "      <td>1.296551</td>\n",
       "      <td>1.135894</td>\n",
       "      <td>0.386516</td>\n",
       "      <td>-0.478505</td>\n",
       "      <td>1.437681</td>\n",
       "      <td>-1.561717</td>\n",
       "      <td>-1.870477</td>\n",
       "      <td>1.0</td>\n",
       "      <td>23875.0</td>\n",
       "    </tr>\n",
       "    <tr>\n",
       "      <th>10</th>\n",
       "      <td>-1.214512</td>\n",
       "      <td>0.568146</td>\n",
       "      <td>0.380638</td>\n",
       "      <td>-0.414577</td>\n",
       "      <td>0.176585</td>\n",
       "      <td>-0.137233</td>\n",
       "      <td>-0.356727</td>\n",
       "      <td>-0.368553</td>\n",
       "      <td>-0.349953</td>\n",
       "      <td>0.168091</td>\n",
       "      <td>-0.577650</td>\n",
       "      <td>-0.477113</td>\n",
       "      <td>1.0</td>\n",
       "      <td>16430.0</td>\n",
       "    </tr>\n",
       "  </tbody>\n",
       "</table>\n",
       "</div>"
      ],
      "text/plain": [
       "    num-of-doors  wheel-base    length     width    height  curb-weight  \\\n",
       "3       0.818198    0.297218  0.363282  0.304152  0.176585    -0.257580   \n",
       "4       0.818198    0.219810  0.363282  0.406828  0.176585     0.752917   \n",
       "6       0.818198    1.458340  1.760466  2.973718  0.793662     0.794415   \n",
       "8       0.818198    1.458340  1.760466  2.973718  0.881816     1.296551   \n",
       "10     -1.214512    0.568146  0.380638 -0.414577  0.176585    -0.137233   \n",
       "\n",
       "    num-of-cylinders  engine-size  compression-ratio  horsepower  city-mpg  \\\n",
       "3          -0.356727    -0.335724          -0.041428    0.200645 -0.413638   \n",
       "4           1.135894     0.550661          -0.555636    0.623841 -1.397706   \n",
       "6           1.135894     0.550661          -0.427084    0.461073 -1.233695   \n",
       "8           1.135894     0.386516          -0.478505    1.437681 -1.561717   \n",
       "10         -0.356727    -0.368553          -0.349953    0.168091 -0.577650   \n",
       "\n",
       "    highway-mpg  fold    price  \n",
       "3     -0.322294   1.0  13950.0  \n",
       "4     -1.560840   1.0  17450.0  \n",
       "6     -1.096385   1.0  17710.0  \n",
       "8     -1.870477   1.0  23875.0  \n",
       "10    -0.477113   1.0  16430.0  "
      ]
     },
     "execution_count": 50,
     "metadata": {},
     "output_type": "execute_result"
    }
   ],
   "source": [
    "X.head()"
   ]
  },
  {
   "cell_type": "code",
   "execution_count": null,
   "id": "d6c21fbd-ad9e-4545-8242-2a120557b979",
   "metadata": {},
   "outputs": [],
   "source": [
    "\n",
    "    "
   ]
  },
  {
   "cell_type": "code",
   "execution_count": 51,
   "id": "b922b21b-2d25-4348-b750-f82ea203a192",
   "metadata": {
    "tags": []
   },
   "outputs": [],
   "source": [
    "numeric_variables.remove('symboling')"
   ]
  },
  {
   "cell_type": "code",
   "execution_count": 52,
   "id": "7f1d4775-deb6-47af-a811-d0377e184bae",
   "metadata": {
    "tags": []
   },
   "outputs": [
    {
     "data": {
      "text/plain": [
       "['num-of-doors',\n",
       " 'wheel-base',\n",
       " 'length',\n",
       " 'width',\n",
       " 'height',\n",
       " 'curb-weight',\n",
       " 'num-of-cylinders',\n",
       " 'engine-size',\n",
       " 'compression-ratio',\n",
       " 'horsepower',\n",
       " 'city-mpg',\n",
       " 'highway-mpg',\n",
       " 'price']"
      ]
     },
     "execution_count": 52,
     "metadata": {},
     "output_type": "execute_result"
    }
   ],
   "source": [
    "numeric_variables"
   ]
  },
  {
   "cell_type": "code",
   "execution_count": 55,
   "id": "688a0e3e-79eb-4e37-a374-e79101c11d77",
   "metadata": {
    "tags": []
   },
   "outputs": [],
   "source": [
    "from sklearn.metrics import mean_squared_error"
   ]
  },
  {
   "cell_type": "code",
   "execution_count": 57,
   "id": "f037d139-8180-4dd8-8f32-e00f2e135e9e",
   "metadata": {
    "tags": []
   },
   "outputs": [],
   "source": [
    "rmse_list = []\n",
    "\n",
    "for i in range(1,6):\n",
    "    knn = KNeighborsRegressor()\n",
    "    knn.fit(\n",
    "        X[X['fold'] != i][numeric_variables],\n",
    "        X[X['fold'] != i]['price']\n",
    "    )\n",
    "    pred = knn.predict(X[X['fold']==i][numeric_variables])\n",
    "    rmse = mean_squared_error(X[X['fold']==i]['price'], pred)**0.5\n",
    "    rmse_list.append(rmse)"
   ]
  },
  {
   "cell_type": "code",
   "execution_count": 60,
   "id": "3c0a864c-c7f5-420f-a18f-bddc3010f07b",
   "metadata": {
    "tags": []
   },
   "outputs": [
    {
     "data": {
      "text/plain": [
       "910.7270594098181"
      ]
     },
     "execution_count": 60,
     "metadata": {},
     "output_type": "execute_result"
    }
   ],
   "source": [
    "np.mean(rmse_list)"
   ]
  },
  {
   "cell_type": "code",
   "execution_count": 61,
   "id": "a8439eda-8a4d-4b53-b94d-9c92940bbb71",
   "metadata": {
    "tags": []
   },
   "outputs": [
    {
     "data": {
      "text/plain": [
       "1366.0739454935972"
      ]
     },
     "execution_count": 61,
     "metadata": {},
     "output_type": "execute_result"
    }
   ],
   "source": [
    "np.std(rmse_list)"
   ]
  },
  {
   "cell_type": "code",
   "execution_count": 62,
   "id": "794f6477-7b3a-4212-b4dc-e8ee26fdd981",
   "metadata": {
    "tags": []
   },
   "outputs": [
    {
     "data": {
      "text/plain": [
       "count      159.000000\n",
       "mean     11445.729560\n",
       "std       5877.856195\n",
       "min       5118.000000\n",
       "25%       7372.000000\n",
       "50%       9233.000000\n",
       "75%      14719.500000\n",
       "max      35056.000000\n",
       "Name: price, dtype: float64"
      ]
     },
     "execution_count": 62,
     "metadata": {},
     "output_type": "execute_result"
    }
   ],
   "source": [
    "y.describe()"
   ]
  },
  {
   "cell_type": "code",
   "execution_count": 65,
   "id": "38e33b73-b814-4a09-a702-50075e307902",
   "metadata": {
    "tags": []
   },
   "outputs": [
    {
     "data": {
      "text/plain": [
       "4618.190994232679"
      ]
     },
     "execution_count": 65,
     "metadata": {},
     "output_type": "execute_result"
    }
   ],
   "source": [
    "rmse_list = []\n",
    "\n",
    "variables = ['engine-size']\n",
    "\n",
    "for i in range(1,6):\n",
    "    knn = KNeighborsRegressor()\n",
    "    knn.fit(\n",
    "        X[X['fold'] != i][variables],\n",
    "        X[X['fold'] != i]['price']\n",
    "    )\n",
    "    pred = knn.predict(X[X['fold']==i][variables])\n",
    "    rmse = mean_squared_error(X[X['fold']==i]['price'], pred)**0.5\n",
    "    rmse_list.append(rmse)\n",
    "    \n",
    "np.mean(rmse_list)"
   ]
  },
  {
   "cell_type": "code",
   "execution_count": 66,
   "id": "11e555f5-336b-4cf2-9187-fb967dfaba66",
   "metadata": {
    "tags": []
   },
   "outputs": [
    {
     "data": {
      "text/plain": [
       "3457.2837083535896"
      ]
     },
     "execution_count": 66,
     "metadata": {},
     "output_type": "execute_result"
    }
   ],
   "source": [
    "rmse_list = []\n",
    "\n",
    "variables = ['engine-size', 'horsepower']\n",
    "\n",
    "for i in range(1,6):\n",
    "    knn = KNeighborsRegressor()\n",
    "    knn.fit(\n",
    "        X[X['fold'] != i][variables],\n",
    "        X[X['fold'] != i]['price']\n",
    "    )\n",
    "    pred = knn.predict(X[X['fold']==i][variables])\n",
    "    rmse = mean_squared_error(X[X['fold']==i]['price'], pred)**0.5\n",
    "    rmse_list.append(rmse)\n",
    "    \n",
    "np.mean(rmse_list)"
   ]
  },
  {
   "cell_type": "code",
   "execution_count": 69,
   "id": "e13b462c-610f-4be8-93df-c9fdb91d9557",
   "metadata": {
    "tags": []
   },
   "outputs": [
    {
     "data": {
      "text/plain": [
       "3317.6137425054394"
      ]
     },
     "execution_count": 69,
     "metadata": {},
     "output_type": "execute_result"
    }
   ],
   "source": [
    "rmse_list = []\n",
    "\n",
    "variables = ['engine-size', 'horsepower', 'num-of-cylinders']\n",
    "\n",
    "for i in range(1,6):\n",
    "    knn = KNeighborsRegressor()\n",
    "    knn.fit(\n",
    "        X[X['fold'] != i][variables],\n",
    "        X[X['fold'] != i]['price']\n",
    "    )\n",
    "    pred = knn.predict(X[X['fold']==i][variables])\n",
    "    rmse = mean_squared_error(X[X['fold']==i]['price'], pred)**0.5\n",
    "    rmse_list.append(rmse)\n",
    "    \n",
    "np.mean(rmse_list)"
   ]
  },
  {
   "cell_type": "code",
   "execution_count": 70,
   "id": "8270e232-7ade-4d99-8f3c-708b981da1eb",
   "metadata": {
    "tags": []
   },
   "outputs": [
    {
     "data": {
      "text/plain": [
       "856.0655877397918"
      ]
     },
     "execution_count": 70,
     "metadata": {},
     "output_type": "execute_result"
    }
   ],
   "source": [
    "rmse_list = []\n",
    "\n",
    "for i in range(1,6):\n",
    "    knn = KNeighborsRegressor(weights='distance')\n",
    "    knn.fit(\n",
    "        X[X['fold'] != i][numeric_variables],\n",
    "        X[X['fold'] != i]['price']\n",
    "    )\n",
    "    pred = knn.predict(X[X['fold']==i][numeric_variables])\n",
    "    rmse = mean_squared_error(X[X['fold']==i]['price'], pred)**0.5\n",
    "    rmse_list.append(rmse)\n",
    "    \n",
    "np.mean(rmse_list)"
   ]
  },
  {
   "cell_type": "code",
   "execution_count": 71,
   "id": "5ec672e0-5f79-4a9d-8292-9dddc475366d",
   "metadata": {
    "tags": []
   },
   "outputs": [
    {
     "data": {
      "text/plain": [
       "788.3982999186007"
      ]
     },
     "execution_count": 71,
     "metadata": {},
     "output_type": "execute_result"
    }
   ],
   "source": [
    "rmse_list = []\n",
    "\n",
    "for i in range(1,6):\n",
    "    knn = KNeighborsRegressor(weights='distance', n_neighbors=3)\n",
    "    knn.fit(\n",
    "        X[X['fold'] != i][numeric_variables],\n",
    "        X[X['fold'] != i]['price']\n",
    "    )\n",
    "    pred = knn.predict(X[X['fold']==i][numeric_variables])\n",
    "    rmse = mean_squared_error(X[X['fold']==i]['price'], pred)**0.5\n",
    "    rmse_list.append(rmse)\n",
    "    \n",
    "np.mean(rmse_list)"
   ]
  },
  {
   "cell_type": "code",
   "execution_count": 72,
   "id": "9ee1aa0a-f24a-491f-a531-011c5c4ac12d",
   "metadata": {
    "tags": []
   },
   "outputs": [
    {
     "data": {
      "text/plain": [
       "799.8876629994352"
      ]
     },
     "execution_count": 72,
     "metadata": {},
     "output_type": "execute_result"
    }
   ],
   "source": [
    "rmse_list = []\n",
    "\n",
    "for i in range(1,6):\n",
    "    knn = KNeighborsRegressor(weights='distance', n_neighbors=2)\n",
    "    knn.fit(\n",
    "        X[X['fold'] != i][numeric_variables],\n",
    "        X[X['fold'] != i]['price']\n",
    "    )\n",
    "    pred = knn.predict(X[X['fold']==i][numeric_variables])\n",
    "    rmse = mean_squared_error(X[X['fold']==i]['price'], pred)**0.5\n",
    "    rmse_list.append(rmse)\n",
    "    \n",
    "np.mean(rmse_list)"
   ]
  },
  {
   "cell_type": "code",
   "execution_count": 73,
   "id": "34f3dbee-2fbe-4c5d-9dae-0a758f4859da",
   "metadata": {
    "tags": []
   },
   "outputs": [
    {
     "data": {
      "text/plain": [
       "809.1213822318111"
      ]
     },
     "execution_count": 73,
     "metadata": {},
     "output_type": "execute_result"
    }
   ],
   "source": [
    "rmse_list = []\n",
    "\n",
    "for i in range(1,6):\n",
    "    knn = KNeighborsRegressor(weights='distance', n_neighbors=4)\n",
    "    knn.fit(\n",
    "        X[X['fold'] != i][numeric_variables],\n",
    "        X[X['fold'] != i]['price']\n",
    "    )\n",
    "    pred = knn.predict(X[X['fold']==i][numeric_variables])\n",
    "    rmse = mean_squared_error(X[X['fold']==i]['price'], pred)**0.5\n",
    "    rmse_list.append(rmse)\n",
    "    \n",
    "np.mean(rmse_list)"
   ]
  }
 ],
 "metadata": {
  "kernelspec": {
   "display_name": "Python 3 (ipykernel)",
   "language": "python",
   "name": "python3"
  },
  "language_info": {
   "codemirror_mode": {
    "name": "ipython",
    "version": 3
   },
   "file_extension": ".py",
   "mimetype": "text/x-python",
   "name": "python",
   "nbconvert_exporter": "python",
   "pygments_lexer": "ipython3",
   "version": "3.9.16"
  }
 },
 "nbformat": 4,
 "nbformat_minor": 5
}
