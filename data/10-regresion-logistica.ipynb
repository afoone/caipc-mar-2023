{
 "cells": [
  {
   "cell_type": "markdown",
   "id": "7bd45430-b032-4cc0-8827-c4fe965695f9",
   "metadata": {},
   "source": [
    "# Regresión logística\n",
    "\n",
    "- La regresión logística la usamos cuando la variable resultado no es continua, es discreta -> problemas de clasificación \n",
    "    - (vivo o muerto en el Titanic) - clase, hombre o mujer, niño o adulto, si viaja sólo o acompañado\n",
    "    - un cliente va a comprar o no - sexo, edad...\n",
    "    - que equipo de fútbol va a ganar una copa - datos de los jugadores, estadios, fechas, clima..\n",
    "    \n",
    "\n"
   ]
  },
  {
   "cell_type": "code",
   "execution_count": 1,
   "id": "1ebf1660-0229-474e-93ff-b4ba4fb0bc10",
   "metadata": {
    "tags": []
   },
   "outputs": [],
   "source": [
    "import pandas as pd\n",
    "import numpy as np \n"
   ]
  },
  {
   "cell_type": "code",
   "execution_count": 5,
   "id": "5c4cc45f-173c-43e1-b0b4-2a41926f5dbb",
   "metadata": {
    "tags": []
   },
   "outputs": [],
   "source": [
    "train = pd.read_csv('titanic/train.csv')"
   ]
  },
  {
   "cell_type": "code",
   "execution_count": null,
   "id": "73caf1eb-0952-4d6a-b6e7-4594befc87c2",
   "metadata": {},
   "outputs": [],
   "source": []
  }
 ],
 "metadata": {
  "kernelspec": {
   "display_name": "Python 3 (ipykernel)",
   "language": "python",
   "name": "python3"
  },
  "language_info": {
   "codemirror_mode": {
    "name": "ipython",
    "version": 3
   },
   "file_extension": ".py",
   "mimetype": "text/x-python",
   "name": "python",
   "nbconvert_exporter": "python",
   "pygments_lexer": "ipython3",
   "version": "3.9.16"
  }
 },
 "nbformat": 4,
 "nbformat_minor": 5
}
