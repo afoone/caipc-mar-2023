{
 "cells": [
  {
   "cell_type": "markdown",
   "id": "7bd45430-b032-4cc0-8827-c4fe965695f9",
   "metadata": {},
   "source": [
    "# Regresión logística\n",
    "\n",
    "- La regresión logística la usamos cuando la variable resultado no es continua, es discreta -> problemas de clasificación \n",
    "    - (vivo o muerto en el Titanic) - clase, hombre o mujer, niño o adulto, si viaja sólo o acompañado\n",
    "    - un cliente va a comprar o no - sexo, edad...\n",
    "    - que equipo de fútbol va a ganar una copa - datos de los jugadores, estadios, fechas, clima..\n",
    "    \n",
    "\n"
   ]
  }
 ],
 "metadata": {
  "kernelspec": {
   "display_name": "Python 3 (ipykernel)",
   "language": "python",
   "name": "python3"
  },
  "language_info": {
   "codemirror_mode": {
    "name": "ipython",
    "version": 3
   },
   "file_extension": ".py",
   "mimetype": "text/x-python",
   "name": "python",
   "nbconvert_exporter": "python",
   "pygments_lexer": "ipython3",
   "version": "3.9.16"
  }
 },
 "nbformat": 4,
 "nbformat_minor": 5
}
