{
 "cells": [
  {
   "cell_type": "markdown",
   "id": "02423145-48d5-4b65-bb6d-68e2628fd21a",
   "metadata": {},
   "source": [
    "# Multivariante\n",
    "\n",
    "Hasta ahora, hemos intentado predecir con una variable (`accommodates` y `bedrooms`)\n",
    "\n",
    "Dos formas de intentar mejorar la precisión:\n",
    "\n",
    "1. Cambiar el valor de k (cambio de hiperparámetros)\n",
    "2. Cambiar las variables, incluso incrementando el número de variables, p.ej [`accommodates`, `bedrooms`,  `bathrooms`]\n",
    "\n",
    "\n",
    "Lo que vamos a hacer en el multivariante es añadir columnas al modelo. Por el momento tienen que ser columnas:\n",
    "\n",
    "- numéricas\n",
    "- no nulas (el cálculo de la distancia no nos lo va a permitir)\n",
    "- no ordinales - tenemos que quitar las variables en las que '2' no represente más que '1', por ejemplo, el id no representa un valor que siendo mayor o menor implique algo; lo mismo con host_id, scrape_id y la latitud y la longitud...."
   ]
  },
  {
   "cell_type": "code",
   "execution_count": 1,
   "id": "29ad3ab0-c1a4-4ccd-b092-6444658c9046",
   "metadata": {
    "tags": []
   },
   "outputs": [],
   "source": [
    "import pandas as pd\n",
    "import numpy as np\n",
    "import math"
   ]
  },
  {
   "cell_type": "code",
   "execution_count": 2,
   "id": "0625f3a6-068e-43d1-b9a5-3ebb293b729b",
   "metadata": {
    "tags": []
   },
   "outputs": [],
   "source": [
    "valencia = pd.read_csv('https://raw.githubusercontent.com/afoone/caipc-mar-2023/master/data/airbnb.csv')\n"
   ]
  },
  {
   "cell_type": "code",
   "execution_count": 3,
   "id": "fc3ad6e9-225d-4ff0-adf5-96b0abac7a4c",
   "metadata": {
    "tags": []
   },
   "outputs": [
    {
     "name": "stdout",
     "output_type": "stream",
     "text": [
      "<class 'pandas.core.frame.DataFrame'>\n",
      "RangeIndex: 6711 entries, 0 to 6710\n",
      "Data columns (total 75 columns):\n",
      " #   Column                                        Non-Null Count  Dtype  \n",
      "---  ------                                        --------------  -----  \n",
      " 0   id                                            6711 non-null   int64  \n",
      " 1   listing_url                                   6711 non-null   object \n",
      " 2   scrape_id                                     6711 non-null   int64  \n",
      " 3   last_scraped                                  6711 non-null   object \n",
      " 4   source                                        6711 non-null   object \n",
      " 5   name                                          6711 non-null   object \n",
      " 6   description                                   6558 non-null   object \n",
      " 7   neighborhood_overview                         3759 non-null   object \n",
      " 8   picture_url                                   6711 non-null   object \n",
      " 9   host_id                                       6711 non-null   int64  \n",
      " 10  host_url                                      6711 non-null   object \n",
      " 11  host_name                                     6711 non-null   object \n",
      " 12  host_since                                    6711 non-null   object \n",
      " 13  host_location                                 5012 non-null   object \n",
      " 14  host_about                                    3551 non-null   object \n",
      " 15  host_response_time                            5937 non-null   object \n",
      " 16  host_response_rate                            5937 non-null   object \n",
      " 17  host_acceptance_rate                          6403 non-null   object \n",
      " 18  host_is_superhost                             6711 non-null   object \n",
      " 19  host_thumbnail_url                            6711 non-null   object \n",
      " 20  host_picture_url                              6711 non-null   object \n",
      " 21  host_neighbourhood                            2636 non-null   object \n",
      " 22  host_listings_count                           6711 non-null   int64  \n",
      " 23  host_total_listings_count                     6711 non-null   int64  \n",
      " 24  host_verifications                            6711 non-null   object \n",
      " 25  host_has_profile_pic                          6711 non-null   object \n",
      " 26  host_identity_verified                        6711 non-null   object \n",
      " 27  neighbourhood                                 3759 non-null   object \n",
      " 28  neighbourhood_cleansed                        6711 non-null   object \n",
      " 29  neighbourhood_group_cleansed                  6711 non-null   object \n",
      " 30  latitude                                      6711 non-null   float64\n",
      " 31  longitude                                     6711 non-null   float64\n",
      " 32  property_type                                 6711 non-null   object \n",
      " 33  room_type                                     6711 non-null   object \n",
      " 34  accommodates                                  6711 non-null   int64  \n",
      " 35  bathrooms                                     0 non-null      float64\n",
      " 36  bathrooms_text                                6707 non-null   object \n",
      " 37  bedrooms                                      6243 non-null   float64\n",
      " 38  beds                                          6641 non-null   float64\n",
      " 39  amenities                                     6711 non-null   object \n",
      " 40  price                                         6711 non-null   object \n",
      " 41  minimum_nights                                6711 non-null   int64  \n",
      " 42  maximum_nights                                6711 non-null   int64  \n",
      " 43  minimum_minimum_nights                        6711 non-null   int64  \n",
      " 44  maximum_minimum_nights                        6711 non-null   int64  \n",
      " 45  minimum_maximum_nights                        6711 non-null   int64  \n",
      " 46  maximum_maximum_nights                        6711 non-null   int64  \n",
      " 47  minimum_nights_avg_ntm                        6711 non-null   float64\n",
      " 48  maximum_nights_avg_ntm                        6711 non-null   float64\n",
      " 49  calendar_updated                              0 non-null      float64\n",
      " 50  has_availability                              6711 non-null   object \n",
      " 51  availability_30                               6711 non-null   int64  \n",
      " 52  availability_60                               6711 non-null   int64  \n",
      " 53  availability_90                               6711 non-null   int64  \n",
      " 54  availability_365                              6711 non-null   int64  \n",
      " 55  calendar_last_scraped                         6711 non-null   object \n",
      " 56  number_of_reviews                             6711 non-null   int64  \n",
      " 57  number_of_reviews_ltm                         6711 non-null   int64  \n",
      " 58  number_of_reviews_l30d                        6711 non-null   int64  \n",
      " 59  first_review                                  5875 non-null   object \n",
      " 60  last_review                                   5875 non-null   object \n",
      " 61  review_scores_rating                          5875 non-null   float64\n",
      " 62  review_scores_accuracy                        5864 non-null   float64\n",
      " 63  review_scores_cleanliness                     5864 non-null   float64\n",
      " 64  review_scores_checkin                         5864 non-null   float64\n",
      " 65  review_scores_communication                   5864 non-null   float64\n",
      " 66  review_scores_location                        5864 non-null   float64\n",
      " 67  review_scores_value                           5864 non-null   float64\n",
      " 68  license                                       1894 non-null   object \n",
      " 69  instant_bookable                              6711 non-null   object \n",
      " 70  calculated_host_listings_count                6711 non-null   int64  \n",
      " 71  calculated_host_listings_count_entire_homes   6711 non-null   int64  \n",
      " 72  calculated_host_listings_count_private_rooms  6711 non-null   int64  \n",
      " 73  calculated_host_listings_count_shared_rooms   6711 non-null   int64  \n",
      " 74  reviews_per_month                             5875 non-null   float64\n",
      "dtypes: float64(16), int64(23), object(36)\n",
      "memory usage: 3.8+ MB\n"
     ]
    }
   ],
   "source": [
    "valencia.info()"
   ]
  },
  {
   "cell_type": "code",
   "execution_count": 4,
   "id": "390d56aa-1167-417c-9e19-35aab59300db",
   "metadata": {
    "tags": []
   },
   "outputs": [],
   "source": [
    "## limpiar los datos\n",
    "\n",
    "# corregir el price (tiene $ y no es numérico)\n",
    "valencia['price'] = valencia['price'].apply(lambda x: x.replace('$', '').replace(',', '')).astype('float')\n",
    "\n",
    "valencia = valencia[valencia['price']<700]"
   ]
  },
  {
   "cell_type": "code",
   "execution_count": 5,
   "id": "88497314-2f1b-4b2c-865d-581871f44728",
   "metadata": {
    "tags": []
   },
   "outputs": [],
   "source": [
    "# barajar\n",
    "\n",
    "np.random.seed(3837980)\n",
    "valencia = valencia.iloc[\n",
    "    np.random.permutation(len(valencia))\n",
    "]"
   ]
  },
  {
   "cell_type": "code",
   "execution_count": 6,
   "id": "b769304b-66f9-411e-9078-264f9b6cc9dc",
   "metadata": {
    "tags": []
   },
   "outputs": [
    {
     "data": {
      "text/plain": [
       "(6493, 75)"
      ]
     },
     "execution_count": 6,
     "metadata": {},
     "output_type": "execute_result"
    }
   ],
   "source": [
    "valencia.shape"
   ]
  },
  {
   "cell_type": "code",
   "execution_count": 7,
   "id": "4705d58c-bd70-4a45-a495-f2e612beff75",
   "metadata": {
    "tags": []
   },
   "outputs": [
    {
     "name": "stdout",
     "output_type": "stream",
     "text": [
      "<class 'pandas.core.frame.DataFrame'>\n",
      "Int64Index: 6493 entries, 5738 to 2287\n",
      "Data columns (total 75 columns):\n",
      " #   Column                                        Non-Null Count  Dtype  \n",
      "---  ------                                        --------------  -----  \n",
      " 0   id                                            6493 non-null   int64  \n",
      " 1   listing_url                                   6493 non-null   object \n",
      " 2   scrape_id                                     6493 non-null   int64  \n",
      " 3   last_scraped                                  6493 non-null   object \n",
      " 4   source                                        6493 non-null   object \n",
      " 5   name                                          6493 non-null   object \n",
      " 6   description                                   6341 non-null   object \n",
      " 7   neighborhood_overview                         3567 non-null   object \n",
      " 8   picture_url                                   6493 non-null   object \n",
      " 9   host_id                                       6493 non-null   int64  \n",
      " 10  host_url                                      6493 non-null   object \n",
      " 11  host_name                                     6493 non-null   object \n",
      " 12  host_since                                    6493 non-null   object \n",
      " 13  host_location                                 4810 non-null   object \n",
      " 14  host_about                                    3360 non-null   object \n",
      " 15  host_response_time                            5730 non-null   object \n",
      " 16  host_response_rate                            5730 non-null   object \n",
      " 17  host_acceptance_rate                          6195 non-null   object \n",
      " 18  host_is_superhost                             6493 non-null   object \n",
      " 19  host_thumbnail_url                            6493 non-null   object \n",
      " 20  host_picture_url                              6493 non-null   object \n",
      " 21  host_neighbourhood                            2447 non-null   object \n",
      " 22  host_listings_count                           6493 non-null   int64  \n",
      " 23  host_total_listings_count                     6493 non-null   int64  \n",
      " 24  host_verifications                            6493 non-null   object \n",
      " 25  host_has_profile_pic                          6493 non-null   object \n",
      " 26  host_identity_verified                        6493 non-null   object \n",
      " 27  neighbourhood                                 3567 non-null   object \n",
      " 28  neighbourhood_cleansed                        6493 non-null   object \n",
      " 29  neighbourhood_group_cleansed                  6493 non-null   object \n",
      " 30  latitude                                      6493 non-null   float64\n",
      " 31  longitude                                     6493 non-null   float64\n",
      " 32  property_type                                 6493 non-null   object \n",
      " 33  room_type                                     6493 non-null   object \n",
      " 34  accommodates                                  6493 non-null   int64  \n",
      " 35  bathrooms                                     0 non-null      float64\n",
      " 36  bathrooms_text                                6489 non-null   object \n",
      " 37  bedrooms                                      6183 non-null   float64\n",
      " 38  beds                                          6424 non-null   float64\n",
      " 39  amenities                                     6493 non-null   object \n",
      " 40  price                                         6493 non-null   float64\n",
      " 41  minimum_nights                                6493 non-null   int64  \n",
      " 42  maximum_nights                                6493 non-null   int64  \n",
      " 43  minimum_minimum_nights                        6493 non-null   int64  \n",
      " 44  maximum_minimum_nights                        6493 non-null   int64  \n",
      " 45  minimum_maximum_nights                        6493 non-null   int64  \n",
      " 46  maximum_maximum_nights                        6493 non-null   int64  \n",
      " 47  minimum_nights_avg_ntm                        6493 non-null   float64\n",
      " 48  maximum_nights_avg_ntm                        6493 non-null   float64\n",
      " 49  calendar_updated                              0 non-null      float64\n",
      " 50  has_availability                              6493 non-null   object \n",
      " 51  availability_30                               6493 non-null   int64  \n",
      " 52  availability_60                               6493 non-null   int64  \n",
      " 53  availability_90                               6493 non-null   int64  \n",
      " 54  availability_365                              6493 non-null   int64  \n",
      " 55  calendar_last_scraped                         6493 non-null   object \n",
      " 56  number_of_reviews                             6493 non-null   int64  \n",
      " 57  number_of_reviews_ltm                         6493 non-null   int64  \n",
      " 58  number_of_reviews_l30d                        6493 non-null   int64  \n",
      " 59  first_review                                  5783 non-null   object \n",
      " 60  last_review                                   5783 non-null   object \n",
      " 61  review_scores_rating                          5783 non-null   float64\n",
      " 62  review_scores_accuracy                        5772 non-null   float64\n",
      " 63  review_scores_cleanliness                     5772 non-null   float64\n",
      " 64  review_scores_checkin                         5772 non-null   float64\n",
      " 65  review_scores_communication                   5772 non-null   float64\n",
      " 66  review_scores_location                        5772 non-null   float64\n",
      " 67  review_scores_value                           5772 non-null   float64\n",
      " 68  license                                       1878 non-null   object \n",
      " 69  instant_bookable                              6493 non-null   object \n",
      " 70  calculated_host_listings_count                6493 non-null   int64  \n",
      " 71  calculated_host_listings_count_entire_homes   6493 non-null   int64  \n",
      " 72  calculated_host_listings_count_private_rooms  6493 non-null   int64  \n",
      " 73  calculated_host_listings_count_shared_rooms   6493 non-null   int64  \n",
      " 74  reviews_per_month                             5783 non-null   float64\n",
      "dtypes: float64(17), int64(23), object(35)\n",
      "memory usage: 3.8+ MB\n"
     ]
    }
   ],
   "source": [
    "valencia.info()"
   ]
  },
  {
   "cell_type": "code",
   "execution_count": 10,
   "id": "dc51df73-87d4-4342-be5d-7b1f78e45acc",
   "metadata": {
    "tags": []
   },
   "outputs": [
    {
     "data": {
      "text/html": [
       "<div>\n",
       "<style scoped>\n",
       "    .dataframe tbody tr th:only-of-type {\n",
       "        vertical-align: middle;\n",
       "    }\n",
       "\n",
       "    .dataframe tbody tr th {\n",
       "        vertical-align: top;\n",
       "    }\n",
       "\n",
       "    .dataframe thead th {\n",
       "        text-align: right;\n",
       "    }\n",
       "</style>\n",
       "<table border=\"1\" class=\"dataframe\">\n",
       "  <thead>\n",
       "    <tr style=\"text-align: right;\">\n",
       "      <th></th>\n",
       "      <th>bathrooms</th>\n",
       "      <th>bedrooms</th>\n",
       "      <th>accommodates</th>\n",
       "    </tr>\n",
       "  </thead>\n",
       "  <tbody>\n",
       "    <tr>\n",
       "      <th>5738</th>\n",
       "      <td>NaN</td>\n",
       "      <td>1.0</td>\n",
       "      <td>1</td>\n",
       "    </tr>\n",
       "    <tr>\n",
       "      <th>1559</th>\n",
       "      <td>NaN</td>\n",
       "      <td>1.0</td>\n",
       "      <td>2</td>\n",
       "    </tr>\n",
       "    <tr>\n",
       "      <th>5461</th>\n",
       "      <td>NaN</td>\n",
       "      <td>2.0</td>\n",
       "      <td>4</td>\n",
       "    </tr>\n",
       "    <tr>\n",
       "      <th>25</th>\n",
       "      <td>NaN</td>\n",
       "      <td>1.0</td>\n",
       "      <td>3</td>\n",
       "    </tr>\n",
       "    <tr>\n",
       "      <th>3559</th>\n",
       "      <td>NaN</td>\n",
       "      <td>2.0</td>\n",
       "      <td>6</td>\n",
       "    </tr>\n",
       "    <tr>\n",
       "      <th>...</th>\n",
       "      <td>...</td>\n",
       "      <td>...</td>\n",
       "      <td>...</td>\n",
       "    </tr>\n",
       "    <tr>\n",
       "      <th>5882</th>\n",
       "      <td>NaN</td>\n",
       "      <td>NaN</td>\n",
       "      <td>2</td>\n",
       "    </tr>\n",
       "    <tr>\n",
       "      <th>2961</th>\n",
       "      <td>NaN</td>\n",
       "      <td>1.0</td>\n",
       "      <td>1</td>\n",
       "    </tr>\n",
       "    <tr>\n",
       "      <th>1550</th>\n",
       "      <td>NaN</td>\n",
       "      <td>3.0</td>\n",
       "      <td>6</td>\n",
       "    </tr>\n",
       "    <tr>\n",
       "      <th>2312</th>\n",
       "      <td>NaN</td>\n",
       "      <td>1.0</td>\n",
       "      <td>2</td>\n",
       "    </tr>\n",
       "    <tr>\n",
       "      <th>2287</th>\n",
       "      <td>NaN</td>\n",
       "      <td>NaN</td>\n",
       "      <td>2</td>\n",
       "    </tr>\n",
       "  </tbody>\n",
       "</table>\n",
       "<p>6493 rows × 3 columns</p>\n",
       "</div>"
      ],
      "text/plain": [
       "      bathrooms  bedrooms  accommodates\n",
       "5738        NaN       1.0             1\n",
       "1559        NaN       1.0             2\n",
       "5461        NaN       2.0             4\n",
       "25          NaN       1.0             3\n",
       "3559        NaN       2.0             6\n",
       "...         ...       ...           ...\n",
       "5882        NaN       NaN             2\n",
       "2961        NaN       1.0             1\n",
       "1550        NaN       3.0             6\n",
       "2312        NaN       1.0             2\n",
       "2287        NaN       NaN             2\n",
       "\n",
       "[6493 rows x 3 columns]"
      ]
     },
     "execution_count": 10,
     "metadata": {},
     "output_type": "execute_result"
    }
   ],
   "source": [
    "valencia[['bathrooms', 'bedrooms', 'accommodates']]"
   ]
  },
  {
   "cell_type": "code",
   "execution_count": 14,
   "id": "af7980e1-5712-4917-864a-a2bd33e8bf4b",
   "metadata": {
    "tags": []
   },
   "outputs": [
    {
     "data": {
      "text/plain": [
       "6493"
      ]
     },
     "execution_count": 14,
     "metadata": {},
     "output_type": "execute_result"
    }
   ],
   "source": [
    "valencia['bathrooms'].isnull().sum()"
   ]
  },
  {
   "cell_type": "code",
   "execution_count": 15,
   "id": "d9a3dd20-5bdf-4367-84a2-8b40dd581c8d",
   "metadata": {
    "tags": []
   },
   "outputs": [
    {
     "data": {
      "text/plain": [
       "5738    1.5 shared baths\n",
       "1559              1 bath\n",
       "5461              1 bath\n",
       "25                1 bath\n",
       "3559              1 bath\n",
       "              ...       \n",
       "5882              1 bath\n",
       "2961      1 private bath\n",
       "1550              1 bath\n",
       "2312       1 shared bath\n",
       "2287              1 bath\n",
       "Name: bathrooms_text, Length: 6493, dtype: object"
      ]
     },
     "execution_count": 15,
     "metadata": {},
     "output_type": "execute_result"
    }
   ],
   "source": [
    "valencia['bathrooms_text']"
   ]
  },
  {
   "cell_type": "code",
   "execution_count": 16,
   "id": "bc9a8a02-f996-44c9-800a-b0b81d94c741",
   "metadata": {
    "tags": []
   },
   "outputs": [
    {
     "name": "stdout",
     "output_type": "stream",
     "text": [
      "<class 'pandas.core.series.Series'>\n",
      "Int64Index: 6493 entries, 5738 to 2287\n",
      "Series name: bathrooms_text\n",
      "Non-Null Count  Dtype \n",
      "--------------  ----- \n",
      "6489 non-null   object\n",
      "dtypes: object(1)\n",
      "memory usage: 101.5+ KB\n"
     ]
    }
   ],
   "source": [
    "valencia['bathrooms_text'].info()"
   ]
  },
  {
   "cell_type": "code",
   "execution_count": 17,
   "id": "63bd585c-fa88-4363-8489-c0c57627b59d",
   "metadata": {
    "tags": []
   },
   "outputs": [
    {
     "data": {
      "text/plain": [
       "1 bath              2950\n",
       "2 baths             1087\n",
       "1 shared bath        957\n",
       "1.5 baths            483\n",
       "1 private bath       357\n",
       "1.5 shared baths     240\n",
       "2 shared baths       155\n",
       "2.5 baths             70\n",
       "3 baths               57\n",
       "2.5 shared baths      26\n",
       "3 shared baths        23\n",
       "4 baths               19\n",
       "3.5 baths             14\n",
       "0 shared baths        11\n",
       "Shared half-bath      10\n",
       "4 shared baths         8\n",
       "0 baths                6\n",
       "5 baths                5\n",
       "4.5 baths              3\n",
       "Half-bath              2\n",
       "5.5 baths              1\n",
       "4.5 shared baths       1\n",
       "6.5 baths              1\n",
       "3.5 shared baths       1\n",
       "7 baths                1\n",
       "6 baths                1\n",
       "Name: bathrooms_text, dtype: int64"
      ]
     },
     "execution_count": 17,
     "metadata": {},
     "output_type": "execute_result"
    }
   ],
   "source": [
    "valencia['bathrooms_text'].value_counts()"
   ]
  },
  {
   "cell_type": "code",
   "execution_count": 18,
   "id": "5ec334d4-e096-43aa-8744-d4af5d233446",
   "metadata": {
    "tags": []
   },
   "outputs": [],
   "source": [
    "def half_bath(x):\n",
    "    if ('half' in str(x).lower()):\n",
    "        return '0.5'\n",
    "    else:\n",
    "        return x\n",
    "    "
   ]
  },
  {
   "cell_type": "code",
   "execution_count": 19,
   "id": "be0b591b-9090-4919-b8a6-c1669585d66b",
   "metadata": {
    "tags": []
   },
   "outputs": [],
   "source": [
    "valencia['bathrooms_text']=valencia['bathrooms_text'].apply(\n",
    "    lambda x: half_bath(x)\n",
    ") "
   ]
  },
  {
   "cell_type": "code",
   "execution_count": 20,
   "id": "149e8386-252b-4976-a53e-9eb829f809b6",
   "metadata": {
    "tags": []
   },
   "outputs": [
    {
     "data": {
      "text/plain": [
       "1 bath              2950\n",
       "2 baths             1087\n",
       "1 shared bath        957\n",
       "1.5 baths            483\n",
       "1 private bath       357\n",
       "1.5 shared baths     240\n",
       "2 shared baths       155\n",
       "2.5 baths             70\n",
       "3 baths               57\n",
       "2.5 shared baths      26\n",
       "3 shared baths        23\n",
       "4 baths               19\n",
       "3.5 baths             14\n",
       "0.5                   12\n",
       "0 shared baths        11\n",
       "4 shared baths         8\n",
       "0 baths                6\n",
       "5 baths                5\n",
       "4.5 baths              3\n",
       "5.5 baths              1\n",
       "4.5 shared baths       1\n",
       "6.5 baths              1\n",
       "3.5 shared baths       1\n",
       "7 baths                1\n",
       "6 baths                1\n",
       "Name: bathrooms_text, dtype: int64"
      ]
     },
     "execution_count": 20,
     "metadata": {},
     "output_type": "execute_result"
    }
   ],
   "source": [
    "valencia['bathrooms_text'].value_counts()"
   ]
  },
  {
   "cell_type": "code",
   "execution_count": 32,
   "id": "caf8ced9-2a00-416e-bd33-83d4f45c9fd7",
   "metadata": {
    "tags": []
   },
   "outputs": [
    {
     "data": {
      "text/plain": [
       "'9.9'"
      ]
     },
     "execution_count": 32,
     "metadata": {},
     "output_type": "execute_result"
    }
   ],
   "source": [
    "import re\n",
    "\n",
    "def txt_to_number(x):\n",
    "    response = re.search(\"[0-9|.]*\", str(x)).group(0)\n",
    "    if (len(response) < 1):\n",
    "        return '0'\n",
    "    else:\n",
    "        return response\n",
    "\n",
    "txt_to_number('9.9df')"
   ]
  },
  {
   "cell_type": "code",
   "execution_count": 35,
   "id": "d6000bf0-556a-42d4-9d9d-6739bcd01ea2",
   "metadata": {
    "tags": []
   },
   "outputs": [],
   "source": [
    "valencia['bathrooms'] = valencia['bathrooms_text'].apply(txt_to_number).astype('float')"
   ]
  },
  {
   "cell_type": "code",
   "execution_count": 37,
   "id": "f125ae0c-8809-40da-859f-9d7b25119dc0",
   "metadata": {
    "tags": []
   },
   "outputs": [
    {
     "data": {
      "text/html": [
       "<div>\n",
       "<style scoped>\n",
       "    .dataframe tbody tr th:only-of-type {\n",
       "        vertical-align: middle;\n",
       "    }\n",
       "\n",
       "    .dataframe tbody tr th {\n",
       "        vertical-align: top;\n",
       "    }\n",
       "\n",
       "    .dataframe thead th {\n",
       "        text-align: right;\n",
       "    }\n",
       "</style>\n",
       "<table border=\"1\" class=\"dataframe\">\n",
       "  <thead>\n",
       "    <tr style=\"text-align: right;\">\n",
       "      <th></th>\n",
       "      <th>bathrooms</th>\n",
       "      <th>bedrooms</th>\n",
       "      <th>accommodates</th>\n",
       "    </tr>\n",
       "  </thead>\n",
       "  <tbody>\n",
       "    <tr>\n",
       "      <th>5738</th>\n",
       "      <td>1.5</td>\n",
       "      <td>1.0</td>\n",
       "      <td>1</td>\n",
       "    </tr>\n",
       "    <tr>\n",
       "      <th>1559</th>\n",
       "      <td>1.0</td>\n",
       "      <td>1.0</td>\n",
       "      <td>2</td>\n",
       "    </tr>\n",
       "    <tr>\n",
       "      <th>5461</th>\n",
       "      <td>1.0</td>\n",
       "      <td>2.0</td>\n",
       "      <td>4</td>\n",
       "    </tr>\n",
       "    <tr>\n",
       "      <th>25</th>\n",
       "      <td>1.0</td>\n",
       "      <td>1.0</td>\n",
       "      <td>3</td>\n",
       "    </tr>\n",
       "    <tr>\n",
       "      <th>3559</th>\n",
       "      <td>1.0</td>\n",
       "      <td>2.0</td>\n",
       "      <td>6</td>\n",
       "    </tr>\n",
       "    <tr>\n",
       "      <th>...</th>\n",
       "      <td>...</td>\n",
       "      <td>...</td>\n",
       "      <td>...</td>\n",
       "    </tr>\n",
       "    <tr>\n",
       "      <th>5882</th>\n",
       "      <td>1.0</td>\n",
       "      <td>NaN</td>\n",
       "      <td>2</td>\n",
       "    </tr>\n",
       "    <tr>\n",
       "      <th>2961</th>\n",
       "      <td>1.0</td>\n",
       "      <td>1.0</td>\n",
       "      <td>1</td>\n",
       "    </tr>\n",
       "    <tr>\n",
       "      <th>1550</th>\n",
       "      <td>1.0</td>\n",
       "      <td>3.0</td>\n",
       "      <td>6</td>\n",
       "    </tr>\n",
       "    <tr>\n",
       "      <th>2312</th>\n",
       "      <td>1.0</td>\n",
       "      <td>1.0</td>\n",
       "      <td>2</td>\n",
       "    </tr>\n",
       "    <tr>\n",
       "      <th>2287</th>\n",
       "      <td>1.0</td>\n",
       "      <td>NaN</td>\n",
       "      <td>2</td>\n",
       "    </tr>\n",
       "  </tbody>\n",
       "</table>\n",
       "<p>6493 rows × 3 columns</p>\n",
       "</div>"
      ],
      "text/plain": [
       "      bathrooms  bedrooms  accommodates\n",
       "5738        1.5       1.0             1\n",
       "1559        1.0       1.0             2\n",
       "5461        1.0       2.0             4\n",
       "25          1.0       1.0             3\n",
       "3559        1.0       2.0             6\n",
       "...         ...       ...           ...\n",
       "5882        1.0       NaN             2\n",
       "2961        1.0       1.0             1\n",
       "1550        1.0       3.0             6\n",
       "2312        1.0       1.0             2\n",
       "2287        1.0       NaN             2\n",
       "\n",
       "[6493 rows x 3 columns]"
      ]
     },
     "execution_count": 37,
     "metadata": {},
     "output_type": "execute_result"
    }
   ],
   "source": [
    "valencia[['bathrooms', 'bedrooms', 'accommodates']]"
   ]
  },
  {
   "cell_type": "code",
   "execution_count": 43,
   "id": "811a47ad-377d-44b5-99d6-9e3be927b573",
   "metadata": {
    "tags": []
   },
   "outputs": [],
   "source": [
    "df = valencia[['bathrooms', 'bedrooms', 'accommodates', 'price']].copy()"
   ]
  },
  {
   "cell_type": "code",
   "execution_count": 46,
   "id": "c71d18ee-b24d-42c7-b98f-bcfc0d0226fd",
   "metadata": {
    "tags": []
   },
   "outputs": [],
   "source": [
    "df = df.dropna()"
   ]
  },
  {
   "cell_type": "markdown",
   "id": "a4470429-9da6-4872-ab41-61aca0fc9301",
   "metadata": {},
   "source": [
    "# Normalizar\n",
    "\n",
    "Debido a las diferencias de órdenes de magnitud, debemos 'normalizar' los datos - > distribución normal estándar media 0 y desv. típica 1.\n",
    "\n",
    "\n",
    "\n"
   ]
  },
  {
   "cell_type": "code",
   "execution_count": 47,
   "id": "ba4a68cc-fec1-46c0-81de-7375ba0e21b8",
   "metadata": {
    "tags": []
   },
   "outputs": [
    {
     "data": {
      "text/plain": [
       "3.526721084244571"
      ]
     },
     "execution_count": 47,
     "metadata": {},
     "output_type": "execute_result"
    }
   ],
   "source": [
    "valencia['accommodates'].mean()"
   ]
  },
  {
   "cell_type": "code",
   "execution_count": 49,
   "id": "22ae9dfc-24cd-4fd9-bcc9-e10922d25a23",
   "metadata": {
    "tags": []
   },
   "outputs": [
    {
     "data": {
      "text/plain": [
       "1.9522414677994482"
      ]
     },
     "execution_count": 49,
     "metadata": {},
     "output_type": "execute_result"
    }
   ],
   "source": [
    "valencia['accommodates'].std()"
   ]
  },
  {
   "cell_type": "code",
   "execution_count": 52,
   "id": "1e4f7043-8053-4595-b6e8-9a16ecae1fdf",
   "metadata": {
    "tags": []
   },
   "outputs": [
    {
     "data": {
      "text/plain": [
       "5738   -1.294267\n",
       "1559   -0.782035\n",
       "5461    0.242428\n",
       "25     -0.269803\n",
       "3559    1.266892\n",
       "          ...   \n",
       "5882   -0.782035\n",
       "2961   -1.294267\n",
       "1550    1.266892\n",
       "2312   -0.782035\n",
       "2287   -0.782035\n",
       "Name: accommodates, Length: 6493, dtype: float64"
      ]
     },
     "execution_count": 52,
     "metadata": {},
     "output_type": "execute_result"
    }
   ],
   "source": [
    " (\n",
    "    valencia['accommodates'] - valencia['accommodates'].mean()\n",
    ") / valencia['accommodates'].std()"
   ]
  },
  {
   "cell_type": "code",
   "execution_count": 55,
   "id": "d5dfa2a8-9e63-42b9-a33d-6ce46bb67e32",
   "metadata": {
    "tags": []
   },
   "outputs": [
    {
     "data": {
      "text/plain": [
       "1.0"
      ]
     },
     "execution_count": 55,
     "metadata": {},
     "output_type": "execute_result"
    }
   ],
   "source": [
    "(\n",
    "     (\n",
    "    valencia['accommodates'] - valencia['accommodates'].mean()\n",
    ") / valencia['accommodates'].std()\n",
    ").std()"
   ]
  },
  {
   "cell_type": "code",
   "execution_count": 57,
   "id": "65435c72-12a9-4608-8298-fa6683916449",
   "metadata": {
    "tags": []
   },
   "outputs": [],
   "source": [
    "df_predictoras = df[['bathrooms', 'bedrooms', 'accommodates']]"
   ]
  },
  {
   "cell_type": "code",
   "execution_count": 63,
   "id": "d4a15a7b-516e-4aba-816a-caf691c290a9",
   "metadata": {
    "tags": []
   },
   "outputs": [],
   "source": [
    "df[['bathrooms', 'bedrooms', 'accommodates']] = (df_predictoras - df_predictoras.mean()) / df_predictoras.std()"
   ]
  },
  {
   "cell_type": "code",
   "execution_count": 64,
   "id": "91bca373-3ccd-4e0a-9e58-625629dfdfe4",
   "metadata": {
    "tags": []
   },
   "outputs": [
    {
     "data": {
      "text/html": [
       "<div>\n",
       "<style scoped>\n",
       "    .dataframe tbody tr th:only-of-type {\n",
       "        vertical-align: middle;\n",
       "    }\n",
       "\n",
       "    .dataframe tbody tr th {\n",
       "        vertical-align: top;\n",
       "    }\n",
       "\n",
       "    .dataframe thead th {\n",
       "        text-align: right;\n",
       "    }\n",
       "</style>\n",
       "<table border=\"1\" class=\"dataframe\">\n",
       "  <thead>\n",
       "    <tr style=\"text-align: right;\">\n",
       "      <th></th>\n",
       "      <th>bathrooms</th>\n",
       "      <th>bedrooms</th>\n",
       "      <th>accommodates</th>\n",
       "    </tr>\n",
       "  </thead>\n",
       "  <tbody>\n",
       "    <tr>\n",
       "      <th>5738</th>\n",
       "      <td>0.321845</td>\n",
       "      <td>-0.762584</td>\n",
       "      <td>-1.301771</td>\n",
       "    </tr>\n",
       "    <tr>\n",
       "      <th>1559</th>\n",
       "      <td>-0.601573</td>\n",
       "      <td>-0.762584</td>\n",
       "      <td>-0.794948</td>\n",
       "    </tr>\n",
       "    <tr>\n",
       "      <th>5461</th>\n",
       "      <td>-0.601573</td>\n",
       "      <td>0.263767</td>\n",
       "      <td>0.218697</td>\n",
       "    </tr>\n",
       "    <tr>\n",
       "      <th>25</th>\n",
       "      <td>-0.601573</td>\n",
       "      <td>-0.762584</td>\n",
       "      <td>-0.288126</td>\n",
       "    </tr>\n",
       "    <tr>\n",
       "      <th>3559</th>\n",
       "      <td>-0.601573</td>\n",
       "      <td>0.263767</td>\n",
       "      <td>1.232342</td>\n",
       "    </tr>\n",
       "    <tr>\n",
       "      <th>...</th>\n",
       "      <td>...</td>\n",
       "      <td>...</td>\n",
       "      <td>...</td>\n",
       "    </tr>\n",
       "    <tr>\n",
       "      <th>650</th>\n",
       "      <td>-0.601573</td>\n",
       "      <td>-0.762584</td>\n",
       "      <td>-1.301771</td>\n",
       "    </tr>\n",
       "    <tr>\n",
       "      <th>5933</th>\n",
       "      <td>1.245263</td>\n",
       "      <td>1.290118</td>\n",
       "      <td>1.232342</td>\n",
       "    </tr>\n",
       "    <tr>\n",
       "      <th>2961</th>\n",
       "      <td>-0.601573</td>\n",
       "      <td>-0.762584</td>\n",
       "      <td>-1.301771</td>\n",
       "    </tr>\n",
       "    <tr>\n",
       "      <th>1550</th>\n",
       "      <td>-0.601573</td>\n",
       "      <td>1.290118</td>\n",
       "      <td>1.232342</td>\n",
       "    </tr>\n",
       "    <tr>\n",
       "      <th>2312</th>\n",
       "      <td>-0.601573</td>\n",
       "      <td>-0.762584</td>\n",
       "      <td>-0.794948</td>\n",
       "    </tr>\n",
       "  </tbody>\n",
       "</table>\n",
       "<p>6183 rows × 3 columns</p>\n",
       "</div>"
      ],
      "text/plain": [
       "      bathrooms  bedrooms  accommodates\n",
       "5738   0.321845 -0.762584     -1.301771\n",
       "1559  -0.601573 -0.762584     -0.794948\n",
       "5461  -0.601573  0.263767      0.218697\n",
       "25    -0.601573 -0.762584     -0.288126\n",
       "3559  -0.601573  0.263767      1.232342\n",
       "...         ...       ...           ...\n",
       "650   -0.601573 -0.762584     -1.301771\n",
       "5933   1.245263  1.290118      1.232342\n",
       "2961  -0.601573 -0.762584     -1.301771\n",
       "1550  -0.601573  1.290118      1.232342\n",
       "2312  -0.601573 -0.762584     -0.794948\n",
       "\n",
       "[6183 rows x 3 columns]"
      ]
     },
     "execution_count": 64,
     "metadata": {},
     "output_type": "execute_result"
    }
   ],
   "source": [
    "df_predictoras"
   ]
  },
  {
   "cell_type": "code",
   "execution_count": 65,
   "id": "1e87cdf5-1417-436d-958b-5a4ff0160fd3",
   "metadata": {
    "tags": []
   },
   "outputs": [
    {
     "data": {
      "text/html": [
       "<div>\n",
       "<style scoped>\n",
       "    .dataframe tbody tr th:only-of-type {\n",
       "        vertical-align: middle;\n",
       "    }\n",
       "\n",
       "    .dataframe tbody tr th {\n",
       "        vertical-align: top;\n",
       "    }\n",
       "\n",
       "    .dataframe thead th {\n",
       "        text-align: right;\n",
       "    }\n",
       "</style>\n",
       "<table border=\"1\" class=\"dataframe\">\n",
       "  <thead>\n",
       "    <tr style=\"text-align: right;\">\n",
       "      <th></th>\n",
       "      <th>bathrooms</th>\n",
       "      <th>bedrooms</th>\n",
       "      <th>accommodates</th>\n",
       "      <th>price</th>\n",
       "    </tr>\n",
       "  </thead>\n",
       "  <tbody>\n",
       "    <tr>\n",
       "      <th>5738</th>\n",
       "      <td>0.321845</td>\n",
       "      <td>-0.762584</td>\n",
       "      <td>-1.301771</td>\n",
       "      <td>37.0</td>\n",
       "    </tr>\n",
       "    <tr>\n",
       "      <th>1559</th>\n",
       "      <td>-0.601573</td>\n",
       "      <td>-0.762584</td>\n",
       "      <td>-0.794948</td>\n",
       "      <td>95.0</td>\n",
       "    </tr>\n",
       "    <tr>\n",
       "      <th>5461</th>\n",
       "      <td>-0.601573</td>\n",
       "      <td>0.263767</td>\n",
       "      <td>0.218697</td>\n",
       "      <td>61.0</td>\n",
       "    </tr>\n",
       "    <tr>\n",
       "      <th>25</th>\n",
       "      <td>-0.601573</td>\n",
       "      <td>-0.762584</td>\n",
       "      <td>-0.288126</td>\n",
       "      <td>120.0</td>\n",
       "    </tr>\n",
       "    <tr>\n",
       "      <th>3559</th>\n",
       "      <td>-0.601573</td>\n",
       "      <td>0.263767</td>\n",
       "      <td>1.232342</td>\n",
       "      <td>94.0</td>\n",
       "    </tr>\n",
       "    <tr>\n",
       "      <th>...</th>\n",
       "      <td>...</td>\n",
       "      <td>...</td>\n",
       "      <td>...</td>\n",
       "      <td>...</td>\n",
       "    </tr>\n",
       "    <tr>\n",
       "      <th>650</th>\n",
       "      <td>-0.601573</td>\n",
       "      <td>-0.762584</td>\n",
       "      <td>-1.301771</td>\n",
       "      <td>20.0</td>\n",
       "    </tr>\n",
       "    <tr>\n",
       "      <th>5933</th>\n",
       "      <td>1.245263</td>\n",
       "      <td>1.290118</td>\n",
       "      <td>1.232342</td>\n",
       "      <td>200.0</td>\n",
       "    </tr>\n",
       "    <tr>\n",
       "      <th>2961</th>\n",
       "      <td>-0.601573</td>\n",
       "      <td>-0.762584</td>\n",
       "      <td>-1.301771</td>\n",
       "      <td>21.0</td>\n",
       "    </tr>\n",
       "    <tr>\n",
       "      <th>1550</th>\n",
       "      <td>-0.601573</td>\n",
       "      <td>1.290118</td>\n",
       "      <td>1.232342</td>\n",
       "      <td>86.0</td>\n",
       "    </tr>\n",
       "    <tr>\n",
       "      <th>2312</th>\n",
       "      <td>-0.601573</td>\n",
       "      <td>-0.762584</td>\n",
       "      <td>-0.794948</td>\n",
       "      <td>34.0</td>\n",
       "    </tr>\n",
       "  </tbody>\n",
       "</table>\n",
       "<p>6183 rows × 4 columns</p>\n",
       "</div>"
      ],
      "text/plain": [
       "      bathrooms  bedrooms  accommodates  price\n",
       "5738   0.321845 -0.762584     -1.301771   37.0\n",
       "1559  -0.601573 -0.762584     -0.794948   95.0\n",
       "5461  -0.601573  0.263767      0.218697   61.0\n",
       "25    -0.601573 -0.762584     -0.288126  120.0\n",
       "3559  -0.601573  0.263767      1.232342   94.0\n",
       "...         ...       ...           ...    ...\n",
       "650   -0.601573 -0.762584     -1.301771   20.0\n",
       "5933   1.245263  1.290118      1.232342  200.0\n",
       "2961  -0.601573 -0.762584     -1.301771   21.0\n",
       "1550  -0.601573  1.290118      1.232342   86.0\n",
       "2312  -0.601573 -0.762584     -0.794948   34.0\n",
       "\n",
       "[6183 rows x 4 columns]"
      ]
     },
     "execution_count": 65,
     "metadata": {},
     "output_type": "execute_result"
    }
   ],
   "source": [
    "df"
   ]
  },
  {
   "cell_type": "code",
   "execution_count": 66,
   "id": "942428f0-a90b-4e6c-b83b-0b6152559896",
   "metadata": {
    "tags": []
   },
   "outputs": [],
   "source": [
    "from scipy.spatial import distance"
   ]
  },
  {
   "cell_type": "code",
   "execution_count": 67,
   "id": "9b08e4cc-aca8-4ce1-b84c-4da2f45ff6c7",
   "metadata": {
    "tags": []
   },
   "outputs": [
    {
     "data": {
      "text/plain": [
       "1.0"
      ]
     },
     "execution_count": 67,
     "metadata": {},
     "output_type": "execute_result"
    }
   ],
   "source": [
    "distance.euclidean([3],[4])"
   ]
  },
  {
   "cell_type": "code",
   "execution_count": 68,
   "id": "72f6d7cf-0269-43be-b784-0c6b6595cddc",
   "metadata": {
    "tags": []
   },
   "outputs": [
    {
     "data": {
      "text/plain": [
       "5.656854249492381"
      ]
     },
     "execution_count": 68,
     "metadata": {},
     "output_type": "execute_result"
    }
   ],
   "source": [
    "distance.euclidean([1,4], [5,0])"
   ]
  },
  {
   "cell_type": "code",
   "execution_count": 69,
   "id": "473ea21f-a45d-4059-a996-b118247ba604",
   "metadata": {
    "tags": []
   },
   "outputs": [
    {
     "data": {
      "text/plain": [
       "9.1104335791443"
      ]
     },
     "execution_count": 69,
     "metadata": {},
     "output_type": "execute_result"
    }
   ],
   "source": [
    "distance.euclidean([1,3,5,6], [5,6,12,3])"
   ]
  },
  {
   "cell_type": "code",
   "execution_count": null,
   "id": "758cfa1b-0c58-4ede-b320-7efa22ba87f8",
   "metadata": {
    "tags": []
   },
   "outputs": [],
   "source": [
    "distance.euclidean(\n",
    "    df[['bathrooms', 'bedrooms', 'accommodates']].iloc[1],\n",
    "        df[['bathrooms', 'bedrooms', 'accommodates']].iloc[16],\n",
    "\n",
    ")"
   ]
  },
  {
   "cell_type": "markdown",
   "id": "b1523a86-fc33-4d70-9fac-e20ef7e1df13",
   "metadata": {},
   "source": [
    "# SCIKIT-Learn\n",
    "\n",
    "Flujo: \n",
    "- Importar el algoritmo que queremos usar. Cada algoritmo es una clase de Python. \n",
    "- Creamos una instancia del algoritmo.\n",
    "- Crear el conjunto de train y test\n",
    "- Ajustamos el modelo a los datos de entrenamiento (*fit*), esto es *creamos la función predictora*\n",
    "- Hacemos predicciones\n",
    "- Evaluamos la predicción."
   ]
  },
  {
   "cell_type": "code",
   "execution_count": null,
   "id": "25f09343-d7c9-475c-9d2c-e2ec5ecadb93",
   "metadata": {},
   "outputs": [],
   "source": []
  },
  {
   "cell_type": "code",
   "execution_count": 71,
   "id": "fd7bbf2f-be42-40f3-bbf6-d8cc9c7f1765",
   "metadata": {
    "tags": []
   },
   "outputs": [],
   "source": [
    "# Importar el algoritmo que queremos usar. Cada algoritmo es una clase de Python. \n",
    "from sklearn.neighbors import KNeighborsRegressor"
   ]
  },
  {
   "cell_type": "code",
   "execution_count": 72,
   "id": "e7c0b4eb-eda2-40af-83dd-fdf7ee818744",
   "metadata": {
    "tags": []
   },
   "outputs": [],
   "source": [
    "# Creamos una instancia del algoritmo.\n",
    "knn = KNeighborsRegressor()"
   ]
  },
  {
   "cell_type": "code",
   "execution_count": 73,
   "id": "2471151d-600d-42a8-b85f-0403f3699dac",
   "metadata": {
    "tags": []
   },
   "outputs": [
    {
     "data": {
      "text/html": [
       "<style>#sk-container-id-1 {color: black;background-color: white;}#sk-container-id-1 pre{padding: 0;}#sk-container-id-1 div.sk-toggleable {background-color: white;}#sk-container-id-1 label.sk-toggleable__label {cursor: pointer;display: block;width: 100%;margin-bottom: 0;padding: 0.3em;box-sizing: border-box;text-align: center;}#sk-container-id-1 label.sk-toggleable__label-arrow:before {content: \"▸\";float: left;margin-right: 0.25em;color: #696969;}#sk-container-id-1 label.sk-toggleable__label-arrow:hover:before {color: black;}#sk-container-id-1 div.sk-estimator:hover label.sk-toggleable__label-arrow:before {color: black;}#sk-container-id-1 div.sk-toggleable__content {max-height: 0;max-width: 0;overflow: hidden;text-align: left;background-color: #f0f8ff;}#sk-container-id-1 div.sk-toggleable__content pre {margin: 0.2em;color: black;border-radius: 0.25em;background-color: #f0f8ff;}#sk-container-id-1 input.sk-toggleable__control:checked~div.sk-toggleable__content {max-height: 200px;max-width: 100%;overflow: auto;}#sk-container-id-1 input.sk-toggleable__control:checked~label.sk-toggleable__label-arrow:before {content: \"▾\";}#sk-container-id-1 div.sk-estimator input.sk-toggleable__control:checked~label.sk-toggleable__label {background-color: #d4ebff;}#sk-container-id-1 div.sk-label input.sk-toggleable__control:checked~label.sk-toggleable__label {background-color: #d4ebff;}#sk-container-id-1 input.sk-hidden--visually {border: 0;clip: rect(1px 1px 1px 1px);clip: rect(1px, 1px, 1px, 1px);height: 1px;margin: -1px;overflow: hidden;padding: 0;position: absolute;width: 1px;}#sk-container-id-1 div.sk-estimator {font-family: monospace;background-color: #f0f8ff;border: 1px dotted black;border-radius: 0.25em;box-sizing: border-box;margin-bottom: 0.5em;}#sk-container-id-1 div.sk-estimator:hover {background-color: #d4ebff;}#sk-container-id-1 div.sk-parallel-item::after {content: \"\";width: 100%;border-bottom: 1px solid gray;flex-grow: 1;}#sk-container-id-1 div.sk-label:hover label.sk-toggleable__label {background-color: #d4ebff;}#sk-container-id-1 div.sk-serial::before {content: \"\";position: absolute;border-left: 1px solid gray;box-sizing: border-box;top: 0;bottom: 0;left: 50%;z-index: 0;}#sk-container-id-1 div.sk-serial {display: flex;flex-direction: column;align-items: center;background-color: white;padding-right: 0.2em;padding-left: 0.2em;position: relative;}#sk-container-id-1 div.sk-item {position: relative;z-index: 1;}#sk-container-id-1 div.sk-parallel {display: flex;align-items: stretch;justify-content: center;background-color: white;position: relative;}#sk-container-id-1 div.sk-item::before, #sk-container-id-1 div.sk-parallel-item::before {content: \"\";position: absolute;border-left: 1px solid gray;box-sizing: border-box;top: 0;bottom: 0;left: 50%;z-index: -1;}#sk-container-id-1 div.sk-parallel-item {display: flex;flex-direction: column;z-index: 1;position: relative;background-color: white;}#sk-container-id-1 div.sk-parallel-item:first-child::after {align-self: flex-end;width: 50%;}#sk-container-id-1 div.sk-parallel-item:last-child::after {align-self: flex-start;width: 50%;}#sk-container-id-1 div.sk-parallel-item:only-child::after {width: 0;}#sk-container-id-1 div.sk-dashed-wrapped {border: 1px dashed gray;margin: 0 0.4em 0.5em 0.4em;box-sizing: border-box;padding-bottom: 0.4em;background-color: white;}#sk-container-id-1 div.sk-label label {font-family: monospace;font-weight: bold;display: inline-block;line-height: 1.2em;}#sk-container-id-1 div.sk-label-container {text-align: center;}#sk-container-id-1 div.sk-container {/* jupyter's `normalize.less` sets `[hidden] { display: none; }` but bootstrap.min.css set `[hidden] { display: none !important; }` so we also need the `!important` here to be able to override the default hidden behavior on the sphinx rendered scikit-learn.org. See: https://github.com/scikit-learn/scikit-learn/issues/21755 */display: inline-block !important;position: relative;}#sk-container-id-1 div.sk-text-repr-fallback {display: none;}</style><div id=\"sk-container-id-1\" class=\"sk-top-container\"><div class=\"sk-text-repr-fallback\"><pre>KNeighborsRegressor()</pre><b>In a Jupyter environment, please rerun this cell to show the HTML representation or trust the notebook. <br />On GitHub, the HTML representation is unable to render, please try loading this page with nbviewer.org.</b></div><div class=\"sk-container\" hidden><div class=\"sk-item\"><div class=\"sk-estimator sk-toggleable\"><input class=\"sk-toggleable__control sk-hidden--visually\" id=\"sk-estimator-id-1\" type=\"checkbox\" checked><label for=\"sk-estimator-id-1\" class=\"sk-toggleable__label sk-toggleable__label-arrow\">KNeighborsRegressor</label><div class=\"sk-toggleable__content\"><pre>KNeighborsRegressor()</pre></div></div></div></div></div>"
      ],
      "text/plain": [
       "KNeighborsRegressor()"
      ]
     },
     "execution_count": 73,
     "metadata": {},
     "output_type": "execute_result"
    }
   ],
   "source": [
    "knn"
   ]
  },
  {
   "cell_type": "markdown",
   "id": "e836bda4-cd93-4f83-ae0b-e4c0037458ce",
   "metadata": {},
   "source": [
    "### Documentación\n",
    "\n",
    "```python\n",
    " class sklearn.neighbors.KNeighborsRegressor(n_neighbors=5, *, weights='uniform', algorithm='auto', leaf_size=30, p=2, metric='minkowski', metric_params=None, n_jobs=None)\n",
    "```\n",
    "\n",
    "- **n_neighbors** default 5, es el número de vecinos, la **k**\n",
    "- **metric** es el algoritmo de distancia, relacionado con el p. Si p = 2 es distancia euclidiana. Si p=1 es manhattan.\n",
    "- **weights** 'uniform' es la media mean()\n",
    "- **algorithm** , es el algoritmo que 'elige' donde buscar los vecinos. 'brute' es lo que habíamos hecho hasta ahora, calcular la distancia con TODOS los elementos. Los demás son de poda... Tiene influencia en el tiempo de cálculo pero no en el resultado.\n",
    "\n"
   ]
  },
  {
   "cell_type": "code",
   "execution_count": 74,
   "id": "fba7bb2f-d05e-4c8e-8bf7-deb0fcf15094",
   "metadata": {
    "tags": []
   },
   "outputs": [],
   "source": [
    "import math\n",
    "corte = math.trunc(df.shape[0]*0.8)"
   ]
  },
  {
   "cell_type": "code",
   "execution_count": 75,
   "id": "4fff4c5e-a6cd-4eb5-a06d-bd50e32000f9",
   "metadata": {
    "tags": []
   },
   "outputs": [
    {
     "data": {
      "text/plain": [
       "4946"
      ]
     },
     "execution_count": 75,
     "metadata": {},
     "output_type": "execute_result"
    }
   ],
   "source": [
    "corte"
   ]
  },
  {
   "cell_type": "code",
   "execution_count": 76,
   "id": "6f7acaba-26ab-4f03-bd6a-54bce2488817",
   "metadata": {
    "tags": []
   },
   "outputs": [],
   "source": [
    "train = df[:corte].copy()\n",
    "test = df[corte:].copy()"
   ]
  },
  {
   "cell_type": "code",
   "execution_count": 77,
   "id": "e070bcd4-6452-4a60-832c-c2a06b488ff2",
   "metadata": {
    "tags": []
   },
   "outputs": [
    {
     "data": {
      "text/html": [
       "<style>#sk-container-id-2 {color: black;background-color: white;}#sk-container-id-2 pre{padding: 0;}#sk-container-id-2 div.sk-toggleable {background-color: white;}#sk-container-id-2 label.sk-toggleable__label {cursor: pointer;display: block;width: 100%;margin-bottom: 0;padding: 0.3em;box-sizing: border-box;text-align: center;}#sk-container-id-2 label.sk-toggleable__label-arrow:before {content: \"▸\";float: left;margin-right: 0.25em;color: #696969;}#sk-container-id-2 label.sk-toggleable__label-arrow:hover:before {color: black;}#sk-container-id-2 div.sk-estimator:hover label.sk-toggleable__label-arrow:before {color: black;}#sk-container-id-2 div.sk-toggleable__content {max-height: 0;max-width: 0;overflow: hidden;text-align: left;background-color: #f0f8ff;}#sk-container-id-2 div.sk-toggleable__content pre {margin: 0.2em;color: black;border-radius: 0.25em;background-color: #f0f8ff;}#sk-container-id-2 input.sk-toggleable__control:checked~div.sk-toggleable__content {max-height: 200px;max-width: 100%;overflow: auto;}#sk-container-id-2 input.sk-toggleable__control:checked~label.sk-toggleable__label-arrow:before {content: \"▾\";}#sk-container-id-2 div.sk-estimator input.sk-toggleable__control:checked~label.sk-toggleable__label {background-color: #d4ebff;}#sk-container-id-2 div.sk-label input.sk-toggleable__control:checked~label.sk-toggleable__label {background-color: #d4ebff;}#sk-container-id-2 input.sk-hidden--visually {border: 0;clip: rect(1px 1px 1px 1px);clip: rect(1px, 1px, 1px, 1px);height: 1px;margin: -1px;overflow: hidden;padding: 0;position: absolute;width: 1px;}#sk-container-id-2 div.sk-estimator {font-family: monospace;background-color: #f0f8ff;border: 1px dotted black;border-radius: 0.25em;box-sizing: border-box;margin-bottom: 0.5em;}#sk-container-id-2 div.sk-estimator:hover {background-color: #d4ebff;}#sk-container-id-2 div.sk-parallel-item::after {content: \"\";width: 100%;border-bottom: 1px solid gray;flex-grow: 1;}#sk-container-id-2 div.sk-label:hover label.sk-toggleable__label {background-color: #d4ebff;}#sk-container-id-2 div.sk-serial::before {content: \"\";position: absolute;border-left: 1px solid gray;box-sizing: border-box;top: 0;bottom: 0;left: 50%;z-index: 0;}#sk-container-id-2 div.sk-serial {display: flex;flex-direction: column;align-items: center;background-color: white;padding-right: 0.2em;padding-left: 0.2em;position: relative;}#sk-container-id-2 div.sk-item {position: relative;z-index: 1;}#sk-container-id-2 div.sk-parallel {display: flex;align-items: stretch;justify-content: center;background-color: white;position: relative;}#sk-container-id-2 div.sk-item::before, #sk-container-id-2 div.sk-parallel-item::before {content: \"\";position: absolute;border-left: 1px solid gray;box-sizing: border-box;top: 0;bottom: 0;left: 50%;z-index: -1;}#sk-container-id-2 div.sk-parallel-item {display: flex;flex-direction: column;z-index: 1;position: relative;background-color: white;}#sk-container-id-2 div.sk-parallel-item:first-child::after {align-self: flex-end;width: 50%;}#sk-container-id-2 div.sk-parallel-item:last-child::after {align-self: flex-start;width: 50%;}#sk-container-id-2 div.sk-parallel-item:only-child::after {width: 0;}#sk-container-id-2 div.sk-dashed-wrapped {border: 1px dashed gray;margin: 0 0.4em 0.5em 0.4em;box-sizing: border-box;padding-bottom: 0.4em;background-color: white;}#sk-container-id-2 div.sk-label label {font-family: monospace;font-weight: bold;display: inline-block;line-height: 1.2em;}#sk-container-id-2 div.sk-label-container {text-align: center;}#sk-container-id-2 div.sk-container {/* jupyter's `normalize.less` sets `[hidden] { display: none; }` but bootstrap.min.css set `[hidden] { display: none !important; }` so we also need the `!important` here to be able to override the default hidden behavior on the sphinx rendered scikit-learn.org. See: https://github.com/scikit-learn/scikit-learn/issues/21755 */display: inline-block !important;position: relative;}#sk-container-id-2 div.sk-text-repr-fallback {display: none;}</style><div id=\"sk-container-id-2\" class=\"sk-top-container\"><div class=\"sk-text-repr-fallback\"><pre>KNeighborsRegressor()</pre><b>In a Jupyter environment, please rerun this cell to show the HTML representation or trust the notebook. <br />On GitHub, the HTML representation is unable to render, please try loading this page with nbviewer.org.</b></div><div class=\"sk-container\" hidden><div class=\"sk-item\"><div class=\"sk-estimator sk-toggleable\"><input class=\"sk-toggleable__control sk-hidden--visually\" id=\"sk-estimator-id-2\" type=\"checkbox\" checked><label for=\"sk-estimator-id-2\" class=\"sk-toggleable__label sk-toggleable__label-arrow\">KNeighborsRegressor</label><div class=\"sk-toggleable__content\"><pre>KNeighborsRegressor()</pre></div></div></div></div></div>"
      ],
      "text/plain": [
       "KNeighborsRegressor()"
      ]
     },
     "execution_count": 77,
     "metadata": {},
     "output_type": "execute_result"
    }
   ],
   "source": [
    "# - Ajustamos el modelo a los datos de entrenamiento (*fit*), esto es *creamos la función predictora*\n",
    "knn.fit(\n",
    "    train[['bathrooms', 'bedrooms', 'accommodates']],\n",
    "    train['price']\n",
    ")"
   ]
  },
  {
   "cell_type": "markdown",
   "id": "b3797e11-bee1-4c2d-b355-2d2e9e529b44",
   "metadata": {},
   "source": [
    "cuando hacemos el fit, sklearn almacena los datos dentro de la instancia de knn y comprueba que sean correctos; esto es, en este caso de distancias,si alguno fuese nulo, devolvería un error."
   ]
  },
  {
   "cell_type": "code",
   "execution_count": 78,
   "id": "7ae066ff-03fd-42f8-b584-1292a42589e9",
   "metadata": {
    "tags": []
   },
   "outputs": [],
   "source": [
    "# - Hacemos predicciones\n",
    "\n",
    "# usamos el conjunto de test\n",
    "predicciones = knn.predict(test[['bathrooms', 'bedrooms', 'accommodates']])"
   ]
  },
  {
   "cell_type": "code",
   "execution_count": 79,
   "id": "ed74c240-d6d4-4b5f-be6f-b6185bd44f53",
   "metadata": {
    "tags": []
   },
   "outputs": [
    {
     "data": {
      "text/plain": [
       "array([ 89.4,  26.2, 127.4, ...,  25.8,  80. ,  86.2])"
      ]
     },
     "execution_count": 79,
     "metadata": {},
     "output_type": "execute_result"
    }
   ],
   "source": [
    "predicciones"
   ]
  },
  {
   "cell_type": "code",
   "execution_count": 80,
   "id": "eeb49c75-155e-477e-8e80-9a0ed144203e",
   "metadata": {
    "tags": []
   },
   "outputs": [],
   "source": [
    "test['predicted_price'] = predicciones"
   ]
  },
  {
   "cell_type": "code",
   "execution_count": 81,
   "id": "8c767dfd-4a9d-4c72-88dc-94fb4cf10e7c",
   "metadata": {
    "tags": []
   },
   "outputs": [
    {
     "data": {
      "text/html": [
       "<div>\n",
       "<style scoped>\n",
       "    .dataframe tbody tr th:only-of-type {\n",
       "        vertical-align: middle;\n",
       "    }\n",
       "\n",
       "    .dataframe tbody tr th {\n",
       "        vertical-align: top;\n",
       "    }\n",
       "\n",
       "    .dataframe thead th {\n",
       "        text-align: right;\n",
       "    }\n",
       "</style>\n",
       "<table border=\"1\" class=\"dataframe\">\n",
       "  <thead>\n",
       "    <tr style=\"text-align: right;\">\n",
       "      <th></th>\n",
       "      <th>price</th>\n",
       "      <th>predicted_price</th>\n",
       "    </tr>\n",
       "  </thead>\n",
       "  <tbody>\n",
       "    <tr>\n",
       "      <th>3048</th>\n",
       "      <td>84.0</td>\n",
       "      <td>89.4</td>\n",
       "    </tr>\n",
       "    <tr>\n",
       "      <th>2379</th>\n",
       "      <td>24.0</td>\n",
       "      <td>26.2</td>\n",
       "    </tr>\n",
       "    <tr>\n",
       "      <th>6562</th>\n",
       "      <td>104.0</td>\n",
       "      <td>127.4</td>\n",
       "    </tr>\n",
       "    <tr>\n",
       "      <th>3530</th>\n",
       "      <td>125.0</td>\n",
       "      <td>107.2</td>\n",
       "    </tr>\n",
       "    <tr>\n",
       "      <th>234</th>\n",
       "      <td>63.0</td>\n",
       "      <td>111.6</td>\n",
       "    </tr>\n",
       "    <tr>\n",
       "      <th>...</th>\n",
       "      <td>...</td>\n",
       "      <td>...</td>\n",
       "    </tr>\n",
       "    <tr>\n",
       "      <th>650</th>\n",
       "      <td>20.0</td>\n",
       "      <td>25.8</td>\n",
       "    </tr>\n",
       "    <tr>\n",
       "      <th>5933</th>\n",
       "      <td>200.0</td>\n",
       "      <td>258.8</td>\n",
       "    </tr>\n",
       "    <tr>\n",
       "      <th>2961</th>\n",
       "      <td>21.0</td>\n",
       "      <td>25.8</td>\n",
       "    </tr>\n",
       "    <tr>\n",
       "      <th>1550</th>\n",
       "      <td>86.0</td>\n",
       "      <td>80.0</td>\n",
       "    </tr>\n",
       "    <tr>\n",
       "      <th>2312</th>\n",
       "      <td>34.0</td>\n",
       "      <td>86.2</td>\n",
       "    </tr>\n",
       "  </tbody>\n",
       "</table>\n",
       "<p>1237 rows × 2 columns</p>\n",
       "</div>"
      ],
      "text/plain": [
       "      price  predicted_price\n",
       "3048   84.0             89.4\n",
       "2379   24.0             26.2\n",
       "6562  104.0            127.4\n",
       "3530  125.0            107.2\n",
       "234    63.0            111.6\n",
       "...     ...              ...\n",
       "650    20.0             25.8\n",
       "5933  200.0            258.8\n",
       "2961   21.0             25.8\n",
       "1550   86.0             80.0\n",
       "2312   34.0             86.2\n",
       "\n",
       "[1237 rows x 2 columns]"
      ]
     },
     "execution_count": 81,
     "metadata": {},
     "output_type": "execute_result"
    }
   ],
   "source": [
    "test[ ['price', 'predicted_price'] ]"
   ]
  },
  {
   "cell_type": "code",
   "execution_count": 82,
   "id": "1a2d56f4-3eba-4293-a810-691b119d5bc8",
   "metadata": {
    "tags": []
   },
   "outputs": [],
   "source": [
    "from sklearn.metrics import mean_squared_error"
   ]
  },
  {
   "cell_type": "code",
   "execution_count": 85,
   "id": "130e7d8c-ff5f-4195-96b2-c3d91046fb22",
   "metadata": {
    "tags": []
   },
   "outputs": [],
   "source": [
    "mse = mean_squared_error(test['price'], test['predicted_price'])"
   ]
  },
  {
   "cell_type": "code",
   "execution_count": 86,
   "id": "17b3fa73-191f-475c-aa21-5a307ddd3262",
   "metadata": {
    "tags": []
   },
   "outputs": [
    {
     "data": {
      "text/plain": [
       "3737.592145270816"
      ]
     },
     "execution_count": 86,
     "metadata": {},
     "output_type": "execute_result"
    }
   ],
   "source": [
    "mse"
   ]
  },
  {
   "cell_type": "code",
   "execution_count": 88,
   "id": "7484a0bd-1ddb-432e-8568-d36db9943a6a",
   "metadata": {
    "tags": []
   },
   "outputs": [],
   "source": [
    "rmse = mse**0.5"
   ]
  },
  {
   "cell_type": "code",
   "execution_count": 89,
   "id": "41c9de89-8c8c-46a7-a9ac-eba95e521d38",
   "metadata": {
    "tags": []
   },
   "outputs": [
    {
     "data": {
      "text/plain": [
       "61.13584991861008"
      ]
     },
     "execution_count": 89,
     "metadata": {},
     "output_type": "execute_result"
    }
   ],
   "source": [
    "rmse"
   ]
  },
  {
   "cell_type": "markdown",
   "id": "a45089a0-00ff-4dd6-b6c4-d9be832bc917",
   "metadata": {},
   "source": [
    "# Vamos a incorporar la distancia al centro de la ciudad\n",
    "\n"
   ]
  },
  {
   "cell_type": "code",
   "execution_count": 90,
   "id": "9dfb0ecf-3cb5-46eb-97b3-4f309981d87f",
   "metadata": {
    "tags": []
   },
   "outputs": [
    {
     "data": {
      "text/html": [
       "<div>\n",
       "<style scoped>\n",
       "    .dataframe tbody tr th:only-of-type {\n",
       "        vertical-align: middle;\n",
       "    }\n",
       "\n",
       "    .dataframe tbody tr th {\n",
       "        vertical-align: top;\n",
       "    }\n",
       "\n",
       "    .dataframe thead th {\n",
       "        text-align: right;\n",
       "    }\n",
       "</style>\n",
       "<table border=\"1\" class=\"dataframe\">\n",
       "  <thead>\n",
       "    <tr style=\"text-align: right;\">\n",
       "      <th></th>\n",
       "      <th>latitude</th>\n",
       "      <th>longitude</th>\n",
       "    </tr>\n",
       "  </thead>\n",
       "  <tbody>\n",
       "    <tr>\n",
       "      <th>5738</th>\n",
       "      <td>39.49741</td>\n",
       "      <td>-0.37455</td>\n",
       "    </tr>\n",
       "    <tr>\n",
       "      <th>1559</th>\n",
       "      <td>39.45981</td>\n",
       "      <td>-0.37301</td>\n",
       "    </tr>\n",
       "    <tr>\n",
       "      <th>5461</th>\n",
       "      <td>39.48228</td>\n",
       "      <td>-0.39761</td>\n",
       "    </tr>\n",
       "    <tr>\n",
       "      <th>25</th>\n",
       "      <td>39.47625</td>\n",
       "      <td>-0.37203</td>\n",
       "    </tr>\n",
       "    <tr>\n",
       "      <th>3559</th>\n",
       "      <td>39.47267</td>\n",
       "      <td>-0.37796</td>\n",
       "    </tr>\n",
       "    <tr>\n",
       "      <th>...</th>\n",
       "      <td>...</td>\n",
       "      <td>...</td>\n",
       "    </tr>\n",
       "    <tr>\n",
       "      <th>5882</th>\n",
       "      <td>39.47265</td>\n",
       "      <td>-0.32772</td>\n",
       "    </tr>\n",
       "    <tr>\n",
       "      <th>2961</th>\n",
       "      <td>39.47267</td>\n",
       "      <td>-0.35266</td>\n",
       "    </tr>\n",
       "    <tr>\n",
       "      <th>1550</th>\n",
       "      <td>39.46857</td>\n",
       "      <td>-0.32447</td>\n",
       "    </tr>\n",
       "    <tr>\n",
       "      <th>2312</th>\n",
       "      <td>39.47053</td>\n",
       "      <td>-0.33897</td>\n",
       "    </tr>\n",
       "    <tr>\n",
       "      <th>2287</th>\n",
       "      <td>39.47577</td>\n",
       "      <td>-0.37709</td>\n",
       "    </tr>\n",
       "  </tbody>\n",
       "</table>\n",
       "<p>6493 rows × 2 columns</p>\n",
       "</div>"
      ],
      "text/plain": [
       "      latitude  longitude\n",
       "5738  39.49741   -0.37455\n",
       "1559  39.45981   -0.37301\n",
       "5461  39.48228   -0.39761\n",
       "25    39.47625   -0.37203\n",
       "3559  39.47267   -0.37796\n",
       "...        ...        ...\n",
       "5882  39.47265   -0.32772\n",
       "2961  39.47267   -0.35266\n",
       "1550  39.46857   -0.32447\n",
       "2312  39.47053   -0.33897\n",
       "2287  39.47577   -0.37709\n",
       "\n",
       "[6493 rows x 2 columns]"
      ]
     },
     "execution_count": 90,
     "metadata": {},
     "output_type": "execute_result"
    }
   ],
   "source": [
    "valencia[['latitude', 'longitude']]"
   ]
  },
  {
   "cell_type": "code",
   "execution_count": 99,
   "id": "799050d5-64d2-431d-8f09-4113a98a0ad2",
   "metadata": {
    "tags": []
   },
   "outputs": [],
   "source": [
    "# plaza del ayuntamiento de vlc : 39.46983569781667, -0.3765216511359857\n",
    "\n",
    "# haversine \n",
    "\n",
    "from haversine import haversine, Unit\n",
    "\n",
    "centro = (39.46983569781667, -0.3765216511359857)\n",
    "\n",
    "primero = (valencia.iloc[3]['latitude'], valencia.iloc[3]['longitude'])\n"
   ]
  },
  {
   "cell_type": "code",
   "execution_count": 100,
   "id": "954673a5-835e-457d-a896-ab564dd7dd27",
   "metadata": {
    "tags": []
   },
   "outputs": [
    {
     "data": {
      "text/plain": [
       "(39.47625, -0.37203)"
      ]
     },
     "execution_count": 100,
     "metadata": {},
     "output_type": "execute_result"
    }
   ],
   "source": [
    "primero"
   ]
  },
  {
   "cell_type": "code",
   "execution_count": 101,
   "id": "4b4cc23f-b4a8-4981-90a1-7e1dae2c9f76",
   "metadata": {
    "tags": []
   },
   "outputs": [
    {
     "data": {
      "text/plain": [
       "810.7702433948596"
      ]
     },
     "execution_count": 101,
     "metadata": {},
     "output_type": "execute_result"
    }
   ],
   "source": [
    "haversine(centro, primero, Unit.METERS)"
   ]
  },
  {
   "cell_type": "code",
   "execution_count": 102,
   "id": "1f8b7738-d16f-477b-a1d2-6f03e33e397f",
   "metadata": {
    "tags": []
   },
   "outputs": [
    {
     "data": {
      "text/plain": [
       "id                                                                           2053439\n",
       "listing_url                                     https://www.airbnb.com/rooms/2053439\n",
       "scrape_id                                                             20221221170335\n",
       "last_scraped                                                              2022-12-21\n",
       "source                                                                   city scrape\n",
       "                                                                ...                 \n",
       "calculated_host_listings_count                                                     1\n",
       "calculated_host_listings_count_entire_homes                                        1\n",
       "calculated_host_listings_count_private_rooms                                       0\n",
       "calculated_host_listings_count_shared_rooms                                        0\n",
       "reviews_per_month                                                               2.07\n",
       "Name: 25, Length: 75, dtype: object"
      ]
     },
     "execution_count": 102,
     "metadata": {},
     "output_type": "execute_result"
    }
   ],
   "source": [
    "valencia.iloc[3]"
   ]
  },
  {
   "cell_type": "code",
   "execution_count": 105,
   "id": "8c5f431d-bd32-4724-8280-1118ab2d72fb",
   "metadata": {
    "tags": []
   },
   "outputs": [],
   "source": [
    "def distancia_al_centro(punto):\n",
    "    return haversine(punto, centro, Unit.METERS)\n"
   ]
  },
  {
   "cell_type": "code",
   "execution_count": 109,
   "id": "154d0fc6-683b-4f22-9b87-0dd3233d34d1",
   "metadata": {
    "tags": []
   },
   "outputs": [],
   "source": [
    "\n",
    "valencia['distancia'] = valencia[['latitude', 'longitude']].apply(distancia_al_centro, axis=1)"
   ]
  },
  {
   "cell_type": "code",
   "execution_count": 117,
   "id": "3a4a9139-8c86-4f89-a19d-e6134a838cee",
   "metadata": {
    "tags": []
   },
   "outputs": [],
   "source": [
    "df = valencia[['bathrooms', 'bedrooms', 'accommodates', 'distancia', 'price']].copy()\n",
    "df_predictoras = df[['bathrooms', 'bedrooms', 'accommodates', 'distancia']]"
   ]
  },
  {
   "cell_type": "code",
   "execution_count": 118,
   "id": "724aac87-38b1-4da0-a1d7-df10629066ce",
   "metadata": {
    "tags": []
   },
   "outputs": [],
   "source": [
    "df[['bathrooms', 'bedrooms', 'accommodates', 'distancia']] = (df_predictoras - df_predictoras.mean()) / df_predictoras.std()"
   ]
  },
  {
   "cell_type": "code",
   "execution_count": 147,
   "id": "1a4d0e74-0cce-42e8-aca3-ac469f214930",
   "metadata": {
    "tags": []
   },
   "outputs": [],
   "source": [
    "df.head()\n",
    "df = df.dropna()"
   ]
  },
  {
   "cell_type": "code",
   "execution_count": 148,
   "id": "e2aadf52-f9b9-405b-8dda-03b8b033413a",
   "metadata": {
    "tags": []
   },
   "outputs": [],
   "source": [
    "from sklearn.model_selection import train_test_split\n",
    "\n",
    "X_train, X_test, y_train, y_test = train_test_split(df[['bathrooms', 'bedrooms', 'accommodates', 'distancia']], df['price'], shuffle=False, test_size=0.2)"
   ]
  },
  {
   "cell_type": "code",
   "execution_count": 149,
   "id": "bd5dd08a-721e-48fc-b1c6-03b13504e3ad",
   "metadata": {
    "tags": []
   },
   "outputs": [
    {
     "data": {
      "text/html": [
       "<div>\n",
       "<style scoped>\n",
       "    .dataframe tbody tr th:only-of-type {\n",
       "        vertical-align: middle;\n",
       "    }\n",
       "\n",
       "    .dataframe tbody tr th {\n",
       "        vertical-align: top;\n",
       "    }\n",
       "\n",
       "    .dataframe thead th {\n",
       "        text-align: right;\n",
       "    }\n",
       "</style>\n",
       "<table border=\"1\" class=\"dataframe\">\n",
       "  <thead>\n",
       "    <tr style=\"text-align: right;\">\n",
       "      <th></th>\n",
       "      <th>bathrooms</th>\n",
       "      <th>bedrooms</th>\n",
       "      <th>accommodates</th>\n",
       "      <th>distancia</th>\n",
       "    </tr>\n",
       "  </thead>\n",
       "  <tbody>\n",
       "    <tr>\n",
       "      <th>5738</th>\n",
       "      <td>0.338578</td>\n",
       "      <td>-0.762584</td>\n",
       "      <td>-1.294267</td>\n",
       "      <td>0.287466</td>\n",
       "    </tr>\n",
       "    <tr>\n",
       "      <th>1559</th>\n",
       "      <td>-0.583177</td>\n",
       "      <td>-0.762584</td>\n",
       "      <td>-0.782035</td>\n",
       "      <td>-0.456145</td>\n",
       "    </tr>\n",
       "    <tr>\n",
       "      <th>5461</th>\n",
       "      <td>-0.583177</td>\n",
       "      <td>0.263767</td>\n",
       "      <td>0.242428</td>\n",
       "      <td>-0.020090</td>\n",
       "    </tr>\n",
       "    <tr>\n",
       "      <th>25</th>\n",
       "      <td>-0.583177</td>\n",
       "      <td>-0.762584</td>\n",
       "      <td>-0.269803</td>\n",
       "      <td>-0.589687</td>\n",
       "    </tr>\n",
       "    <tr>\n",
       "      <th>3559</th>\n",
       "      <td>-0.583177</td>\n",
       "      <td>0.263767</td>\n",
       "      <td>1.266892</td>\n",
       "      <td>-0.772991</td>\n",
       "    </tr>\n",
       "    <tr>\n",
       "      <th>...</th>\n",
       "      <td>...</td>\n",
       "      <td>...</td>\n",
       "      <td>...</td>\n",
       "      <td>...</td>\n",
       "    </tr>\n",
       "    <tr>\n",
       "      <th>6142</th>\n",
       "      <td>-0.583177</td>\n",
       "      <td>-0.762584</td>\n",
       "      <td>-0.782035</td>\n",
       "      <td>-0.290703</td>\n",
       "    </tr>\n",
       "    <tr>\n",
       "      <th>5576</th>\n",
       "      <td>-0.583177</td>\n",
       "      <td>0.263767</td>\n",
       "      <td>-0.269803</td>\n",
       "      <td>-0.478202</td>\n",
       "    </tr>\n",
       "    <tr>\n",
       "      <th>4914</th>\n",
       "      <td>-0.583177</td>\n",
       "      <td>0.263767</td>\n",
       "      <td>0.242428</td>\n",
       "      <td>0.428297</td>\n",
       "    </tr>\n",
       "    <tr>\n",
       "      <th>5833</th>\n",
       "      <td>0.338578</td>\n",
       "      <td>-0.762584</td>\n",
       "      <td>-0.782035</td>\n",
       "      <td>-0.064695</td>\n",
       "    </tr>\n",
       "    <tr>\n",
       "      <th>6028</th>\n",
       "      <td>-0.583177</td>\n",
       "      <td>-0.762584</td>\n",
       "      <td>-0.782035</td>\n",
       "      <td>-0.002870</td>\n",
       "    </tr>\n",
       "  </tbody>\n",
       "</table>\n",
       "<p>4946 rows × 4 columns</p>\n",
       "</div>"
      ],
      "text/plain": [
       "      bathrooms  bedrooms  accommodates  distancia\n",
       "5738   0.338578 -0.762584     -1.294267   0.287466\n",
       "1559  -0.583177 -0.762584     -0.782035  -0.456145\n",
       "5461  -0.583177  0.263767      0.242428  -0.020090\n",
       "25    -0.583177 -0.762584     -0.269803  -0.589687\n",
       "3559  -0.583177  0.263767      1.266892  -0.772991\n",
       "...         ...       ...           ...        ...\n",
       "6142  -0.583177 -0.762584     -0.782035  -0.290703\n",
       "5576  -0.583177  0.263767     -0.269803  -0.478202\n",
       "4914  -0.583177  0.263767      0.242428   0.428297\n",
       "5833   0.338578 -0.762584     -0.782035  -0.064695\n",
       "6028  -0.583177 -0.762584     -0.782035  -0.002870\n",
       "\n",
       "[4946 rows x 4 columns]"
      ]
     },
     "execution_count": 149,
     "metadata": {},
     "output_type": "execute_result"
    }
   ],
   "source": [
    "X_train"
   ]
  },
  {
   "cell_type": "code",
   "execution_count": 150,
   "id": "d181db68-6126-4d76-b2f7-055dbbbc2f01",
   "metadata": {
    "tags": []
   },
   "outputs": [
    {
     "data": {
      "text/plain": [
       "(4946,)"
      ]
     },
     "execution_count": 150,
     "metadata": {},
     "output_type": "execute_result"
    }
   ],
   "source": [
    "y_train.shape"
   ]
  },
  {
   "cell_type": "code",
   "execution_count": 151,
   "id": "f86983e7-3a8e-4655-be6e-82d8c6e6b035",
   "metadata": {
    "tags": []
   },
   "outputs": [
    {
     "data": {
      "text/plain": [
       "(1237,)"
      ]
     },
     "execution_count": 151,
     "metadata": {},
     "output_type": "execute_result"
    }
   ],
   "source": [
    "y_test.shape"
   ]
  },
  {
   "cell_type": "code",
   "execution_count": 152,
   "id": "f8230e90-2cae-4754-91fc-c479cd2e60b1",
   "metadata": {
    "tags": []
   },
   "outputs": [],
   "source": [
    "knn2 = KNeighborsRegressor(n_neighbors=10, algorithm='brute')"
   ]
  },
  {
   "cell_type": "code",
   "execution_count": 153,
   "id": "2ab6d952-f686-4733-8b0e-a6d107bf60fe",
   "metadata": {
    "tags": []
   },
   "outputs": [
    {
     "data": {
      "text/html": [
       "<style>#sk-container-id-4 {color: black;background-color: white;}#sk-container-id-4 pre{padding: 0;}#sk-container-id-4 div.sk-toggleable {background-color: white;}#sk-container-id-4 label.sk-toggleable__label {cursor: pointer;display: block;width: 100%;margin-bottom: 0;padding: 0.3em;box-sizing: border-box;text-align: center;}#sk-container-id-4 label.sk-toggleable__label-arrow:before {content: \"▸\";float: left;margin-right: 0.25em;color: #696969;}#sk-container-id-4 label.sk-toggleable__label-arrow:hover:before {color: black;}#sk-container-id-4 div.sk-estimator:hover label.sk-toggleable__label-arrow:before {color: black;}#sk-container-id-4 div.sk-toggleable__content {max-height: 0;max-width: 0;overflow: hidden;text-align: left;background-color: #f0f8ff;}#sk-container-id-4 div.sk-toggleable__content pre {margin: 0.2em;color: black;border-radius: 0.25em;background-color: #f0f8ff;}#sk-container-id-4 input.sk-toggleable__control:checked~div.sk-toggleable__content {max-height: 200px;max-width: 100%;overflow: auto;}#sk-container-id-4 input.sk-toggleable__control:checked~label.sk-toggleable__label-arrow:before {content: \"▾\";}#sk-container-id-4 div.sk-estimator input.sk-toggleable__control:checked~label.sk-toggleable__label {background-color: #d4ebff;}#sk-container-id-4 div.sk-label input.sk-toggleable__control:checked~label.sk-toggleable__label {background-color: #d4ebff;}#sk-container-id-4 input.sk-hidden--visually {border: 0;clip: rect(1px 1px 1px 1px);clip: rect(1px, 1px, 1px, 1px);height: 1px;margin: -1px;overflow: hidden;padding: 0;position: absolute;width: 1px;}#sk-container-id-4 div.sk-estimator {font-family: monospace;background-color: #f0f8ff;border: 1px dotted black;border-radius: 0.25em;box-sizing: border-box;margin-bottom: 0.5em;}#sk-container-id-4 div.sk-estimator:hover {background-color: #d4ebff;}#sk-container-id-4 div.sk-parallel-item::after {content: \"\";width: 100%;border-bottom: 1px solid gray;flex-grow: 1;}#sk-container-id-4 div.sk-label:hover label.sk-toggleable__label {background-color: #d4ebff;}#sk-container-id-4 div.sk-serial::before {content: \"\";position: absolute;border-left: 1px solid gray;box-sizing: border-box;top: 0;bottom: 0;left: 50%;z-index: 0;}#sk-container-id-4 div.sk-serial {display: flex;flex-direction: column;align-items: center;background-color: white;padding-right: 0.2em;padding-left: 0.2em;position: relative;}#sk-container-id-4 div.sk-item {position: relative;z-index: 1;}#sk-container-id-4 div.sk-parallel {display: flex;align-items: stretch;justify-content: center;background-color: white;position: relative;}#sk-container-id-4 div.sk-item::before, #sk-container-id-4 div.sk-parallel-item::before {content: \"\";position: absolute;border-left: 1px solid gray;box-sizing: border-box;top: 0;bottom: 0;left: 50%;z-index: -1;}#sk-container-id-4 div.sk-parallel-item {display: flex;flex-direction: column;z-index: 1;position: relative;background-color: white;}#sk-container-id-4 div.sk-parallel-item:first-child::after {align-self: flex-end;width: 50%;}#sk-container-id-4 div.sk-parallel-item:last-child::after {align-self: flex-start;width: 50%;}#sk-container-id-4 div.sk-parallel-item:only-child::after {width: 0;}#sk-container-id-4 div.sk-dashed-wrapped {border: 1px dashed gray;margin: 0 0.4em 0.5em 0.4em;box-sizing: border-box;padding-bottom: 0.4em;background-color: white;}#sk-container-id-4 div.sk-label label {font-family: monospace;font-weight: bold;display: inline-block;line-height: 1.2em;}#sk-container-id-4 div.sk-label-container {text-align: center;}#sk-container-id-4 div.sk-container {/* jupyter's `normalize.less` sets `[hidden] { display: none; }` but bootstrap.min.css set `[hidden] { display: none !important; }` so we also need the `!important` here to be able to override the default hidden behavior on the sphinx rendered scikit-learn.org. See: https://github.com/scikit-learn/scikit-learn/issues/21755 */display: inline-block !important;position: relative;}#sk-container-id-4 div.sk-text-repr-fallback {display: none;}</style><div id=\"sk-container-id-4\" class=\"sk-top-container\"><div class=\"sk-text-repr-fallback\"><pre>KNeighborsRegressor(algorithm=&#x27;brute&#x27;, n_neighbors=10)</pre><b>In a Jupyter environment, please rerun this cell to show the HTML representation or trust the notebook. <br />On GitHub, the HTML representation is unable to render, please try loading this page with nbviewer.org.</b></div><div class=\"sk-container\" hidden><div class=\"sk-item\"><div class=\"sk-estimator sk-toggleable\"><input class=\"sk-toggleable__control sk-hidden--visually\" id=\"sk-estimator-id-4\" type=\"checkbox\" checked><label for=\"sk-estimator-id-4\" class=\"sk-toggleable__label sk-toggleable__label-arrow\">KNeighborsRegressor</label><div class=\"sk-toggleable__content\"><pre>KNeighborsRegressor(algorithm=&#x27;brute&#x27;, n_neighbors=10)</pre></div></div></div></div></div>"
      ],
      "text/plain": [
       "KNeighborsRegressor(algorithm='brute', n_neighbors=10)"
      ]
     },
     "execution_count": 153,
     "metadata": {},
     "output_type": "execute_result"
    }
   ],
   "source": [
    "knn2.fit(\n",
    "    X_train,\n",
    "    y_train\n",
    ")"
   ]
  },
  {
   "cell_type": "code",
   "execution_count": 154,
   "id": "809fe3b2-b631-45d7-8fde-07b624f1c33e",
   "metadata": {
    "tags": []
   },
   "outputs": [],
   "source": [
    "predicted = knn2.predict(X_test)"
   ]
  },
  {
   "cell_type": "code",
   "execution_count": 155,
   "id": "11ac439f-3e5d-4756-99cc-e8e198f8e8fe",
   "metadata": {
    "tags": []
   },
   "outputs": [
    {
     "data": {
      "text/html": [
       "<div>\n",
       "<style scoped>\n",
       "    .dataframe tbody tr th:only-of-type {\n",
       "        vertical-align: middle;\n",
       "    }\n",
       "\n",
       "    .dataframe tbody tr th {\n",
       "        vertical-align: top;\n",
       "    }\n",
       "\n",
       "    .dataframe thead th {\n",
       "        text-align: right;\n",
       "    }\n",
       "</style>\n",
       "<table border=\"1\" class=\"dataframe\">\n",
       "  <thead>\n",
       "    <tr style=\"text-align: right;\">\n",
       "      <th></th>\n",
       "      <th>bathrooms</th>\n",
       "      <th>bedrooms</th>\n",
       "      <th>accommodates</th>\n",
       "      <th>distancia</th>\n",
       "    </tr>\n",
       "  </thead>\n",
       "  <tbody>\n",
       "    <tr>\n",
       "      <th>3048</th>\n",
       "      <td>-0.583177</td>\n",
       "      <td>0.263767</td>\n",
       "      <td>0.242428</td>\n",
       "      <td>0.769653</td>\n",
       "    </tr>\n",
       "    <tr>\n",
       "      <th>2379</th>\n",
       "      <td>2.182089</td>\n",
       "      <td>-0.762584</td>\n",
       "      <td>-0.782035</td>\n",
       "      <td>0.079632</td>\n",
       "    </tr>\n",
       "    <tr>\n",
       "      <th>6562</th>\n",
       "      <td>-0.583177</td>\n",
       "      <td>0.263767</td>\n",
       "      <td>0.754660</td>\n",
       "      <td>0.788643</td>\n",
       "    </tr>\n",
       "    <tr>\n",
       "      <th>3530</th>\n",
       "      <td>0.338578</td>\n",
       "      <td>0.263767</td>\n",
       "      <td>0.242428</td>\n",
       "      <td>-0.502373</td>\n",
       "    </tr>\n",
       "    <tr>\n",
       "      <th>234</th>\n",
       "      <td>-0.583177</td>\n",
       "      <td>-0.762584</td>\n",
       "      <td>0.242428</td>\n",
       "      <td>0.651002</td>\n",
       "    </tr>\n",
       "    <tr>\n",
       "      <th>...</th>\n",
       "      <td>...</td>\n",
       "      <td>...</td>\n",
       "      <td>...</td>\n",
       "      <td>...</td>\n",
       "    </tr>\n",
       "    <tr>\n",
       "      <th>650</th>\n",
       "      <td>-0.583177</td>\n",
       "      <td>-0.762584</td>\n",
       "      <td>-1.294267</td>\n",
       "      <td>0.108884</td>\n",
       "    </tr>\n",
       "    <tr>\n",
       "      <th>5933</th>\n",
       "      <td>1.260333</td>\n",
       "      <td>1.290118</td>\n",
       "      <td>1.266892</td>\n",
       "      <td>7.490771</td>\n",
       "    </tr>\n",
       "    <tr>\n",
       "      <th>2961</th>\n",
       "      <td>-0.583177</td>\n",
       "      <td>-0.762584</td>\n",
       "      <td>-1.294267</td>\n",
       "      <td>-0.100065</td>\n",
       "    </tr>\n",
       "    <tr>\n",
       "      <th>1550</th>\n",
       "      <td>-0.583177</td>\n",
       "      <td>1.290118</td>\n",
       "      <td>1.266892</td>\n",
       "      <td>0.830627</td>\n",
       "    </tr>\n",
       "    <tr>\n",
       "      <th>2312</th>\n",
       "      <td>-0.583177</td>\n",
       "      <td>-0.762584</td>\n",
       "      <td>-0.782035</td>\n",
       "      <td>0.347033</td>\n",
       "    </tr>\n",
       "  </tbody>\n",
       "</table>\n",
       "<p>1237 rows × 4 columns</p>\n",
       "</div>"
      ],
      "text/plain": [
       "      bathrooms  bedrooms  accommodates  distancia\n",
       "3048  -0.583177  0.263767      0.242428   0.769653\n",
       "2379   2.182089 -0.762584     -0.782035   0.079632\n",
       "6562  -0.583177  0.263767      0.754660   0.788643\n",
       "3530   0.338578  0.263767      0.242428  -0.502373\n",
       "234   -0.583177 -0.762584      0.242428   0.651002\n",
       "...         ...       ...           ...        ...\n",
       "650   -0.583177 -0.762584     -1.294267   0.108884\n",
       "5933   1.260333  1.290118      1.266892   7.490771\n",
       "2961  -0.583177 -0.762584     -1.294267  -0.100065\n",
       "1550  -0.583177  1.290118      1.266892   0.830627\n",
       "2312  -0.583177 -0.762584     -0.782035   0.347033\n",
       "\n",
       "[1237 rows x 4 columns]"
      ]
     },
     "execution_count": 155,
     "metadata": {},
     "output_type": "execute_result"
    }
   ],
   "source": [
    "X_test\n"
   ]
  },
  {
   "cell_type": "code",
   "execution_count": 157,
   "id": "60e87d43-b7a2-44d8-ad0f-57c2477faca6",
   "metadata": {
    "tags": []
   },
   "outputs": [
    {
     "data": {
      "text/plain": [
       "array([ 90. ,  49.9,  80. , ...,  19.8, 112.6,  67.8])"
      ]
     },
     "execution_count": 157,
     "metadata": {},
     "output_type": "execute_result"
    }
   ],
   "source": [
    "predicted"
   ]
  },
  {
   "cell_type": "code",
   "execution_count": 159,
   "id": "5d680b51-a596-4eaf-bd62-24fe12c46c8b",
   "metadata": {
    "tags": []
   },
   "outputs": [
    {
     "data": {
      "text/plain": [
       "54.99040830879203"
      ]
     },
     "execution_count": 159,
     "metadata": {},
     "output_type": "execute_result"
    }
   ],
   "source": [
    "mean_squared_error(predicted, y_test) ** 0.5"
   ]
  },
  {
   "cell_type": "markdown",
   "id": "e065a515-a7ff-4502-9a3c-d76004a1df56",
   "metadata": {},
   "source": []
  }
 ],
 "metadata": {
  "kernelspec": {
   "display_name": "Python 3 (ipykernel)",
   "language": "python",
   "name": "python3"
  },
  "language_info": {
   "codemirror_mode": {
    "name": "ipython",
    "version": 3
   },
   "file_extension": ".py",
   "mimetype": "text/x-python",
   "name": "python",
   "nbconvert_exporter": "python",
   "pygments_lexer": "ipython3",
   "version": "3.9.16"
  }
 },
 "nbformat": 4,
 "nbformat_minor": 5
}
