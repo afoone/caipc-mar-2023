{
 "cells": [
  {
   "cell_type": "markdown",
   "id": "9d93a29f-100e-40b8-b489-888f73f142f7",
   "metadata": {},
   "source": [
    "# Evaluación del rendimiento\n",
    "\n",
    "Dividir el dataframe en dos particiones:\n",
    "\n",
    "- El conjunto de entrenamiento (75%- 80%)\n",
    "- El conjunto de test (20% - 25%)\n",
    "\n",
    "La intesección entre test y train es vacía\n",
    "\n",
    " Buscamos los k-vecinos más cercanos de cada uno de los elementos de test dentro del conjunto de entrenamiento, comparamos los resultados (tenemos el real) y así tenemos una medida de la 'bondad' de esta predicción.\n",
    " \n",
    " \n",
    "\n",
    "\n",
    "\n"
   ]
  },
  {
   "cell_type": "code",
   "execution_count": 1,
   "id": "36e67a7e-1439-4039-b3c9-a4430a966895",
   "metadata": {
    "tags": []
   },
   "outputs": [],
   "source": [
    "import pandas as pd\n",
    "import numpy as np\n",
    "import math"
   ]
  },
  {
   "cell_type": "code",
   "execution_count": 2,
   "id": "55796967-00df-4195-89fe-83896074fc48",
   "metadata": {
    "tags": []
   },
   "outputs": [],
   "source": [
    "valencia = pd.read_csv('https://raw.githubusercontent.com/afoone/caipc-mar-2023/master/data/airbnb.csv')\n",
    "\n"
   ]
  },
  {
   "cell_type": "code",
   "execution_count": null,
   "id": "680a47ae-d84d-4530-a247-c7230fbdc24e",
   "metadata": {
    "tags": []
   },
   "outputs": [],
   "source": []
  },
  {
   "cell_type": "code",
   "execution_count": 3,
   "id": "f7fe7a0e-3f86-49a6-8cc9-aca1d9855a59",
   "metadata": {
    "tags": []
   },
   "outputs": [],
   "source": [
    "## limpiar los datos\n",
    "\n",
    "# corregir el price (tiene $ y no es numérico)\n",
    "valencia['price'] = valencia['price'].apply(lambda x: x.replace('$', '').replace(',', '')).astype('float')\n",
    "\n",
    "valencia = valencia[valencia['price']<700]"
   ]
  },
  {
   "cell_type": "code",
   "execution_count": 4,
   "id": "7c126fbb-09ee-444c-937b-01b3d3670e89",
   "metadata": {
    "tags": []
   },
   "outputs": [],
   "source": [
    "# barajar\n",
    "\n",
    "np.random.seed(3837980)\n",
    "valencia = valencia.iloc[\n",
    "    np.random.permutation(len(valencia))\n",
    "]"
   ]
  },
  {
   "cell_type": "code",
   "execution_count": 5,
   "id": "1112faa5-7c0d-42a2-bba7-3aac1c4f2696",
   "metadata": {
    "tags": []
   },
   "outputs": [],
   "source": [
    "# tenemos que crear un dataframe de train (80%) y uno de test (20%)\n",
    "\n",
    "corte = math.trunc(len(valencia)*0.8)"
   ]
  },
  {
   "cell_type": "code",
   "execution_count": 6,
   "id": "f37fd45a-4ae7-4ac4-9862-460e923fd71b",
   "metadata": {
    "tags": []
   },
   "outputs": [],
   "source": [
    "train = valencia.iloc[:corte].copy()"
   ]
  },
  {
   "cell_type": "code",
   "execution_count": 7,
   "id": "33cedcd4-3996-451c-a8a9-b0bfef2f4f08",
   "metadata": {
    "tags": []
   },
   "outputs": [],
   "source": [
    "test = valencia.iloc[corte:].copy()"
   ]
  },
  {
   "cell_type": "code",
   "execution_count": 8,
   "id": "6ec5fa7f-132b-44c6-b6ce-a02a30460128",
   "metadata": {
    "tags": []
   },
   "outputs": [
    {
     "data": {
      "text/plain": [
       "(5194, 75)"
      ]
     },
     "execution_count": 8,
     "metadata": {},
     "output_type": "execute_result"
    }
   ],
   "source": [
    "train.shape"
   ]
  },
  {
   "cell_type": "code",
   "execution_count": 9,
   "id": "c43b4128-8d90-4f59-bc2c-5c52d5b8e54e",
   "metadata": {
    "tags": []
   },
   "outputs": [
    {
     "data": {
      "text/plain": [
       "(1299, 75)"
      ]
     },
     "execution_count": 9,
     "metadata": {},
     "output_type": "execute_result"
    }
   ],
   "source": [
    "test.shape"
   ]
  },
  {
   "cell_type": "code",
   "execution_count": 10,
   "id": "e372ac7f-1033-47fb-b498-cc6a725eacff",
   "metadata": {
    "tags": []
   },
   "outputs": [],
   "source": [
    "def predict_price(df, mi_capacidad, k = 5):\n",
    "    _df = df.copy()\n",
    "    _df['distancia'] = _df['accommodates'].apply(\n",
    "        lambda x: np.abs(mi_capacidad - x)\n",
    "    )\n",
    "    return _df.sort_values('distancia').iloc[0:k]['price'].mean()"
   ]
  },
  {
   "cell_type": "code",
   "execution_count": 11,
   "id": "1f59842c-3270-485d-a04f-90d6c29d216f",
   "metadata": {
    "tags": []
   },
   "outputs": [],
   "source": [
    "test['predicted_price'] = test['accommodates'].apply(\n",
    "    lambda x: predict_price(valencia, x)\n",
    ")"
   ]
  },
  {
   "cell_type": "code",
   "execution_count": 12,
   "id": "db1739de-3933-4208-af95-c43a0b12de66",
   "metadata": {
    "tags": []
   },
   "outputs": [
    {
     "data": {
      "text/plain": [
       "6747006"
      ]
     },
     "execution_count": 12,
     "metadata": {},
     "output_type": "execute_result"
    }
   ],
   "source": [
    "train.shape[0]*test.shape[0]"
   ]
  },
  {
   "cell_type": "code",
   "execution_count": 13,
   "id": "676d72db-8c36-440a-ab96-fc999c8e08f0",
   "metadata": {
    "tags": []
   },
   "outputs": [
    {
     "data": {
      "text/html": [
       "<div>\n",
       "<style scoped>\n",
       "    .dataframe tbody tr th:only-of-type {\n",
       "        vertical-align: middle;\n",
       "    }\n",
       "\n",
       "    .dataframe tbody tr th {\n",
       "        vertical-align: top;\n",
       "    }\n",
       "\n",
       "    .dataframe thead th {\n",
       "        text-align: right;\n",
       "    }\n",
       "</style>\n",
       "<table border=\"1\" class=\"dataframe\">\n",
       "  <thead>\n",
       "    <tr style=\"text-align: right;\">\n",
       "      <th></th>\n",
       "      <th>predicted_price</th>\n",
       "      <th>price</th>\n",
       "    </tr>\n",
       "  </thead>\n",
       "  <tbody>\n",
       "    <tr>\n",
       "      <th>3530</th>\n",
       "      <td>78.6</td>\n",
       "      <td>125.0</td>\n",
       "    </tr>\n",
       "    <tr>\n",
       "      <th>234</th>\n",
       "      <td>78.6</td>\n",
       "      <td>63.0</td>\n",
       "    </tr>\n",
       "    <tr>\n",
       "      <th>3945</th>\n",
       "      <td>32.6</td>\n",
       "      <td>40.0</td>\n",
       "    </tr>\n",
       "    <tr>\n",
       "      <th>6462</th>\n",
       "      <td>78.6</td>\n",
       "      <td>142.0</td>\n",
       "    </tr>\n",
       "    <tr>\n",
       "      <th>5006</th>\n",
       "      <td>115.4</td>\n",
       "      <td>158.0</td>\n",
       "    </tr>\n",
       "    <tr>\n",
       "      <th>...</th>\n",
       "      <td>...</td>\n",
       "      <td>...</td>\n",
       "    </tr>\n",
       "    <tr>\n",
       "      <th>5882</th>\n",
       "      <td>32.6</td>\n",
       "      <td>70.0</td>\n",
       "    </tr>\n",
       "    <tr>\n",
       "      <th>2961</th>\n",
       "      <td>66.8</td>\n",
       "      <td>21.0</td>\n",
       "    </tr>\n",
       "    <tr>\n",
       "      <th>1550</th>\n",
       "      <td>115.4</td>\n",
       "      <td>86.0</td>\n",
       "    </tr>\n",
       "    <tr>\n",
       "      <th>2312</th>\n",
       "      <td>32.6</td>\n",
       "      <td>34.0</td>\n",
       "    </tr>\n",
       "    <tr>\n",
       "      <th>2287</th>\n",
       "      <td>32.6</td>\n",
       "      <td>39.0</td>\n",
       "    </tr>\n",
       "  </tbody>\n",
       "</table>\n",
       "<p>1299 rows × 2 columns</p>\n",
       "</div>"
      ],
      "text/plain": [
       "      predicted_price  price\n",
       "3530             78.6  125.0\n",
       "234              78.6   63.0\n",
       "3945             32.6   40.0\n",
       "6462             78.6  142.0\n",
       "5006            115.4  158.0\n",
       "...               ...    ...\n",
       "5882             32.6   70.0\n",
       "2961             66.8   21.0\n",
       "1550            115.4   86.0\n",
       "2312             32.6   34.0\n",
       "2287             32.6   39.0\n",
       "\n",
       "[1299 rows x 2 columns]"
      ]
     },
     "execution_count": 13,
     "metadata": {},
     "output_type": "execute_result"
    }
   ],
   "source": [
    "test[['predicted_price', 'price']]"
   ]
  },
  {
   "cell_type": "code",
   "execution_count": 22,
   "id": "0cb47fe5-11b5-470a-8eb7-41b7625dd239",
   "metadata": {
    "tags": []
   },
   "outputs": [
    {
     "data": {
      "text/plain": [
       "-16.241707467282527"
      ]
     },
     "execution_count": 22,
     "metadata": {},
     "output_type": "execute_result"
    }
   ],
   "source": [
    "(test['predicted_price']-test['price']).mean() # este valor no es bueno, compensa los negativos con los positivos"
   ]
  },
  {
   "cell_type": "code",
   "execution_count": 15,
   "id": "982fdaa7-a618-438b-8e60-b90a9d774cf8",
   "metadata": {
    "tags": []
   },
   "outputs": [
    {
     "data": {
      "text/plain": [
       "39.49682678983834"
      ]
     },
     "execution_count": 15,
     "metadata": {},
     "output_type": "execute_result"
    }
   ],
   "source": [
    "(np.abs((test['predicted_price']-test['price']))).mean()"
   ]
  },
  {
   "cell_type": "code",
   "execution_count": null,
   "id": "2865b95f-b273-406b-94e5-cd73cb2ef304",
   "metadata": {},
   "outputs": [],
   "source": []
  },
  {
   "cell_type": "code",
   "execution_count": 27,
   "id": "76610008-30c5-421e-af37-8f09a2f0114f",
   "metadata": {
    "tags": []
   },
   "outputs": [
    {
     "data": {
      "text/html": [
       "<div>\n",
       "<style scoped>\n",
       "    .dataframe tbody tr th:only-of-type {\n",
       "        vertical-align: middle;\n",
       "    }\n",
       "\n",
       "    .dataframe tbody tr th {\n",
       "        vertical-align: top;\n",
       "    }\n",
       "\n",
       "    .dataframe thead th {\n",
       "        text-align: right;\n",
       "    }\n",
       "</style>\n",
       "<table border=\"1\" class=\"dataframe\">\n",
       "  <thead>\n",
       "    <tr style=\"text-align: right;\">\n",
       "      <th></th>\n",
       "      <th>id</th>\n",
       "      <th>listing_url</th>\n",
       "      <th>scrape_id</th>\n",
       "      <th>last_scraped</th>\n",
       "      <th>source</th>\n",
       "      <th>name</th>\n",
       "      <th>description</th>\n",
       "      <th>neighborhood_overview</th>\n",
       "      <th>picture_url</th>\n",
       "      <th>host_id</th>\n",
       "      <th>...</th>\n",
       "      <th>review_scores_communication</th>\n",
       "      <th>review_scores_location</th>\n",
       "      <th>review_scores_value</th>\n",
       "      <th>license</th>\n",
       "      <th>instant_bookable</th>\n",
       "      <th>calculated_host_listings_count</th>\n",
       "      <th>calculated_host_listings_count_entire_homes</th>\n",
       "      <th>calculated_host_listings_count_private_rooms</th>\n",
       "      <th>calculated_host_listings_count_shared_rooms</th>\n",
       "      <th>reviews_per_month</th>\n",
       "    </tr>\n",
       "  </thead>\n",
       "  <tbody>\n",
       "    <tr>\n",
       "      <th>5076</th>\n",
       "      <td>648255583817027558</td>\n",
       "      <td>https://www.airbnb.com/rooms/648255583817027558</td>\n",
       "      <td>20221221170335</td>\n",
       "      <td>2022-12-21</td>\n",
       "      <td>previous scrape</td>\n",
       "      <td>Nice Studio close to the Ciudad de las Artes y...</td>\n",
       "      <td>Our accommodation is based around an innovativ...</td>\n",
       "      <td>Valencia’s famous attraction, The City of Arts...</td>\n",
       "      <td>https://a0.muscache.com/pictures/prohost-api/H...</td>\n",
       "      <td>129230780</td>\n",
       "      <td>...</td>\n",
       "      <td>NaN</td>\n",
       "      <td>NaN</td>\n",
       "      <td>NaN</td>\n",
       "      <td>NaN</td>\n",
       "      <td>f</td>\n",
       "      <td>93</td>\n",
       "      <td>93</td>\n",
       "      <td>0</td>\n",
       "      <td>0</td>\n",
       "      <td>NaN</td>\n",
       "    </tr>\n",
       "    <tr>\n",
       "      <th>5147</th>\n",
       "      <td>648809313549112407</td>\n",
       "      <td>https://www.airbnb.com/rooms/648809313549112407</td>\n",
       "      <td>20221221170335</td>\n",
       "      <td>2022-12-21</td>\n",
       "      <td>previous scrape</td>\n",
       "      <td>Nice Studio close to the Ciudad de las Artes y...</td>\n",
       "      <td>Our accommodation is based around an innovativ...</td>\n",
       "      <td>Valencia’s famous attraction, The City of Arts...</td>\n",
       "      <td>https://a0.muscache.com/pictures/prohost-api/H...</td>\n",
       "      <td>129230780</td>\n",
       "      <td>...</td>\n",
       "      <td>NaN</td>\n",
       "      <td>NaN</td>\n",
       "      <td>NaN</td>\n",
       "      <td>NaN</td>\n",
       "      <td>f</td>\n",
       "      <td>93</td>\n",
       "      <td>93</td>\n",
       "      <td>0</td>\n",
       "      <td>0</td>\n",
       "      <td>NaN</td>\n",
       "    </tr>\n",
       "    <tr>\n",
       "      <th>5090</th>\n",
       "      <td>648348424299859963</td>\n",
       "      <td>https://www.airbnb.com/rooms/648348424299859963</td>\n",
       "      <td>20221221170335</td>\n",
       "      <td>2022-12-21</td>\n",
       "      <td>previous scrape</td>\n",
       "      <td>Nice Studio close to the Ciudad de las Artes y...</td>\n",
       "      <td>Our accommodation is based around an innovativ...</td>\n",
       "      <td>Valencia’s famous attraction, The City of Arts...</td>\n",
       "      <td>https://a0.muscache.com/pictures/prohost-api/H...</td>\n",
       "      <td>129230780</td>\n",
       "      <td>...</td>\n",
       "      <td>NaN</td>\n",
       "      <td>NaN</td>\n",
       "      <td>NaN</td>\n",
       "      <td>NaN</td>\n",
       "      <td>f</td>\n",
       "      <td>93</td>\n",
       "      <td>93</td>\n",
       "      <td>0</td>\n",
       "      <td>0</td>\n",
       "      <td>NaN</td>\n",
       "    </tr>\n",
       "    <tr>\n",
       "      <th>5069</th>\n",
       "      <td>648247685615181497</td>\n",
       "      <td>https://www.airbnb.com/rooms/648247685615181497</td>\n",
       "      <td>20221221170335</td>\n",
       "      <td>2022-12-22</td>\n",
       "      <td>previous scrape</td>\n",
       "      <td>Nice Studio close to the Ciudad de las Artes y...</td>\n",
       "      <td>Our accommodation is based around an innovativ...</td>\n",
       "      <td>Valencia’s famous attraction, The City of Arts...</td>\n",
       "      <td>https://a0.muscache.com/pictures/prohost-api/H...</td>\n",
       "      <td>129230780</td>\n",
       "      <td>...</td>\n",
       "      <td>5.0</td>\n",
       "      <td>4.5</td>\n",
       "      <td>5.0</td>\n",
       "      <td>NaN</td>\n",
       "      <td>f</td>\n",
       "      <td>93</td>\n",
       "      <td>93</td>\n",
       "      <td>0</td>\n",
       "      <td>0</td>\n",
       "      <td>0.45</td>\n",
       "    </tr>\n",
       "    <tr>\n",
       "      <th>5134</th>\n",
       "      <td>648426745255991424</td>\n",
       "      <td>https://www.airbnb.com/rooms/648426745255991424</td>\n",
       "      <td>20221221170335</td>\n",
       "      <td>2022-12-21</td>\n",
       "      <td>previous scrape</td>\n",
       "      <td>Nice Studio close to the Ciudad de las Artes y...</td>\n",
       "      <td>Our accommodation is based around an innovativ...</td>\n",
       "      <td>Valencia’s famous attraction, The City of Arts...</td>\n",
       "      <td>https://a0.muscache.com/pictures/prohost-api/H...</td>\n",
       "      <td>129230780</td>\n",
       "      <td>...</td>\n",
       "      <td>NaN</td>\n",
       "      <td>NaN</td>\n",
       "      <td>NaN</td>\n",
       "      <td>NaN</td>\n",
       "      <td>f</td>\n",
       "      <td>93</td>\n",
       "      <td>93</td>\n",
       "      <td>0</td>\n",
       "      <td>0</td>\n",
       "      <td>NaN</td>\n",
       "    </tr>\n",
       "    <tr>\n",
       "      <th>...</th>\n",
       "      <td>...</td>\n",
       "      <td>...</td>\n",
       "      <td>...</td>\n",
       "      <td>...</td>\n",
       "      <td>...</td>\n",
       "      <td>...</td>\n",
       "      <td>...</td>\n",
       "      <td>...</td>\n",
       "      <td>...</td>\n",
       "      <td>...</td>\n",
       "      <td>...</td>\n",
       "      <td>...</td>\n",
       "      <td>...</td>\n",
       "      <td>...</td>\n",
       "      <td>...</td>\n",
       "      <td>...</td>\n",
       "      <td>...</td>\n",
       "      <td>...</td>\n",
       "      <td>...</td>\n",
       "      <td>...</td>\n",
       "      <td>...</td>\n",
       "    </tr>\n",
       "    <tr>\n",
       "      <th>5152</th>\n",
       "      <td>648812332449803467</td>\n",
       "      <td>https://www.airbnb.com/rooms/648812332449803467</td>\n",
       "      <td>20221221170335</td>\n",
       "      <td>2022-12-21</td>\n",
       "      <td>previous scrape</td>\n",
       "      <td>Nice Studio close to the Ciudad de las Artes y...</td>\n",
       "      <td>Our accommodation is based around an innovativ...</td>\n",
       "      <td>Valencia’s famous attraction, The City of Arts...</td>\n",
       "      <td>https://a0.muscache.com/pictures/prohost-api/H...</td>\n",
       "      <td>129230780</td>\n",
       "      <td>...</td>\n",
       "      <td>5.0</td>\n",
       "      <td>4.0</td>\n",
       "      <td>5.0</td>\n",
       "      <td>NaN</td>\n",
       "      <td>f</td>\n",
       "      <td>93</td>\n",
       "      <td>93</td>\n",
       "      <td>0</td>\n",
       "      <td>0</td>\n",
       "      <td>0.20</td>\n",
       "    </tr>\n",
       "    <tr>\n",
       "      <th>5064</th>\n",
       "      <td>648243584412460160</td>\n",
       "      <td>https://www.airbnb.com/rooms/648243584412460160</td>\n",
       "      <td>20221221170335</td>\n",
       "      <td>2022-12-21</td>\n",
       "      <td>previous scrape</td>\n",
       "      <td>Nice Studio close to the Ciudad de las Artes y...</td>\n",
       "      <td>Our accommodation is based around an innovativ...</td>\n",
       "      <td>Valencia’s famous attraction, The City of Arts...</td>\n",
       "      <td>https://a0.muscache.com/pictures/prohost-api/H...</td>\n",
       "      <td>129230780</td>\n",
       "      <td>...</td>\n",
       "      <td>NaN</td>\n",
       "      <td>NaN</td>\n",
       "      <td>NaN</td>\n",
       "      <td>NaN</td>\n",
       "      <td>f</td>\n",
       "      <td>93</td>\n",
       "      <td>93</td>\n",
       "      <td>0</td>\n",
       "      <td>0</td>\n",
       "      <td>NaN</td>\n",
       "    </tr>\n",
       "    <tr>\n",
       "      <th>5141</th>\n",
       "      <td>648430772591629131</td>\n",
       "      <td>https://www.airbnb.com/rooms/648430772591629131</td>\n",
       "      <td>20221221170335</td>\n",
       "      <td>2022-12-21</td>\n",
       "      <td>previous scrape</td>\n",
       "      <td>Nice Studio close to the Ciudad de las Artes y...</td>\n",
       "      <td>Our accommodation is based around an innovativ...</td>\n",
       "      <td>Valencia’s famous attraction, The City of Arts...</td>\n",
       "      <td>https://a0.muscache.com/pictures/prohost-api/H...</td>\n",
       "      <td>129230780</td>\n",
       "      <td>...</td>\n",
       "      <td>3.0</td>\n",
       "      <td>4.0</td>\n",
       "      <td>4.0</td>\n",
       "      <td>NaN</td>\n",
       "      <td>f</td>\n",
       "      <td>93</td>\n",
       "      <td>93</td>\n",
       "      <td>0</td>\n",
       "      <td>0</td>\n",
       "      <td>0.21</td>\n",
       "    </tr>\n",
       "    <tr>\n",
       "      <th>5203</th>\n",
       "      <td>649003049999248376</td>\n",
       "      <td>https://www.airbnb.com/rooms/649003049999248376</td>\n",
       "      <td>20221221170335</td>\n",
       "      <td>2022-12-21</td>\n",
       "      <td>previous scrape</td>\n",
       "      <td>Nice Studio close to the Ciudad de las Artes y...</td>\n",
       "      <td>Our accommodation is based around an innovativ...</td>\n",
       "      <td>Valencia’s famous attraction, The City of Arts...</td>\n",
       "      <td>https://a0.muscache.com/pictures/prohost-api/H...</td>\n",
       "      <td>258154594</td>\n",
       "      <td>...</td>\n",
       "      <td>NaN</td>\n",
       "      <td>NaN</td>\n",
       "      <td>NaN</td>\n",
       "      <td>NaN</td>\n",
       "      <td>f</td>\n",
       "      <td>68</td>\n",
       "      <td>68</td>\n",
       "      <td>0</td>\n",
       "      <td>0</td>\n",
       "      <td>NaN</td>\n",
       "    </tr>\n",
       "    <tr>\n",
       "      <th>5166</th>\n",
       "      <td>648822711787590932</td>\n",
       "      <td>https://www.airbnb.com/rooms/648822711787590932</td>\n",
       "      <td>20221221170335</td>\n",
       "      <td>2022-12-21</td>\n",
       "      <td>previous scrape</td>\n",
       "      <td>Nice Studio close to the Ciudad de las Artes y...</td>\n",
       "      <td>Our accommodation is based around an innovativ...</td>\n",
       "      <td>Valencia’s famous attraction, The City of Arts...</td>\n",
       "      <td>https://a0.muscache.com/pictures/prohost-api/H...</td>\n",
       "      <td>129230780</td>\n",
       "      <td>...</td>\n",
       "      <td>4.0</td>\n",
       "      <td>4.0</td>\n",
       "      <td>4.0</td>\n",
       "      <td>NaN</td>\n",
       "      <td>f</td>\n",
       "      <td>93</td>\n",
       "      <td>93</td>\n",
       "      <td>0</td>\n",
       "      <td>0</td>\n",
       "      <td>0.38</td>\n",
       "    </tr>\n",
       "  </tbody>\n",
       "</table>\n",
       "<p>139 rows × 75 columns</p>\n",
       "</div>"
      ],
      "text/plain": [
       "                      id                                      listing_url  \\\n",
       "5076  648255583817027558  https://www.airbnb.com/rooms/648255583817027558   \n",
       "5147  648809313549112407  https://www.airbnb.com/rooms/648809313549112407   \n",
       "5090  648348424299859963  https://www.airbnb.com/rooms/648348424299859963   \n",
       "5069  648247685615181497  https://www.airbnb.com/rooms/648247685615181497   \n",
       "5134  648426745255991424  https://www.airbnb.com/rooms/648426745255991424   \n",
       "...                  ...                                              ...   \n",
       "5152  648812332449803467  https://www.airbnb.com/rooms/648812332449803467   \n",
       "5064  648243584412460160  https://www.airbnb.com/rooms/648243584412460160   \n",
       "5141  648430772591629131  https://www.airbnb.com/rooms/648430772591629131   \n",
       "5203  649003049999248376  https://www.airbnb.com/rooms/649003049999248376   \n",
       "5166  648822711787590932  https://www.airbnb.com/rooms/648822711787590932   \n",
       "\n",
       "           scrape_id last_scraped           source  \\\n",
       "5076  20221221170335   2022-12-21  previous scrape   \n",
       "5147  20221221170335   2022-12-21  previous scrape   \n",
       "5090  20221221170335   2022-12-21  previous scrape   \n",
       "5069  20221221170335   2022-12-22  previous scrape   \n",
       "5134  20221221170335   2022-12-21  previous scrape   \n",
       "...              ...          ...              ...   \n",
       "5152  20221221170335   2022-12-21  previous scrape   \n",
       "5064  20221221170335   2022-12-21  previous scrape   \n",
       "5141  20221221170335   2022-12-21  previous scrape   \n",
       "5203  20221221170335   2022-12-21  previous scrape   \n",
       "5166  20221221170335   2022-12-21  previous scrape   \n",
       "\n",
       "                                                   name  \\\n",
       "5076  Nice Studio close to the Ciudad de las Artes y...   \n",
       "5147  Nice Studio close to the Ciudad de las Artes y...   \n",
       "5090  Nice Studio close to the Ciudad de las Artes y...   \n",
       "5069  Nice Studio close to the Ciudad de las Artes y...   \n",
       "5134  Nice Studio close to the Ciudad de las Artes y...   \n",
       "...                                                 ...   \n",
       "5152  Nice Studio close to the Ciudad de las Artes y...   \n",
       "5064  Nice Studio close to the Ciudad de las Artes y...   \n",
       "5141  Nice Studio close to the Ciudad de las Artes y...   \n",
       "5203  Nice Studio close to the Ciudad de las Artes y...   \n",
       "5166  Nice Studio close to the Ciudad de las Artes y...   \n",
       "\n",
       "                                            description  \\\n",
       "5076  Our accommodation is based around an innovativ...   \n",
       "5147  Our accommodation is based around an innovativ...   \n",
       "5090  Our accommodation is based around an innovativ...   \n",
       "5069  Our accommodation is based around an innovativ...   \n",
       "5134  Our accommodation is based around an innovativ...   \n",
       "...                                                 ...   \n",
       "5152  Our accommodation is based around an innovativ...   \n",
       "5064  Our accommodation is based around an innovativ...   \n",
       "5141  Our accommodation is based around an innovativ...   \n",
       "5203  Our accommodation is based around an innovativ...   \n",
       "5166  Our accommodation is based around an innovativ...   \n",
       "\n",
       "                                  neighborhood_overview  \\\n",
       "5076  Valencia’s famous attraction, The City of Arts...   \n",
       "5147  Valencia’s famous attraction, The City of Arts...   \n",
       "5090  Valencia’s famous attraction, The City of Arts...   \n",
       "5069  Valencia’s famous attraction, The City of Arts...   \n",
       "5134  Valencia’s famous attraction, The City of Arts...   \n",
       "...                                                 ...   \n",
       "5152  Valencia’s famous attraction, The City of Arts...   \n",
       "5064  Valencia’s famous attraction, The City of Arts...   \n",
       "5141  Valencia’s famous attraction, The City of Arts...   \n",
       "5203  Valencia’s famous attraction, The City of Arts...   \n",
       "5166  Valencia’s famous attraction, The City of Arts...   \n",
       "\n",
       "                                            picture_url    host_id  ...  \\\n",
       "5076  https://a0.muscache.com/pictures/prohost-api/H...  129230780  ...   \n",
       "5147  https://a0.muscache.com/pictures/prohost-api/H...  129230780  ...   \n",
       "5090  https://a0.muscache.com/pictures/prohost-api/H...  129230780  ...   \n",
       "5069  https://a0.muscache.com/pictures/prohost-api/H...  129230780  ...   \n",
       "5134  https://a0.muscache.com/pictures/prohost-api/H...  129230780  ...   \n",
       "...                                                 ...        ...  ...   \n",
       "5152  https://a0.muscache.com/pictures/prohost-api/H...  129230780  ...   \n",
       "5064  https://a0.muscache.com/pictures/prohost-api/H...  129230780  ...   \n",
       "5141  https://a0.muscache.com/pictures/prohost-api/H...  129230780  ...   \n",
       "5203  https://a0.muscache.com/pictures/prohost-api/H...  258154594  ...   \n",
       "5166  https://a0.muscache.com/pictures/prohost-api/H...  129230780  ...   \n",
       "\n",
       "     review_scores_communication review_scores_location review_scores_value  \\\n",
       "5076                         NaN                    NaN                 NaN   \n",
       "5147                         NaN                    NaN                 NaN   \n",
       "5090                         NaN                    NaN                 NaN   \n",
       "5069                         5.0                    4.5                 5.0   \n",
       "5134                         NaN                    NaN                 NaN   \n",
       "...                          ...                    ...                 ...   \n",
       "5152                         5.0                    4.0                 5.0   \n",
       "5064                         NaN                    NaN                 NaN   \n",
       "5141                         3.0                    4.0                 4.0   \n",
       "5203                         NaN                    NaN                 NaN   \n",
       "5166                         4.0                    4.0                 4.0   \n",
       "\n",
       "     license instant_bookable calculated_host_listings_count  \\\n",
       "5076     NaN                f                             93   \n",
       "5147     NaN                f                             93   \n",
       "5090     NaN                f                             93   \n",
       "5069     NaN                f                             93   \n",
       "5134     NaN                f                             93   \n",
       "...      ...              ...                            ...   \n",
       "5152     NaN                f                             93   \n",
       "5064     NaN                f                             93   \n",
       "5141     NaN                f                             93   \n",
       "5203     NaN                f                             68   \n",
       "5166     NaN                f                             93   \n",
       "\n",
       "     calculated_host_listings_count_entire_homes  \\\n",
       "5076                                          93   \n",
       "5147                                          93   \n",
       "5090                                          93   \n",
       "5069                                          93   \n",
       "5134                                          93   \n",
       "...                                          ...   \n",
       "5152                                          93   \n",
       "5064                                          93   \n",
       "5141                                          93   \n",
       "5203                                          68   \n",
       "5166                                          93   \n",
       "\n",
       "     calculated_host_listings_count_private_rooms  \\\n",
       "5076                                            0   \n",
       "5147                                            0   \n",
       "5090                                            0   \n",
       "5069                                            0   \n",
       "5134                                            0   \n",
       "...                                           ...   \n",
       "5152                                            0   \n",
       "5064                                            0   \n",
       "5141                                            0   \n",
       "5203                                            0   \n",
       "5166                                            0   \n",
       "\n",
       "     calculated_host_listings_count_shared_rooms reviews_per_month  \n",
       "5076                                           0               NaN  \n",
       "5147                                           0               NaN  \n",
       "5090                                           0               NaN  \n",
       "5069                                           0              0.45  \n",
       "5134                                           0               NaN  \n",
       "...                                          ...               ...  \n",
       "5152                                           0              0.20  \n",
       "5064                                           0               NaN  \n",
       "5141                                           0              0.21  \n",
       "5203                                           0               NaN  \n",
       "5166                                           0              0.38  \n",
       "\n",
       "[139 rows x 75 columns]"
      ]
     },
     "execution_count": 27,
     "metadata": {},
     "output_type": "execute_result"
    }
   ],
   "source": [
    "valencia[(valencia['price'] > 1000)* (valencia['accommodates']==1)]"
   ]
  },
  {
   "cell_type": "markdown",
   "id": "02469612-5dc0-4ce5-aae1-3d5545165351",
   "metadata": {},
   "source": [
    "### MAE - Medium absolute error"
   ]
  },
  {
   "cell_type": "code",
   "execution_count": 25,
   "id": "63787790-f073-4e08-ae62-f1c1166517fd",
   "metadata": {
    "tags": []
   },
   "outputs": [],
   "source": [
    "mae_accommodates = (np.abs((test['predicted_price']-test['price']))).mean() #mae = medium absolute error"
   ]
  },
  {
   "cell_type": "code",
   "execution_count": 26,
   "id": "f0c69f6c-0731-4328-90d9-0ae8ebb509a7",
   "metadata": {
    "tags": []
   },
   "outputs": [
    {
     "name": "stdout",
     "output_type": "stream",
     "text": [
      "<class 'pandas.core.frame.DataFrame'>\n",
      "Int64Index: 6493 entries, 5738 to 2287\n",
      "Data columns (total 75 columns):\n",
      " #   Column                                        Non-Null Count  Dtype  \n",
      "---  ------                                        --------------  -----  \n",
      " 0   id                                            6493 non-null   int64  \n",
      " 1   listing_url                                   6493 non-null   object \n",
      " 2   scrape_id                                     6493 non-null   int64  \n",
      " 3   last_scraped                                  6493 non-null   object \n",
      " 4   source                                        6493 non-null   object \n",
      " 5   name                                          6493 non-null   object \n",
      " 6   description                                   6341 non-null   object \n",
      " 7   neighborhood_overview                         3567 non-null   object \n",
      " 8   picture_url                                   6493 non-null   object \n",
      " 9   host_id                                       6493 non-null   int64  \n",
      " 10  host_url                                      6493 non-null   object \n",
      " 11  host_name                                     6493 non-null   object \n",
      " 12  host_since                                    6493 non-null   object \n",
      " 13  host_location                                 4810 non-null   object \n",
      " 14  host_about                                    3360 non-null   object \n",
      " 15  host_response_time                            5730 non-null   object \n",
      " 16  host_response_rate                            5730 non-null   object \n",
      " 17  host_acceptance_rate                          6195 non-null   object \n",
      " 18  host_is_superhost                             6493 non-null   object \n",
      " 19  host_thumbnail_url                            6493 non-null   object \n",
      " 20  host_picture_url                              6493 non-null   object \n",
      " 21  host_neighbourhood                            2447 non-null   object \n",
      " 22  host_listings_count                           6493 non-null   int64  \n",
      " 23  host_total_listings_count                     6493 non-null   int64  \n",
      " 24  host_verifications                            6493 non-null   object \n",
      " 25  host_has_profile_pic                          6493 non-null   object \n",
      " 26  host_identity_verified                        6493 non-null   object \n",
      " 27  neighbourhood                                 3567 non-null   object \n",
      " 28  neighbourhood_cleansed                        6493 non-null   object \n",
      " 29  neighbourhood_group_cleansed                  6493 non-null   object \n",
      " 30  latitude                                      6493 non-null   float64\n",
      " 31  longitude                                     6493 non-null   float64\n",
      " 32  property_type                                 6493 non-null   object \n",
      " 33  room_type                                     6493 non-null   object \n",
      " 34  accommodates                                  6493 non-null   int64  \n",
      " 35  bathrooms                                     0 non-null      float64\n",
      " 36  bathrooms_text                                6489 non-null   object \n",
      " 37  bedrooms                                      6183 non-null   float64\n",
      " 38  beds                                          6424 non-null   float64\n",
      " 39  amenities                                     6493 non-null   object \n",
      " 40  price                                         6493 non-null   float64\n",
      " 41  minimum_nights                                6493 non-null   int64  \n",
      " 42  maximum_nights                                6493 non-null   int64  \n",
      " 43  minimum_minimum_nights                        6493 non-null   int64  \n",
      " 44  maximum_minimum_nights                        6493 non-null   int64  \n",
      " 45  minimum_maximum_nights                        6493 non-null   int64  \n",
      " 46  maximum_maximum_nights                        6493 non-null   int64  \n",
      " 47  minimum_nights_avg_ntm                        6493 non-null   float64\n",
      " 48  maximum_nights_avg_ntm                        6493 non-null   float64\n",
      " 49  calendar_updated                              0 non-null      float64\n",
      " 50  has_availability                              6493 non-null   object \n",
      " 51  availability_30                               6493 non-null   int64  \n",
      " 52  availability_60                               6493 non-null   int64  \n",
      " 53  availability_90                               6493 non-null   int64  \n",
      " 54  availability_365                              6493 non-null   int64  \n",
      " 55  calendar_last_scraped                         6493 non-null   object \n",
      " 56  number_of_reviews                             6493 non-null   int64  \n",
      " 57  number_of_reviews_ltm                         6493 non-null   int64  \n",
      " 58  number_of_reviews_l30d                        6493 non-null   int64  \n",
      " 59  first_review                                  5783 non-null   object \n",
      " 60  last_review                                   5783 non-null   object \n",
      " 61  review_scores_rating                          5783 non-null   float64\n",
      " 62  review_scores_accuracy                        5772 non-null   float64\n",
      " 63  review_scores_cleanliness                     5772 non-null   float64\n",
      " 64  review_scores_checkin                         5772 non-null   float64\n",
      " 65  review_scores_communication                   5772 non-null   float64\n",
      " 66  review_scores_location                        5772 non-null   float64\n",
      " 67  review_scores_value                           5772 non-null   float64\n",
      " 68  license                                       1878 non-null   object \n",
      " 69  instant_bookable                              6493 non-null   object \n",
      " 70  calculated_host_listings_count                6493 non-null   int64  \n",
      " 71  calculated_host_listings_count_entire_homes   6493 non-null   int64  \n",
      " 72  calculated_host_listings_count_private_rooms  6493 non-null   int64  \n",
      " 73  calculated_host_listings_count_shared_rooms   6493 non-null   int64  \n",
      " 74  reviews_per_month                             5783 non-null   float64\n",
      "dtypes: float64(17), int64(23), object(35)\n",
      "memory usage: 3.8+ MB\n"
     ]
    }
   ],
   "source": [
    "valencia.info()"
   ]
  },
  {
   "cell_type": "code",
   "execution_count": 27,
   "id": "fc08aaa2-5c7a-46f1-acaf-bae8e6a0fd4f",
   "metadata": {
    "tags": []
   },
   "outputs": [],
   "source": [
    "def predict_price_dorms(df, mi_capacidad, k = 5):\n",
    "    _df = df.copy()\n",
    "    _df['distancia'] = _df['bedrooms'].apply(\n",
    "        lambda x: np.abs(mi_capacidad - x)\n",
    "    )\n",
    "    return _df.sort_values('distancia').iloc[0:k]['price'].mean()"
   ]
  },
  {
   "cell_type": "code",
   "execution_count": 28,
   "id": "5be729b8-783e-4537-844f-26cba90619a0",
   "metadata": {
    "tags": []
   },
   "outputs": [],
   "source": [
    "test['predicted_price_dorms'] = test['bedrooms'].apply(\n",
    "    lambda x: predict_price_dorms(valencia, x)\n",
    ")"
   ]
  },
  {
   "cell_type": "code",
   "execution_count": 31,
   "id": "39581c70-3aff-4029-ac3e-015d638a6fb6",
   "metadata": {
    "tags": []
   },
   "outputs": [],
   "source": [
    "mae_bedrooms = (\n",
    "    np.abs(\n",
    "        test['price'] - test['predicted_price_dorms']\n",
    "    )\n",
    ").mean()"
   ]
  },
  {
   "cell_type": "code",
   "execution_count": 32,
   "id": "34076964-df03-4dff-a51e-69a5cd558557",
   "metadata": {
    "tags": []
   },
   "outputs": [
    {
     "data": {
      "text/plain": [
       "45.99919168591224"
      ]
     },
     "execution_count": 32,
     "metadata": {},
     "output_type": "execute_result"
    }
   ],
   "source": [
    "mae_bedrooms\n"
   ]
  },
  {
   "cell_type": "code",
   "execution_count": 33,
   "id": "37db86b8-847f-45ab-a18f-26133c223206",
   "metadata": {
    "tags": []
   },
   "outputs": [
    {
     "data": {
      "text/plain": [
       "39.49682678983834"
      ]
     },
     "execution_count": 33,
     "metadata": {},
     "output_type": "execute_result"
    }
   ],
   "source": [
    "mae"
   ]
  },
  {
   "cell_type": "code",
   "execution_count": 34,
   "id": "f6f02d99-71e1-413d-b8eb-93f281ac3dce",
   "metadata": {
    "tags": []
   },
   "outputs": [
    {
     "data": {
      "text/html": [
       "<div>\n",
       "<style scoped>\n",
       "    .dataframe tbody tr th:only-of-type {\n",
       "        vertical-align: middle;\n",
       "    }\n",
       "\n",
       "    .dataframe tbody tr th {\n",
       "        vertical-align: top;\n",
       "    }\n",
       "\n",
       "    .dataframe thead th {\n",
       "        text-align: right;\n",
       "    }\n",
       "</style>\n",
       "<table border=\"1\" class=\"dataframe\">\n",
       "  <thead>\n",
       "    <tr style=\"text-align: right;\">\n",
       "      <th></th>\n",
       "      <th>price</th>\n",
       "      <th>predicted_price</th>\n",
       "      <th>predicted_price_dorms</th>\n",
       "    </tr>\n",
       "  </thead>\n",
       "  <tbody>\n",
       "    <tr>\n",
       "      <th>3530</th>\n",
       "      <td>125.0</td>\n",
       "      <td>78.6</td>\n",
       "      <td>110.6</td>\n",
       "    </tr>\n",
       "    <tr>\n",
       "      <th>234</th>\n",
       "      <td>63.0</td>\n",
       "      <td>78.6</td>\n",
       "      <td>50.4</td>\n",
       "    </tr>\n",
       "    <tr>\n",
       "      <th>3945</th>\n",
       "      <td>40.0</td>\n",
       "      <td>32.6</td>\n",
       "      <td>50.4</td>\n",
       "    </tr>\n",
       "    <tr>\n",
       "      <th>6462</th>\n",
       "      <td>142.0</td>\n",
       "      <td>78.6</td>\n",
       "      <td>110.6</td>\n",
       "    </tr>\n",
       "    <tr>\n",
       "      <th>5006</th>\n",
       "      <td>158.0</td>\n",
       "      <td>115.4</td>\n",
       "      <td>174.4</td>\n",
       "    </tr>\n",
       "    <tr>\n",
       "      <th>...</th>\n",
       "      <td>...</td>\n",
       "      <td>...</td>\n",
       "      <td>...</td>\n",
       "    </tr>\n",
       "    <tr>\n",
       "      <th>5882</th>\n",
       "      <td>70.0</td>\n",
       "      <td>32.6</td>\n",
       "      <td>81.4</td>\n",
       "    </tr>\n",
       "    <tr>\n",
       "      <th>2961</th>\n",
       "      <td>21.0</td>\n",
       "      <td>66.8</td>\n",
       "      <td>50.4</td>\n",
       "    </tr>\n",
       "    <tr>\n",
       "      <th>1550</th>\n",
       "      <td>86.0</td>\n",
       "      <td>115.4</td>\n",
       "      <td>174.4</td>\n",
       "    </tr>\n",
       "    <tr>\n",
       "      <th>2312</th>\n",
       "      <td>34.0</td>\n",
       "      <td>32.6</td>\n",
       "      <td>50.4</td>\n",
       "    </tr>\n",
       "    <tr>\n",
       "      <th>2287</th>\n",
       "      <td>39.0</td>\n",
       "      <td>32.6</td>\n",
       "      <td>81.4</td>\n",
       "    </tr>\n",
       "  </tbody>\n",
       "</table>\n",
       "<p>1299 rows × 3 columns</p>\n",
       "</div>"
      ],
      "text/plain": [
       "      price  predicted_price  predicted_price_dorms\n",
       "3530  125.0             78.6                  110.6\n",
       "234    63.0             78.6                   50.4\n",
       "3945   40.0             32.6                   50.4\n",
       "6462  142.0             78.6                  110.6\n",
       "5006  158.0            115.4                  174.4\n",
       "...     ...              ...                    ...\n",
       "5882   70.0             32.6                   81.4\n",
       "2961   21.0             66.8                   50.4\n",
       "1550   86.0            115.4                  174.4\n",
       "2312   34.0             32.6                   50.4\n",
       "2287   39.0             32.6                   81.4\n",
       "\n",
       "[1299 rows x 3 columns]"
      ]
     },
     "execution_count": 34,
     "metadata": {},
     "output_type": "execute_result"
    }
   ],
   "source": [
    "test[['price', 'predicted_price', 'predicted_price_dorms']]"
   ]
  },
  {
   "cell_type": "markdown",
   "id": "174af71d-a9bb-43df-8036-e34ac6971dc9",
   "metadata": {},
   "source": [
    "### MSE Medium square root - Error al cuadrado medio"
   ]
  },
  {
   "cell_type": "code",
   "execution_count": 35,
   "id": "ddc63dae-e20e-49b7-a24a-baae5a36dd4a",
   "metadata": {
    "tags": []
   },
   "outputs": [],
   "source": [
    "mse_accommodates = (\n",
    "    (\n",
    "        test['predicted_price']-test['price']\n",
    "    )**2\n",
    ").mean()"
   ]
  },
  {
   "cell_type": "code",
   "execution_count": 36,
   "id": "aeff9cbb-102d-4d1e-a418-6a7d82aa76cc",
   "metadata": {
    "tags": []
   },
   "outputs": [
    {
     "data": {
      "text/plain": [
       "3764.898092443418"
      ]
     },
     "execution_count": 36,
     "metadata": {},
     "output_type": "execute_result"
    }
   ],
   "source": [
    "mse_accommodates"
   ]
  },
  {
   "cell_type": "markdown",
   "id": "5b7c559d-a83a-4b8c-b8d5-5d4af76b25cd",
   "metadata": {},
   "source": [
    "# RMSE Root of MSE\n",
    "\n",
    "Acercarse al mae, desde un punto de vista 'humano', una estimación mas visible de 'cuantos euros suele separarse del valor real'\n",
    "\n",
    "\n"
   ]
  },
  {
   "cell_type": "code",
   "execution_count": 37,
   "id": "b5c20226-9714-455e-8352-56c711d04ac0",
   "metadata": {
    "tags": []
   },
   "outputs": [],
   "source": [
    "rmse_accommodates = mse_accommodates ** 0.5"
   ]
  },
  {
   "cell_type": "code",
   "execution_count": 38,
   "id": "65e09c65-af87-4816-a018-1af892532a42",
   "metadata": {
    "tags": []
   },
   "outputs": [
    {
     "data": {
      "text/plain": [
       "61.35876540840288"
      ]
     },
     "execution_count": 38,
     "metadata": {},
     "output_type": "execute_result"
    }
   ],
   "source": [
    "rmse_accommodates "
   ]
  },
  {
   "cell_type": "code",
   "execution_count": 39,
   "id": "d30a383d-a9be-4c56-b1f2-ed59958340da",
   "metadata": {
    "tags": []
   },
   "outputs": [],
   "source": [
    "rmse_bedrooms = (\n",
    "    (\n",
    "        test['predicted_price_dorms'] - test['price']\n",
    "    )**2\n",
    ").mean()**0.5"
   ]
  },
  {
   "cell_type": "code",
   "execution_count": 40,
   "id": "11cedf30-124f-4284-8990-032011647ef1",
   "metadata": {
    "tags": []
   },
   "outputs": [
    {
     "data": {
      "text/plain": [
       "66.80637000243489"
      ]
     },
     "execution_count": 40,
     "metadata": {},
     "output_type": "execute_result"
    }
   ],
   "source": [
    "rmse_bedrooms\n"
   ]
  },
  {
   "cell_type": "markdown",
   "id": "c4ce5973-f511-45b5-bf07-f3fab2e16dd4",
   "metadata": {},
   "source": [
    "Diferencias entre MAE y RMSE"
   ]
  },
  {
   "cell_type": "code",
   "execution_count": 64,
   "id": "9d1697d0-da0e-4f11-bfc0-d7219e36e9ba",
   "metadata": {
    "tags": []
   },
   "outputs": [],
   "source": [
    "diferencias_uno = pd.Series(\n",
    "    [5,10,5,10,5,10,5,10,5,10,5,10]\n",
    ")\n",
    "\n",
    "diferencias_dos = pd.Series(\n",
    "    [0,0,0,0,0,0,0,0,0,75]\n",
    ")"
   ]
  },
  {
   "cell_type": "code",
   "execution_count": 65,
   "id": "f1e0f053-d19b-4945-bfdc-11487bd39fc0",
   "metadata": {
    "tags": []
   },
   "outputs": [
    {
     "data": {
      "text/plain": [
       "7.5"
      ]
     },
     "execution_count": 65,
     "metadata": {},
     "output_type": "execute_result"
    }
   ],
   "source": [
    "# mae 1\n",
    "diferencias_uno.sum() / len(diferencias_uno)"
   ]
  },
  {
   "cell_type": "code",
   "execution_count": 66,
   "id": "a5577214-4ae6-4ffb-b239-a960f888ba26",
   "metadata": {
    "tags": []
   },
   "outputs": [
    {
     "data": {
      "text/plain": [
       "7.5"
      ]
     },
     "execution_count": 66,
     "metadata": {},
     "output_type": "execute_result"
    }
   ],
   "source": [
    "# mae 2\n",
    "diferencias_dos.sum() / len(diferencias_dos)"
   ]
  },
  {
   "cell_type": "code",
   "execution_count": 67,
   "id": "6998a469-67c3-440c-a511-9ee575b591eb",
   "metadata": {
    "tags": []
   },
   "outputs": [
    {
     "data": {
      "text/plain": [
       "7.905694150420948"
      ]
     },
     "execution_count": 67,
     "metadata": {},
     "output_type": "execute_result"
    }
   ],
   "source": [
    "#rmse 1\n",
    "\n",
    "((\n",
    "    diferencias_uno**2\n",
    ").sum()  / len(diferencias_uno) )**0.5"
   ]
  },
  {
   "cell_type": "code",
   "execution_count": 68,
   "id": "1f7300ae-3ea1-4dbf-83a2-5a99158f1059",
   "metadata": {
    "tags": []
   },
   "outputs": [
    {
     "data": {
      "text/plain": [
       "23.717082451262844"
      ]
     },
     "execution_count": 68,
     "metadata": {},
     "output_type": "execute_result"
    }
   ],
   "source": [
    "# rmse 2\n",
    "((\n",
    "    diferencias_dos**2\n",
    ").sum()  / len(diferencias_dos) )**0.5"
   ]
  },
  {
   "cell_type": "code",
   "execution_count": null,
   "id": "9b2d4210-620c-4ec0-8b1d-b7fcb3611d31",
   "metadata": {
    "tags": []
   },
   "outputs": [],
   "source": []
  },
  {
   "cell_type": "code",
   "execution_count": null,
   "id": "b3f97e92-5a62-4198-b4a9-be038c579e3b",
   "metadata": {},
   "outputs": [],
   "source": []
  }
 ],
 "metadata": {
  "kernelspec": {
   "display_name": "Python 3 (ipykernel)",
   "language": "python",
   "name": "python3"
  },
  "language_info": {
   "codemirror_mode": {
    "name": "ipython",
    "version": 3
   },
   "file_extension": ".py",
   "mimetype": "text/x-python",
   "name": "python",
   "nbconvert_exporter": "python",
   "pygments_lexer": "ipython3",
   "version": "3.9.16"
  }
 },
 "nbformat": 4,
 "nbformat_minor": 5
}
