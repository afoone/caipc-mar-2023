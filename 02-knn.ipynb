{
 "cells": [
  {
   "cell_type": "code",
   "execution_count": 1,
   "id": "04cc1ded-e348-47cd-9f6c-a2ccae62dd66",
   "metadata": {
    "tags": []
   },
   "outputs": [],
   "source": [
    "import pandas as pd\n",
    "import numpy as np"
   ]
  },
  {
   "cell_type": "code",
   "execution_count": 2,
   "id": "5318e0b7-13ea-4b2c-99ae-18a6e6063e67",
   "metadata": {
    "tags": []
   },
   "outputs": [],
   "source": [
    "valencia = pd.read_csv('https://raw.githubusercontent.com/afoone/caipc-mar-2023/master/data/airbnb.csv')"
   ]
  },
  {
   "cell_type": "code",
   "execution_count": 3,
   "id": "1bd4bf28-0521-437d-a544-de9e74c48d50",
   "metadata": {
    "tags": []
   },
   "outputs": [
    {
     "data": {
      "text/html": [
       "<div>\n",
       "<style scoped>\n",
       "    .dataframe tbody tr th:only-of-type {\n",
       "        vertical-align: middle;\n",
       "    }\n",
       "\n",
       "    .dataframe tbody tr th {\n",
       "        vertical-align: top;\n",
       "    }\n",
       "\n",
       "    .dataframe thead th {\n",
       "        text-align: right;\n",
       "    }\n",
       "</style>\n",
       "<table border=\"1\" class=\"dataframe\">\n",
       "  <thead>\n",
       "    <tr style=\"text-align: right;\">\n",
       "      <th></th>\n",
       "      <th>id</th>\n",
       "      <th>listing_url</th>\n",
       "      <th>scrape_id</th>\n",
       "      <th>last_scraped</th>\n",
       "      <th>source</th>\n",
       "      <th>name</th>\n",
       "      <th>description</th>\n",
       "      <th>neighborhood_overview</th>\n",
       "      <th>picture_url</th>\n",
       "      <th>host_id</th>\n",
       "      <th>...</th>\n",
       "      <th>review_scores_communication</th>\n",
       "      <th>review_scores_location</th>\n",
       "      <th>review_scores_value</th>\n",
       "      <th>license</th>\n",
       "      <th>instant_bookable</th>\n",
       "      <th>calculated_host_listings_count</th>\n",
       "      <th>calculated_host_listings_count_entire_homes</th>\n",
       "      <th>calculated_host_listings_count_private_rooms</th>\n",
       "      <th>calculated_host_listings_count_shared_rooms</th>\n",
       "      <th>reviews_per_month</th>\n",
       "    </tr>\n",
       "  </thead>\n",
       "  <tbody>\n",
       "    <tr>\n",
       "      <th>0</th>\n",
       "      <td>55692</td>\n",
       "      <td>https://www.airbnb.com/rooms/55692</td>\n",
       "      <td>20221221170335</td>\n",
       "      <td>2022-12-22</td>\n",
       "      <td>previous scrape</td>\n",
       "      <td>Delight in city center</td>\n",
       "      <td>A great place to stay and visit Valencia.&lt;br /...</td>\n",
       "      <td>NaN</td>\n",
       "      <td>https://a0.muscache.com/pictures/329316/a5d6a7...</td>\n",
       "      <td>120649</td>\n",
       "      <td>...</td>\n",
       "      <td>5.00</td>\n",
       "      <td>5.00</td>\n",
       "      <td>5.00</td>\n",
       "      <td>NaN</td>\n",
       "      <td>f</td>\n",
       "      <td>1</td>\n",
       "      <td>1</td>\n",
       "      <td>0</td>\n",
       "      <td>0</td>\n",
       "      <td>0.01</td>\n",
       "    </tr>\n",
       "    <tr>\n",
       "      <th>1</th>\n",
       "      <td>95393</td>\n",
       "      <td>https://www.airbnb.com/rooms/95393</td>\n",
       "      <td>20221221170335</td>\n",
       "      <td>2022-12-21</td>\n",
       "      <td>city scrape</td>\n",
       "      <td>Modern and bright Duplex 3 Bedrooms Center Wi-Fi</td>\n",
       "      <td>This is \"Edificio Palomar Apartments\", I will ...</td>\n",
       "      <td>It is just 10 min walking distance to the Cath...</td>\n",
       "      <td>https://a0.muscache.com/pictures/931683/64aebc...</td>\n",
       "      <td>508042</td>\n",
       "      <td>...</td>\n",
       "      <td>4.77</td>\n",
       "      <td>4.76</td>\n",
       "      <td>4.68</td>\n",
       "      <td>31815</td>\n",
       "      <td>f</td>\n",
       "      <td>5</td>\n",
       "      <td>5</td>\n",
       "      <td>0</td>\n",
       "      <td>0</td>\n",
       "      <td>0.77</td>\n",
       "    </tr>\n",
       "    <tr>\n",
       "      <th>2</th>\n",
       "      <td>100347</td>\n",
       "      <td>https://www.airbnb.com/rooms/100347</td>\n",
       "      <td>20221221170335</td>\n",
       "      <td>2022-12-22</td>\n",
       "      <td>previous scrape</td>\n",
       "      <td>3BDR full Home at Sorolla station and Metro Jesús</td>\n",
       "      <td>Te va a encantar mi espacio por la ubicación y...</td>\n",
       "      <td>Barrio de Jesús, cercano al centro, zona conso...</td>\n",
       "      <td>https://a0.muscache.com/pictures/b0bb18e8-1f24...</td>\n",
       "      <td>1451371</td>\n",
       "      <td>...</td>\n",
       "      <td>4.90</td>\n",
       "      <td>4.80</td>\n",
       "      <td>4.65</td>\n",
       "      <td>NaN</td>\n",
       "      <td>f</td>\n",
       "      <td>1</td>\n",
       "      <td>1</td>\n",
       "      <td>0</td>\n",
       "      <td>0</td>\n",
       "      <td>2.20</td>\n",
       "    </tr>\n",
       "    <tr>\n",
       "      <th>3</th>\n",
       "      <td>102524</td>\n",
       "      <td>https://www.airbnb.com/rooms/102524</td>\n",
       "      <td>20221221170335</td>\n",
       "      <td>2022-12-21</td>\n",
       "      <td>city scrape</td>\n",
       "      <td>EXCLUSIVE VILLA WITH POOL &amp; 5 SUITES ON THE BEACH</td>\n",
       "      <td>DO NOT PARTY OR STAG/HEN PARTIES! THE RESERVAT...</td>\n",
       "      <td>Best restaurantes bars and clubs and chill out...</td>\n",
       "      <td>https://a0.muscache.com/pictures/d2019707-1596...</td>\n",
       "      <td>535881</td>\n",
       "      <td>...</td>\n",
       "      <td>4.63</td>\n",
       "      <td>4.80</td>\n",
       "      <td>4.33</td>\n",
       "      <td>VT-36438-V</td>\n",
       "      <td>f</td>\n",
       "      <td>6</td>\n",
       "      <td>5</td>\n",
       "      <td>1</td>\n",
       "      <td>0</td>\n",
       "      <td>1.31</td>\n",
       "    </tr>\n",
       "    <tr>\n",
       "      <th>4</th>\n",
       "      <td>103386</td>\n",
       "      <td>https://www.airbnb.com/rooms/103386</td>\n",
       "      <td>20221221170335</td>\n",
       "      <td>2022-12-21</td>\n",
       "      <td>city scrape</td>\n",
       "      <td>Central 2 Bedrooms, 3/5 pers. Wi-Fi</td>\n",
       "      <td>This is \"Edificio Palomar Apartments\", I will ...</td>\n",
       "      <td>It is just 10 min walking distance to the Cath...</td>\n",
       "      <td>https://a0.muscache.com/pictures/44403436/e2a9...</td>\n",
       "      <td>508042</td>\n",
       "      <td>...</td>\n",
       "      <td>4.69</td>\n",
       "      <td>4.75</td>\n",
       "      <td>4.88</td>\n",
       "      <td>31813</td>\n",
       "      <td>f</td>\n",
       "      <td>5</td>\n",
       "      <td>5</td>\n",
       "      <td>0</td>\n",
       "      <td>0</td>\n",
       "      <td>0.12</td>\n",
       "    </tr>\n",
       "  </tbody>\n",
       "</table>\n",
       "<p>5 rows × 75 columns</p>\n",
       "</div>"
      ],
      "text/plain": [
       "       id                          listing_url       scrape_id last_scraped  \\\n",
       "0   55692   https://www.airbnb.com/rooms/55692  20221221170335   2022-12-22   \n",
       "1   95393   https://www.airbnb.com/rooms/95393  20221221170335   2022-12-21   \n",
       "2  100347  https://www.airbnb.com/rooms/100347  20221221170335   2022-12-22   \n",
       "3  102524  https://www.airbnb.com/rooms/102524  20221221170335   2022-12-21   \n",
       "4  103386  https://www.airbnb.com/rooms/103386  20221221170335   2022-12-21   \n",
       "\n",
       "            source                                               name  \\\n",
       "0  previous scrape                             Delight in city center   \n",
       "1      city scrape   Modern and bright Duplex 3 Bedrooms Center Wi-Fi   \n",
       "2  previous scrape  3BDR full Home at Sorolla station and Metro Jesús   \n",
       "3      city scrape  EXCLUSIVE VILLA WITH POOL & 5 SUITES ON THE BEACH   \n",
       "4      city scrape                Central 2 Bedrooms, 3/5 pers. Wi-Fi   \n",
       "\n",
       "                                         description  \\\n",
       "0  A great place to stay and visit Valencia.<br /...   \n",
       "1  This is \"Edificio Palomar Apartments\", I will ...   \n",
       "2  Te va a encantar mi espacio por la ubicación y...   \n",
       "3  DO NOT PARTY OR STAG/HEN PARTIES! THE RESERVAT...   \n",
       "4  This is \"Edificio Palomar Apartments\", I will ...   \n",
       "\n",
       "                               neighborhood_overview  \\\n",
       "0                                                NaN   \n",
       "1  It is just 10 min walking distance to the Cath...   \n",
       "2  Barrio de Jesús, cercano al centro, zona conso...   \n",
       "3  Best restaurantes bars and clubs and chill out...   \n",
       "4  It is just 10 min walking distance to the Cath...   \n",
       "\n",
       "                                         picture_url  host_id  ...  \\\n",
       "0  https://a0.muscache.com/pictures/329316/a5d6a7...   120649  ...   \n",
       "1  https://a0.muscache.com/pictures/931683/64aebc...   508042  ...   \n",
       "2  https://a0.muscache.com/pictures/b0bb18e8-1f24...  1451371  ...   \n",
       "3  https://a0.muscache.com/pictures/d2019707-1596...   535881  ...   \n",
       "4  https://a0.muscache.com/pictures/44403436/e2a9...   508042  ...   \n",
       "\n",
       "  review_scores_communication review_scores_location review_scores_value  \\\n",
       "0                        5.00                   5.00                5.00   \n",
       "1                        4.77                   4.76                4.68   \n",
       "2                        4.90                   4.80                4.65   \n",
       "3                        4.63                   4.80                4.33   \n",
       "4                        4.69                   4.75                4.88   \n",
       "\n",
       "      license instant_bookable calculated_host_listings_count  \\\n",
       "0         NaN                f                              1   \n",
       "1       31815                f                              5   \n",
       "2         NaN                f                              1   \n",
       "3  VT-36438-V                f                              6   \n",
       "4       31813                f                              5   \n",
       "\n",
       "  calculated_host_listings_count_entire_homes  \\\n",
       "0                                           1   \n",
       "1                                           5   \n",
       "2                                           1   \n",
       "3                                           5   \n",
       "4                                           5   \n",
       "\n",
       "  calculated_host_listings_count_private_rooms  \\\n",
       "0                                            0   \n",
       "1                                            0   \n",
       "2                                            0   \n",
       "3                                            1   \n",
       "4                                            0   \n",
       "\n",
       "  calculated_host_listings_count_shared_rooms reviews_per_month  \n",
       "0                                           0              0.01  \n",
       "1                                           0              0.77  \n",
       "2                                           0              2.20  \n",
       "3                                           0              1.31  \n",
       "4                                           0              0.12  \n",
       "\n",
       "[5 rows x 75 columns]"
      ]
     },
     "execution_count": 3,
     "metadata": {},
     "output_type": "execute_result"
    }
   ],
   "source": [
    "valencia.head()"
   ]
  },
  {
   "cell_type": "code",
   "execution_count": 4,
   "id": "0fda1218-239e-4c1c-9434-83c480e34105",
   "metadata": {
    "tags": []
   },
   "outputs": [
    {
     "data": {
      "text/plain": [
       "(6711, 75)"
      ]
     },
     "execution_count": 4,
     "metadata": {},
     "output_type": "execute_result"
    }
   ],
   "source": [
    "valencia.shape"
   ]
  },
  {
   "cell_type": "code",
   "execution_count": 5,
   "id": "aa4cae42-064c-42ce-8da2-45048d6f1e1a",
   "metadata": {
    "tags": []
   },
   "outputs": [
    {
     "data": {
      "text/plain": [
       "Index(['id', 'listing_url', 'scrape_id', 'last_scraped', 'source', 'name',\n",
       "       'description', 'neighborhood_overview', 'picture_url', 'host_id',\n",
       "       'host_url', 'host_name', 'host_since', 'host_location', 'host_about',\n",
       "       'host_response_time', 'host_response_rate', 'host_acceptance_rate',\n",
       "       'host_is_superhost', 'host_thumbnail_url', 'host_picture_url',\n",
       "       'host_neighbourhood', 'host_listings_count',\n",
       "       'host_total_listings_count', 'host_verifications',\n",
       "       'host_has_profile_pic', 'host_identity_verified', 'neighbourhood',\n",
       "       'neighbourhood_cleansed', 'neighbourhood_group_cleansed', 'latitude',\n",
       "       'longitude', 'property_type', 'room_type', 'accommodates', 'bathrooms',\n",
       "       'bathrooms_text', 'bedrooms', 'beds', 'amenities', 'price',\n",
       "       'minimum_nights', 'maximum_nights', 'minimum_minimum_nights',\n",
       "       'maximum_minimum_nights', 'minimum_maximum_nights',\n",
       "       'maximum_maximum_nights', 'minimum_nights_avg_ntm',\n",
       "       'maximum_nights_avg_ntm', 'calendar_updated', 'has_availability',\n",
       "       'availability_30', 'availability_60', 'availability_90',\n",
       "       'availability_365', 'calendar_last_scraped', 'number_of_reviews',\n",
       "       'number_of_reviews_ltm', 'number_of_reviews_l30d', 'first_review',\n",
       "       'last_review', 'review_scores_rating', 'review_scores_accuracy',\n",
       "       'review_scores_cleanliness', 'review_scores_checkin',\n",
       "       'review_scores_communication', 'review_scores_location',\n",
       "       'review_scores_value', 'license', 'instant_bookable',\n",
       "       'calculated_host_listings_count',\n",
       "       'calculated_host_listings_count_entire_homes',\n",
       "       'calculated_host_listings_count_private_rooms',\n",
       "       'calculated_host_listings_count_shared_rooms', 'reviews_per_month'],\n",
       "      dtype='object')"
      ]
     },
     "execution_count": 5,
     "metadata": {},
     "output_type": "execute_result"
    }
   ],
   "source": [
    "valencia.columns"
   ]
  },
  {
   "cell_type": "code",
   "execution_count": 6,
   "id": "32cee4c3-064f-4605-b4ee-daff51e8517a",
   "metadata": {
    "tags": []
   },
   "outputs": [
    {
     "data": {
      "text/plain": [
       "0       $100.00\n",
       "1       $142.00\n",
       "2       $141.00\n",
       "3       $350.00\n",
       "4        $94.00\n",
       "         ...   \n",
       "6706     $29.00\n",
       "6707     $25.00\n",
       "6708     $40.00\n",
       "6709     $70.00\n",
       "6710     $45.00\n",
       "Name: price, Length: 6711, dtype: object"
      ]
     },
     "execution_count": 6,
     "metadata": {},
     "output_type": "execute_result"
    }
   ],
   "source": [
    "valencia['price']"
   ]
  },
  {
   "cell_type": "code",
   "execution_count": 7,
   "id": "db08d2f0-1196-4592-9917-d72c471f5bfe",
   "metadata": {
    "tags": []
   },
   "outputs": [
    {
     "data": {
      "text/plain": [
       "0       [\"Hair dryer\", \"TV\", \"Paid parking on premises...\n",
       "1       [\"Long term stays allowed\", \"Cooking basics\", ...\n",
       "2       [\"Long term stays allowed\", \"Cooking basics\", ...\n",
       "3       [\"Books and reading material\", \"Backyard\", \"Lo...\n",
       "4       [\"Long term stays allowed\", \"Cooking basics\", ...\n",
       "                              ...                        \n",
       "6706    [\"Microwave\", \"Hair dryer\", \"TV\", \"Bed linens\"...\n",
       "6707    [\"Books and reading material\", \"Coffee\", \"Long...\n",
       "6708    [\"Books and reading material\", \"Long term stay...\n",
       "6709    [\"Long term stays allowed\", \"Paid parking on p...\n",
       "6710    [\"Books and reading material\", \"Long term stay...\n",
       "Name: amenities, Length: 6711, dtype: object"
      ]
     },
     "execution_count": 7,
     "metadata": {},
     "output_type": "execute_result"
    }
   ],
   "source": [
    "valencia['amenities']"
   ]
  },
  {
   "cell_type": "code",
   "execution_count": 8,
   "id": "58be7212-ccb9-4acd-a70c-e5dfce11bfcf",
   "metadata": {
    "tags": []
   },
   "outputs": [
    {
     "data": {
      "text/plain": [
       "0        3\n",
       "1        6\n",
       "2        6\n",
       "3       15\n",
       "4        5\n",
       "        ..\n",
       "6706     2\n",
       "6707     1\n",
       "6708     1\n",
       "6709     3\n",
       "6710     1\n",
       "Name: accommodates, Length: 6711, dtype: int64"
      ]
     },
     "execution_count": 8,
     "metadata": {},
     "output_type": "execute_result"
    }
   ],
   "source": [
    "valencia['accommodates']"
   ]
  },
  {
   "cell_type": "code",
   "execution_count": 9,
   "id": "fb428317-67e6-4c24-bf9d-198dc04e52c4",
   "metadata": {
    "tags": []
   },
   "outputs": [
    {
     "data": {
      "text/plain": [
       "id                                                                           55692\n",
       "listing_url                                     https://www.airbnb.com/rooms/55692\n",
       "scrape_id                                                           20221221170335\n",
       "last_scraped                                                            2022-12-22\n",
       "source                                                             previous scrape\n",
       "                                                               ...                \n",
       "calculated_host_listings_count                                                   1\n",
       "calculated_host_listings_count_entire_homes                                      1\n",
       "calculated_host_listings_count_private_rooms                                     0\n",
       "calculated_host_listings_count_shared_rooms                                      0\n",
       "reviews_per_month                                                             0.01\n",
       "Name: 0, Length: 75, dtype: object"
      ]
     },
     "execution_count": 9,
     "metadata": {},
     "output_type": "execute_result"
    }
   ],
   "source": [
    "valencia.iloc[0]"
   ]
  },
  {
   "cell_type": "markdown",
   "id": "3b2a27cb-9111-4519-8459-7c356b496aa0",
   "metadata": {},
   "source": [
    "# Objetivo: \n",
    "\n",
    "Tenemos un apartamento en la plaza de Tetuán de 4 personas, con dos habitaciones.\n",
    "\n",
    "- Buscar alojamientos similares (primero con una variable - número de personas)\n",
    "- Cogeremos los k primeros de la lista, ordenada por similitud\n",
    "- Calcularemos la media de los k primeros \n",
    "\n",
    "Este será nuestro precio objetivo; la predicción.\n",
    "\n",
    "- número de personas - variable predictora\n",
    "- precio - variable objetivo\n",
    "- Similaridad ¿Cuando son similares? -> distancia euclidea...."
   ]
  },
  {
   "cell_type": "code",
   "execution_count": 14,
   "id": "243cca6b-4e0e-4da6-b177-81fbf5324ae0",
   "metadata": {
    "tags": []
   },
   "outputs": [
    {
     "data": {
      "text/plain": [
       "1"
      ]
     },
     "execution_count": 14,
     "metadata": {},
     "output_type": "execute_result"
    }
   ],
   "source": [
    "#- variable predictora - npersonas (acommodates) \n",
    "\n",
    "nuestra_capacidad = 4\n",
    "primer_elemento = valencia.iloc[0]\n",
    "distancia_con_el_primer_elemento = np.abs( nuestra_capacidad - primer_elemento['accommodates'])\n",
    "distancia_con_el_primer_elemento\n",
    "\n"
   ]
  },
  {
   "cell_type": "code",
   "execution_count": 16,
   "id": "6fbc2828-318d-4037-b0c1-19d901f1f4e1",
   "metadata": {
    "tags": []
   },
   "outputs": [
    {
     "data": {
      "text/plain": [
       "11"
      ]
     },
     "execution_count": 16,
     "metadata": {},
     "output_type": "execute_result"
    }
   ],
   "source": [
    "np.abs(nuestra_capacidad - valencia.iloc[3]['accommodates'])"
   ]
  },
  {
   "cell_type": "code",
   "execution_count": 17,
   "id": "9a8661fc-45ef-431d-8702-a48b9b98a2c1",
   "metadata": {
    "tags": []
   },
   "outputs": [
    {
     "data": {
      "text/plain": [
       "3"
      ]
     },
     "execution_count": 17,
     "metadata": {},
     "output_type": "execute_result"
    }
   ],
   "source": [
    "primer_elemento['accommodates']"
   ]
  },
  {
   "cell_type": "code",
   "execution_count": 18,
   "id": "7b8893a7-86e4-4661-b6ea-ded6426604db",
   "metadata": {
    "tags": []
   },
   "outputs": [],
   "source": [
    "todas_las_distancias = valencia['accommodates'].apply(\n",
    "    lambda x: np.abs(nuestra_capacidad - x)\n",
    ")"
   ]
  },
  {
   "cell_type": "code",
   "execution_count": 19,
   "id": "3875e30b-1d8b-4631-adf6-f16e220ec431",
   "metadata": {
    "tags": []
   },
   "outputs": [
    {
     "data": {
      "text/plain": [
       "0        1\n",
       "1        2\n",
       "2        2\n",
       "3       11\n",
       "4        1\n",
       "        ..\n",
       "6706     2\n",
       "6707     3\n",
       "6708     3\n",
       "6709     1\n",
       "6710     3\n",
       "Name: accommodates, Length: 6711, dtype: int64"
      ]
     },
     "execution_count": 19,
     "metadata": {},
     "output_type": "execute_result"
    }
   ],
   "source": [
    "todas_las_distancias"
   ]
  },
  {
   "cell_type": "code",
   "execution_count": 20,
   "id": "b4a76180-1b26-468e-91c5-f52b3bf9abc2",
   "metadata": {
    "tags": []
   },
   "outputs": [],
   "source": [
    "valencia['distancia'] = todas_las_distancias"
   ]
  },
  {
   "cell_type": "code",
   "execution_count": 22,
   "id": "815a4d48-96f5-4e5a-b4a7-7407629b7e34",
   "metadata": {
    "tags": []
   },
   "outputs": [
    {
     "data": {
      "text/html": [
       "<div>\n",
       "<style scoped>\n",
       "    .dataframe tbody tr th:only-of-type {\n",
       "        vertical-align: middle;\n",
       "    }\n",
       "\n",
       "    .dataframe tbody tr th {\n",
       "        vertical-align: top;\n",
       "    }\n",
       "\n",
       "    .dataframe thead th {\n",
       "        text-align: right;\n",
       "    }\n",
       "</style>\n",
       "<table border=\"1\" class=\"dataframe\">\n",
       "  <thead>\n",
       "    <tr style=\"text-align: right;\">\n",
       "      <th></th>\n",
       "      <th>name</th>\n",
       "      <th>distancia</th>\n",
       "      <th>price</th>\n",
       "    </tr>\n",
       "  </thead>\n",
       "  <tbody>\n",
       "    <tr>\n",
       "      <th>0</th>\n",
       "      <td>Delight in city center</td>\n",
       "      <td>1</td>\n",
       "      <td>$100.00</td>\n",
       "    </tr>\n",
       "    <tr>\n",
       "      <th>1</th>\n",
       "      <td>Modern and bright Duplex 3 Bedrooms Center Wi-Fi</td>\n",
       "      <td>2</td>\n",
       "      <td>$142.00</td>\n",
       "    </tr>\n",
       "    <tr>\n",
       "      <th>2</th>\n",
       "      <td>3BDR full Home at Sorolla station and Metro Jesús</td>\n",
       "      <td>2</td>\n",
       "      <td>$141.00</td>\n",
       "    </tr>\n",
       "    <tr>\n",
       "      <th>3</th>\n",
       "      <td>EXCLUSIVE VILLA WITH POOL &amp; 5 SUITES ON THE BEACH</td>\n",
       "      <td>11</td>\n",
       "      <td>$350.00</td>\n",
       "    </tr>\n",
       "    <tr>\n",
       "      <th>4</th>\n",
       "      <td>Central 2 Bedrooms, 3/5 pers. Wi-Fi</td>\n",
       "      <td>1</td>\n",
       "      <td>$94.00</td>\n",
       "    </tr>\n",
       "    <tr>\n",
       "      <th>...</th>\n",
       "      <td>...</td>\n",
       "      <td>...</td>\n",
       "      <td>...</td>\n",
       "    </tr>\n",
       "    <tr>\n",
       "      <th>6706</th>\n",
       "      <td>LAST ANTI- CRISIS PRICE ROOM BALCON</td>\n",
       "      <td>2</td>\n",
       "      <td>$29.00</td>\n",
       "    </tr>\n",
       "    <tr>\n",
       "      <th>6707</th>\n",
       "      <td>Best Location: Mestalla, Single Bed, Free Coffee</td>\n",
       "      <td>3</td>\n",
       "      <td>$25.00</td>\n",
       "    </tr>\n",
       "    <tr>\n",
       "      <th>6708</th>\n",
       "      <td>Habitación, 1 ó 2 pax, en ático a compartir y a.a</td>\n",
       "      <td>3</td>\n",
       "      <td>$40.00</td>\n",
       "    </tr>\n",
       "    <tr>\n",
       "      <th>6709</th>\n",
       "      <td>Céntrico y acogedor apartamento new WIFI</td>\n",
       "      <td>1</td>\n",
       "      <td>$70.00</td>\n",
       "    </tr>\n",
       "    <tr>\n",
       "      <th>6710</th>\n",
       "      <td>Ático a compartir con A.A y esplendida terraza</td>\n",
       "      <td>3</td>\n",
       "      <td>$45.00</td>\n",
       "    </tr>\n",
       "  </tbody>\n",
       "</table>\n",
       "<p>6711 rows × 3 columns</p>\n",
       "</div>"
      ],
      "text/plain": [
       "                                                   name  distancia    price\n",
       "0                                Delight in city center          1  $100.00\n",
       "1      Modern and bright Duplex 3 Bedrooms Center Wi-Fi          2  $142.00\n",
       "2     3BDR full Home at Sorolla station and Metro Jesús          2  $141.00\n",
       "3     EXCLUSIVE VILLA WITH POOL & 5 SUITES ON THE BEACH         11  $350.00\n",
       "4                   Central 2 Bedrooms, 3/5 pers. Wi-Fi          1   $94.00\n",
       "...                                                 ...        ...      ...\n",
       "6706                LAST ANTI- CRISIS PRICE ROOM BALCON          2   $29.00\n",
       "6707   Best Location: Mestalla, Single Bed, Free Coffee          3   $25.00\n",
       "6708  Habitación, 1 ó 2 pax, en ático a compartir y a.a          3   $40.00\n",
       "6709           Céntrico y acogedor apartamento new WIFI          1   $70.00\n",
       "6710     Ático a compartir con A.A y esplendida terraza          3   $45.00\n",
       "\n",
       "[6711 rows x 3 columns]"
      ]
     },
     "execution_count": 22,
     "metadata": {},
     "output_type": "execute_result"
    }
   ],
   "source": [
    "valencia[['name', 'distancia', 'price']]"
   ]
  },
  {
   "cell_type": "code",
   "execution_count": 23,
   "id": "0c0a75b0-117d-4aca-98d8-40b3475c8f52",
   "metadata": {
    "tags": []
   },
   "outputs": [
    {
     "data": {
      "text/plain": [
       "2     1909\n",
       "4     1733\n",
       "1      875\n",
       "6      700\n",
       "3      600\n",
       "5      538\n",
       "8      183\n",
       "7       88\n",
       "10      23\n",
       "9       18\n",
       "12      14\n",
       "14       9\n",
       "16       9\n",
       "11       8\n",
       "15       2\n",
       "13       2\n",
       "Name: accommodates, dtype: int64"
      ]
     },
     "execution_count": 23,
     "metadata": {},
     "output_type": "execute_result"
    }
   ],
   "source": [
    "valencia['accommodates'].value_counts()"
   ]
  },
  {
   "cell_type": "code",
   "execution_count": 24,
   "id": "57c82560-88b4-4981-ae18-812fccb94155",
   "metadata": {
    "tags": []
   },
   "outputs": [
    {
     "data": {
      "text/plain": [
       "<Axes: ylabel='Frequency'>"
      ]
     },
     "execution_count": 24,
     "metadata": {},
     "output_type": "execute_result"
    },
    {
     "data": {
      "image/png": "[encoded data removed]",
      "text/plain": [
       "<Figure size 640x480 with 1 Axes>"
      ]
     },
     "metadata": {},
     "output_type": "display_data"
    }
   ],
   "source": [
    "valencia['accommodates'].plot(\n",
    "    kind='hist'\n",
    ")"
   ]
  },
  {
   "cell_type": "code",
   "execution_count": 26,
   "id": "a0b3e199-3b7d-4889-88f9-8b2fc457b535",
   "metadata": {
    "tags": []
   },
   "outputs": [
    {
     "data": {
      "text/html": [
       "<div>\n",
       "<style scoped>\n",
       "    .dataframe tbody tr th:only-of-type {\n",
       "        vertical-align: middle;\n",
       "    }\n",
       "\n",
       "    .dataframe tbody tr th {\n",
       "        vertical-align: top;\n",
       "    }\n",
       "\n",
       "    .dataframe thead th {\n",
       "        text-align: right;\n",
       "    }\n",
       "</style>\n",
       "<table border=\"1\" class=\"dataframe\">\n",
       "  <thead>\n",
       "    <tr style=\"text-align: right;\">\n",
       "      <th></th>\n",
       "      <th>name</th>\n",
       "      <th>accommodates</th>\n",
       "      <th>distancia</th>\n",
       "      <th>price</th>\n",
       "    </tr>\n",
       "  </thead>\n",
       "  <tbody>\n",
       "    <tr>\n",
       "      <th>1969</th>\n",
       "      <td>Casa Cabanyal</td>\n",
       "      <td>4</td>\n",
       "      <td>0</td>\n",
       "      <td>$75.00</td>\n",
       "    </tr>\n",
       "    <tr>\n",
       "      <th>5857</th>\n",
       "      <td>Lovely well located 2-bedroom flat</td>\n",
       "      <td>4</td>\n",
       "      <td>0</td>\n",
       "      <td>$79.00</td>\n",
       "    </tr>\n",
       "    <tr>\n",
       "      <th>1371</th>\n",
       "      <td>Apartamento con estilo en zona playa / El Cabañal</td>\n",
       "      <td>4</td>\n",
       "      <td>0</td>\n",
       "      <td>$108.00</td>\n",
       "    </tr>\n",
       "    <tr>\n",
       "      <th>5859</th>\n",
       "      <td>dama iberica II</td>\n",
       "      <td>4</td>\n",
       "      <td>0</td>\n",
       "      <td>$78.00</td>\n",
       "    </tr>\n",
       "    <tr>\n",
       "      <th>2916</th>\n",
       "      <td>Ruzafa vibes - central apartment! 4pax-aircon</td>\n",
       "      <td>4</td>\n",
       "      <td>0</td>\n",
       "      <td>$131.00</td>\n",
       "    </tr>\n",
       "    <tr>\n",
       "      <th>...</th>\n",
       "      <td>...</td>\n",
       "      <td>...</td>\n",
       "      <td>...</td>\n",
       "      <td>...</td>\n",
       "    </tr>\n",
       "    <tr>\n",
       "      <th>1673</th>\n",
       "      <td>In the heart of the city, Sorolla</td>\n",
       "      <td>16</td>\n",
       "      <td>12</td>\n",
       "      <td>$454.00</td>\n",
       "    </tr>\n",
       "    <tr>\n",
       "      <th>5989</th>\n",
       "      <td>Villa 8 habitaciones dobles para hasta 27 pers...</td>\n",
       "      <td>16</td>\n",
       "      <td>12</td>\n",
       "      <td>$750.00</td>\n",
       "    </tr>\n",
       "    <tr>\n",
       "      <th>5517</th>\n",
       "      <td>5 bedroom penthouse Villa in Valencia Beach</td>\n",
       "      <td>16</td>\n",
       "      <td>12</td>\n",
       "      <td>$250.00</td>\n",
       "    </tr>\n",
       "    <tr>\n",
       "      <th>2364</th>\n",
       "      <td>Better Oh! Apartamento para grupos</td>\n",
       "      <td>16</td>\n",
       "      <td>12</td>\n",
       "      <td>$330.00</td>\n",
       "    </tr>\n",
       "    <tr>\n",
       "      <th>6114</th>\n",
       "      <td>Singular Edificio rehabilitado</td>\n",
       "      <td>16</td>\n",
       "      <td>12</td>\n",
       "      <td>$232.00</td>\n",
       "    </tr>\n",
       "  </tbody>\n",
       "</table>\n",
       "<p>6711 rows × 4 columns</p>\n",
       "</div>"
      ],
      "text/plain": [
       "                                                   name  accommodates  \\\n",
       "1969                                      Casa Cabanyal             4   \n",
       "5857                 Lovely well located 2-bedroom flat             4   \n",
       "1371  Apartamento con estilo en zona playa / El Cabañal             4   \n",
       "5859                                    dama iberica II             4   \n",
       "2916      Ruzafa vibes - central apartment! 4pax-aircon             4   \n",
       "...                                                 ...           ...   \n",
       "1673                  In the heart of the city, Sorolla            16   \n",
       "5989  Villa 8 habitaciones dobles para hasta 27 pers...            16   \n",
       "5517        5 bedroom penthouse Villa in Valencia Beach            16   \n",
       "2364                 Better Oh! Apartamento para grupos            16   \n",
       "6114                     Singular Edificio rehabilitado            16   \n",
       "\n",
       "      distancia    price  \n",
       "1969          0   $75.00  \n",
       "5857          0   $79.00  \n",
       "1371          0  $108.00  \n",
       "5859          0   $78.00  \n",
       "2916          0  $131.00  \n",
       "...         ...      ...  \n",
       "1673         12  $454.00  \n",
       "5989         12  $750.00  \n",
       "5517         12  $250.00  \n",
       "2364         12  $330.00  \n",
       "6114         12  $232.00  \n",
       "\n",
       "[6711 rows x 4 columns]"
      ]
     },
     "execution_count": 26,
     "metadata": {},
     "output_type": "execute_result"
    }
   ],
   "source": [
    "valencia[['name', 'accommodates', 'distancia', 'price']].sort_values('distancia')"
   ]
  },
  {
   "cell_type": "code",
   "execution_count": null,
   "id": "36982874-c9fb-4c3d-a69d-655740c20ad6",
   "metadata": {},
   "outputs": [],
   "source": []
  },
  {
   "cell_type": "code",
   "execution_count": null,
   "id": "b85025db-6a91-475e-bbb2-044e6db3db15",
   "metadata": {},
   "outputs": [],
   "source": []
  },
  {
   "cell_type": "code",
   "execution_count": 26,
   "id": "5cf380ec-f977-45ab-9a16-6fb4a4925a16",
   "metadata": {
    "tags": []
   },
   "outputs": [
    {
     "data": {
      "text/html": [
       "<div>\n",
       "<style scoped>\n",
       "    .dataframe tbody tr th:only-of-type {\n",
       "        vertical-align: middle;\n",
       "    }\n",
       "\n",
       "    .dataframe tbody tr th {\n",
       "        vertical-align: top;\n",
       "    }\n",
       "\n",
       "    .dataframe thead th {\n",
       "        text-align: right;\n",
       "    }\n",
       "</style>\n",
       "<table border=\"1\" class=\"dataframe\">\n",
       "  <thead>\n",
       "    <tr style=\"text-align: right;\">\n",
       "      <th></th>\n",
       "      <th>name</th>\n",
       "      <th>accommodates</th>\n",
       "      <th>distancia</th>\n",
       "      <th>price</th>\n",
       "    </tr>\n",
       "  </thead>\n",
       "  <tbody>\n",
       "    <tr>\n",
       "      <th>1969</th>\n",
       "      <td>Casa Cabanyal</td>\n",
       "      <td>4</td>\n",
       "      <td>0</td>\n",
       "      <td>$75.00</td>\n",
       "    </tr>\n",
       "    <tr>\n",
       "      <th>5857</th>\n",
       "      <td>Lovely well located 2-bedroom flat</td>\n",
       "      <td>4</td>\n",
       "      <td>0</td>\n",
       "      <td>$79.00</td>\n",
       "    </tr>\n",
       "    <tr>\n",
       "      <th>1371</th>\n",
       "      <td>Apartamento con estilo en zona playa / El Cabañal</td>\n",
       "      <td>4</td>\n",
       "      <td>0</td>\n",
       "      <td>$108.00</td>\n",
       "    </tr>\n",
       "    <tr>\n",
       "      <th>5859</th>\n",
       "      <td>dama iberica II</td>\n",
       "      <td>4</td>\n",
       "      <td>0</td>\n",
       "      <td>$78.00</td>\n",
       "    </tr>\n",
       "    <tr>\n",
       "      <th>2916</th>\n",
       "      <td>Ruzafa vibes - central apartment! 4pax-aircon</td>\n",
       "      <td>4</td>\n",
       "      <td>0</td>\n",
       "      <td>$131.00</td>\n",
       "    </tr>\n",
       "    <tr>\n",
       "      <th>...</th>\n",
       "      <td>...</td>\n",
       "      <td>...</td>\n",
       "      <td>...</td>\n",
       "      <td>...</td>\n",
       "    </tr>\n",
       "    <tr>\n",
       "      <th>1673</th>\n",
       "      <td>In the heart of the city, Sorolla</td>\n",
       "      <td>16</td>\n",
       "      <td>12</td>\n",
       "      <td>$454.00</td>\n",
       "    </tr>\n",
       "    <tr>\n",
       "      <th>5989</th>\n",
       "      <td>Villa 8 habitaciones dobles para hasta 27 pers...</td>\n",
       "      <td>16</td>\n",
       "      <td>12</td>\n",
       "      <td>$750.00</td>\n",
       "    </tr>\n",
       "    <tr>\n",
       "      <th>5517</th>\n",
       "      <td>5 bedroom penthouse Villa in Valencia Beach</td>\n",
       "      <td>16</td>\n",
       "      <td>12</td>\n",
       "      <td>$250.00</td>\n",
       "    </tr>\n",
       "    <tr>\n",
       "      <th>2364</th>\n",
       "      <td>Better Oh! Apartamento para grupos</td>\n",
       "      <td>16</td>\n",
       "      <td>12</td>\n",
       "      <td>$330.00</td>\n",
       "    </tr>\n",
       "    <tr>\n",
       "      <th>6114</th>\n",
       "      <td>Singular Edificio rehabilitado</td>\n",
       "      <td>16</td>\n",
       "      <td>12</td>\n",
       "      <td>$232.00</td>\n",
       "    </tr>\n",
       "  </tbody>\n",
       "</table>\n",
       "<p>6711 rows × 4 columns</p>\n",
       "</div>"
      ],
      "text/plain": [
       "                                                   name  accommodates  \\\n",
       "1969                                      Casa Cabanyal             4   \n",
       "5857                 Lovely well located 2-bedroom flat             4   \n",
       "1371  Apartamento con estilo en zona playa / El Cabañal             4   \n",
       "5859                                    dama iberica II             4   \n",
       "2916      Ruzafa vibes - central apartment! 4pax-aircon             4   \n",
       "...                                                 ...           ...   \n",
       "1673                  In the heart of the city, Sorolla            16   \n",
       "5989  Villa 8 habitaciones dobles para hasta 27 pers...            16   \n",
       "5517        5 bedroom penthouse Villa in Valencia Beach            16   \n",
       "2364                 Better Oh! Apartamento para grupos            16   \n",
       "6114                     Singular Edificio rehabilitado            16   \n",
       "\n",
       "      distancia    price  \n",
       "1969          0   $75.00  \n",
       "5857          0   $79.00  \n",
       "1371          0  $108.00  \n",
       "5859          0   $78.00  \n",
       "2916          0  $131.00  \n",
       "...         ...      ...  \n",
       "1673         12  $454.00  \n",
       "5989         12  $750.00  \n",
       "5517         12  $250.00  \n",
       "2364         12  $330.00  \n",
       "6114         12  $232.00  \n",
       "\n",
       "[6711 rows x 4 columns]"
      ]
     },
     "execution_count": 26,
     "metadata": {},
     "output_type": "execute_result"
    }
   ],
   "source": [
    "valencia[['name', 'accommodates', 'distancia', 'price']].sort_values('distancia')"
   ]
  },
  {
   "cell_type": "code",
   "execution_count": 29,
   "id": "0753105b-33b4-4dc4-a314-a9b2ae8538e3",
   "metadata": {
    "tags": []
   },
   "outputs": [
    {
     "data": {
      "text/plain": [
       "1969     $75.00\n",
       "5857     $79.00\n",
       "1371    $108.00\n",
       "5859     $78.00\n",
       "Name: price, dtype: object"
      ]
     },
     "execution_count": 29,
     "metadata": {},
     "output_type": "execute_result"
    }
   ],
   "source": [
    "valencia[['name', 'accommodates', 'distancia', 'price']].sort_values('distancia').iloc[0:4]['price']"
   ]
  },
  {
   "cell_type": "code",
   "execution_count": null,
   "id": "06113aeb-dc50-4650-ab5b-22d056034a37",
   "metadata": {},
   "outputs": [],
   "source": []
  },
  {
   "cell_type": "code",
   "execution_count": 30,
   "id": "97d909c8-8fc1-44be-9523-33d61109a889",
   "metadata": {
    "tags": []
   },
   "outputs": [
    {
     "data": {
      "text/html": [
       "<div>\n",
       "<style scoped>\n",
       "    .dataframe tbody tr th:only-of-type {\n",
       "        vertical-align: middle;\n",
       "    }\n",
       "\n",
       "    .dataframe tbody tr th {\n",
       "        vertical-align: top;\n",
       "    }\n",
       "\n",
       "    .dataframe thead th {\n",
       "        text-align: right;\n",
       "    }\n",
       "</style>\n",
       "<table border=\"1\" class=\"dataframe\">\n",
       "  <thead>\n",
       "    <tr style=\"text-align: right;\">\n",
       "      <th></th>\n",
       "      <th>name</th>\n",
       "      <th>accommodates</th>\n",
       "      <th>distancia</th>\n",
       "      <th>price</th>\n",
       "    </tr>\n",
       "  </thead>\n",
       "  <tbody>\n",
       "    <tr>\n",
       "      <th>1969</th>\n",
       "      <td>Casa Cabanyal</td>\n",
       "      <td>4</td>\n",
       "      <td>0</td>\n",
       "      <td>$75.00</td>\n",
       "    </tr>\n",
       "    <tr>\n",
       "      <th>5857</th>\n",
       "      <td>Lovely well located 2-bedroom flat</td>\n",
       "      <td>4</td>\n",
       "      <td>0</td>\n",
       "      <td>$79.00</td>\n",
       "    </tr>\n",
       "    <tr>\n",
       "      <th>1371</th>\n",
       "      <td>Apartamento con estilo en zona playa / El Cabañal</td>\n",
       "      <td>4</td>\n",
       "      <td>0</td>\n",
       "      <td>$108.00</td>\n",
       "    </tr>\n",
       "    <tr>\n",
       "      <th>5859</th>\n",
       "      <td>dama iberica II</td>\n",
       "      <td>4</td>\n",
       "      <td>0</td>\n",
       "      <td>$78.00</td>\n",
       "    </tr>\n",
       "    <tr>\n",
       "      <th>2916</th>\n",
       "      <td>Ruzafa vibes - central apartment! 4pax-aircon</td>\n",
       "      <td>4</td>\n",
       "      <td>0</td>\n",
       "      <td>$131.00</td>\n",
       "    </tr>\n",
       "    <tr>\n",
       "      <th>...</th>\n",
       "      <td>...</td>\n",
       "      <td>...</td>\n",
       "      <td>...</td>\n",
       "      <td>...</td>\n",
       "    </tr>\n",
       "    <tr>\n",
       "      <th>1673</th>\n",
       "      <td>In the heart of the city, Sorolla</td>\n",
       "      <td>16</td>\n",
       "      <td>12</td>\n",
       "      <td>$454.00</td>\n",
       "    </tr>\n",
       "    <tr>\n",
       "      <th>5989</th>\n",
       "      <td>Villa 8 habitaciones dobles para hasta 27 pers...</td>\n",
       "      <td>16</td>\n",
       "      <td>12</td>\n",
       "      <td>$750.00</td>\n",
       "    </tr>\n",
       "    <tr>\n",
       "      <th>5517</th>\n",
       "      <td>5 bedroom penthouse Villa in Valencia Beach</td>\n",
       "      <td>16</td>\n",
       "      <td>12</td>\n",
       "      <td>$250.00</td>\n",
       "    </tr>\n",
       "    <tr>\n",
       "      <th>2364</th>\n",
       "      <td>Better Oh! Apartamento para grupos</td>\n",
       "      <td>16</td>\n",
       "      <td>12</td>\n",
       "      <td>$330.00</td>\n",
       "    </tr>\n",
       "    <tr>\n",
       "      <th>6114</th>\n",
       "      <td>Singular Edificio rehabilitado</td>\n",
       "      <td>16</td>\n",
       "      <td>12</td>\n",
       "      <td>$232.00</td>\n",
       "    </tr>\n",
       "  </tbody>\n",
       "</table>\n",
       "<p>6711 rows × 4 columns</p>\n",
       "</div>"
      ],
      "text/plain": [
       "                                                   name  accommodates  \\\n",
       "1969                                      Casa Cabanyal             4   \n",
       "5857                 Lovely well located 2-bedroom flat             4   \n",
       "1371  Apartamento con estilo en zona playa / El Cabañal             4   \n",
       "5859                                    dama iberica II             4   \n",
       "2916      Ruzafa vibes - central apartment! 4pax-aircon             4   \n",
       "...                                                 ...           ...   \n",
       "1673                  In the heart of the city, Sorolla            16   \n",
       "5989  Villa 8 habitaciones dobles para hasta 27 pers...            16   \n",
       "5517        5 bedroom penthouse Villa in Valencia Beach            16   \n",
       "2364                 Better Oh! Apartamento para grupos            16   \n",
       "6114                     Singular Edificio rehabilitado            16   \n",
       "\n",
       "      distancia    price  \n",
       "1969          0   $75.00  \n",
       "5857          0   $79.00  \n",
       "1371          0  $108.00  \n",
       "5859          0   $78.00  \n",
       "2916          0  $131.00  \n",
       "...         ...      ...  \n",
       "1673         12  $454.00  \n",
       "5989         12  $750.00  \n",
       "5517         12  $250.00  \n",
       "2364         12  $330.00  \n",
       "6114         12  $232.00  \n",
       "\n",
       "[6711 rows x 4 columns]"
      ]
     },
     "execution_count": 30,
     "metadata": {},
     "output_type": "execute_result"
    }
   ],
   "source": [
    "valencia[['name', 'accommodates', 'distancia', 'price']].sort_values('distancia')"
   ]
  },
  {
   "cell_type": "code",
   "execution_count": 41,
   "id": "dada5be3-f6fc-49c2-bcb8-b588c4a9f701",
   "metadata": {
    "tags": []
   },
   "outputs": [
    {
     "data": {
      "text/plain": [
       "array([24, 27, 10,  0, 38,  5, 15, 33, 35,  1, 31, 17, 16, 26, 11, 23,  6,\n",
       "       12, 34, 37, 20,  9, 39, 28,  8, 13, 36,  7, 30, 22, 18,  4, 29, 14,\n",
       "        3, 19, 25,  2, 21, 32])"
      ]
     },
     "execution_count": 41,
     "metadata": {},
     "output_type": "execute_result"
    }
   ],
   "source": [
    "np.random.permutation(40)"
   ]
  },
  {
   "cell_type": "code",
   "execution_count": 40,
   "id": "9119f3c7-8a09-4504-a273-f69dc6b21f9d",
   "metadata": {
    "tags": []
   },
   "outputs": [
    {
     "data": {
      "text/plain": [
       "6711"
      ]
     },
     "execution_count": 40,
     "metadata": {},
     "output_type": "execute_result"
    }
   ],
   "source": [
    "valencia.shape[0]"
   ]
  },
  {
   "cell_type": "code",
   "execution_count": 38,
   "id": "33da4c45-1a3e-4aa2-813d-83d56d98a233",
   "metadata": {
    "tags": []
   },
   "outputs": [
    {
     "data": {
      "text/plain": [
       "6711"
      ]
     },
     "execution_count": 38,
     "metadata": {},
     "output_type": "execute_result"
    }
   ],
   "source": [
    "len(valencia)"
   ]
  },
  {
   "cell_type": "code",
   "execution_count": 46,
   "id": "78df5ae1-836d-426a-94bc-37b0f536bce7",
   "metadata": {
    "tags": []
   },
   "outputs": [
    {
     "data": {
      "text/plain": [
       "array([4, 1, 2, 0, 3])"
      ]
     },
     "execution_count": 46,
     "metadata": {},
     "output_type": "execute_result"
    }
   ],
   "source": [
    "np.random.seed(837498)\n",
    "np.random.permutation(5)"
   ]
  },
  {
   "cell_type": "code",
   "execution_count": 50,
   "id": "7713498c-04d0-48dc-9a77-8acbdf25dd72",
   "metadata": {
    "tags": []
   },
   "outputs": [
    {
     "data": {
      "text/html": [
       "<div>\n",
       "<style scoped>\n",
       "    .dataframe tbody tr th:only-of-type {\n",
       "        vertical-align: middle;\n",
       "    }\n",
       "\n",
       "    .dataframe tbody tr th {\n",
       "        vertical-align: top;\n",
       "    }\n",
       "\n",
       "    .dataframe thead th {\n",
       "        text-align: right;\n",
       "    }\n",
       "</style>\n",
       "<table border=\"1\" class=\"dataframe\">\n",
       "  <thead>\n",
       "    <tr style=\"text-align: right;\">\n",
       "      <th></th>\n",
       "      <th>id</th>\n",
       "      <th>listing_url</th>\n",
       "      <th>scrape_id</th>\n",
       "      <th>last_scraped</th>\n",
       "      <th>source</th>\n",
       "      <th>name</th>\n",
       "      <th>description</th>\n",
       "      <th>neighborhood_overview</th>\n",
       "      <th>picture_url</th>\n",
       "      <th>host_id</th>\n",
       "      <th>...</th>\n",
       "      <th>review_scores_location</th>\n",
       "      <th>review_scores_value</th>\n",
       "      <th>license</th>\n",
       "      <th>instant_bookable</th>\n",
       "      <th>calculated_host_listings_count</th>\n",
       "      <th>calculated_host_listings_count_entire_homes</th>\n",
       "      <th>calculated_host_listings_count_private_rooms</th>\n",
       "      <th>calculated_host_listings_count_shared_rooms</th>\n",
       "      <th>reviews_per_month</th>\n",
       "      <th>distancia</th>\n",
       "    </tr>\n",
       "  </thead>\n",
       "  <tbody>\n",
       "    <tr>\n",
       "      <th>4</th>\n",
       "      <td>103386</td>\n",
       "      <td>https://www.airbnb.com/rooms/103386</td>\n",
       "      <td>20221221170335</td>\n",
       "      <td>2022-12-21</td>\n",
       "      <td>city scrape</td>\n",
       "      <td>Central 2 Bedrooms, 3/5 pers. Wi-Fi</td>\n",
       "      <td>This is \"Edificio Palomar Apartments\", I will ...</td>\n",
       "      <td>It is just 10 min walking distance to the Cath...</td>\n",
       "      <td>https://a0.muscache.com/pictures/44403436/e2a9...</td>\n",
       "      <td>508042</td>\n",
       "      <td>...</td>\n",
       "      <td>4.75</td>\n",
       "      <td>4.88</td>\n",
       "      <td>31813</td>\n",
       "      <td>f</td>\n",
       "      <td>5</td>\n",
       "      <td>5</td>\n",
       "      <td>0</td>\n",
       "      <td>0</td>\n",
       "      <td>0.12</td>\n",
       "      <td>1</td>\n",
       "    </tr>\n",
       "    <tr>\n",
       "      <th>1</th>\n",
       "      <td>95393</td>\n",
       "      <td>https://www.airbnb.com/rooms/95393</td>\n",
       "      <td>20221221170335</td>\n",
       "      <td>2022-12-21</td>\n",
       "      <td>city scrape</td>\n",
       "      <td>Modern and bright Duplex 3 Bedrooms Center Wi-Fi</td>\n",
       "      <td>This is \"Edificio Palomar Apartments\", I will ...</td>\n",
       "      <td>It is just 10 min walking distance to the Cath...</td>\n",
       "      <td>https://a0.muscache.com/pictures/931683/64aebc...</td>\n",
       "      <td>508042</td>\n",
       "      <td>...</td>\n",
       "      <td>4.76</td>\n",
       "      <td>4.68</td>\n",
       "      <td>31815</td>\n",
       "      <td>f</td>\n",
       "      <td>5</td>\n",
       "      <td>5</td>\n",
       "      <td>0</td>\n",
       "      <td>0</td>\n",
       "      <td>0.77</td>\n",
       "      <td>2</td>\n",
       "    </tr>\n",
       "    <tr>\n",
       "      <th>2</th>\n",
       "      <td>100347</td>\n",
       "      <td>https://www.airbnb.com/rooms/100347</td>\n",
       "      <td>20221221170335</td>\n",
       "      <td>2022-12-22</td>\n",
       "      <td>previous scrape</td>\n",
       "      <td>3BDR full Home at Sorolla station and Metro Jesús</td>\n",
       "      <td>Te va a encantar mi espacio por la ubicación y...</td>\n",
       "      <td>Barrio de Jesús, cercano al centro, zona conso...</td>\n",
       "      <td>https://a0.muscache.com/pictures/b0bb18e8-1f24...</td>\n",
       "      <td>1451371</td>\n",
       "      <td>...</td>\n",
       "      <td>4.80</td>\n",
       "      <td>4.65</td>\n",
       "      <td>NaN</td>\n",
       "      <td>f</td>\n",
       "      <td>1</td>\n",
       "      <td>1</td>\n",
       "      <td>0</td>\n",
       "      <td>0</td>\n",
       "      <td>2.20</td>\n",
       "      <td>2</td>\n",
       "    </tr>\n",
       "    <tr>\n",
       "      <th>3</th>\n",
       "      <td>102524</td>\n",
       "      <td>https://www.airbnb.com/rooms/102524</td>\n",
       "      <td>20221221170335</td>\n",
       "      <td>2022-12-21</td>\n",
       "      <td>city scrape</td>\n",
       "      <td>EXCLUSIVE VILLA WITH POOL &amp; 5 SUITES ON THE BEACH</td>\n",
       "      <td>DO NOT PARTY OR STAG/HEN PARTIES! THE RESERVAT...</td>\n",
       "      <td>Best restaurantes bars and clubs and chill out...</td>\n",
       "      <td>https://a0.muscache.com/pictures/d2019707-1596...</td>\n",
       "      <td>535881</td>\n",
       "      <td>...</td>\n",
       "      <td>4.80</td>\n",
       "      <td>4.33</td>\n",
       "      <td>VT-36438-V</td>\n",
       "      <td>f</td>\n",
       "      <td>6</td>\n",
       "      <td>5</td>\n",
       "      <td>1</td>\n",
       "      <td>0</td>\n",
       "      <td>1.31</td>\n",
       "      <td>11</td>\n",
       "    </tr>\n",
       "    <tr>\n",
       "      <th>0</th>\n",
       "      <td>55692</td>\n",
       "      <td>https://www.airbnb.com/rooms/55692</td>\n",
       "      <td>20221221170335</td>\n",
       "      <td>2022-12-22</td>\n",
       "      <td>previous scrape</td>\n",
       "      <td>Delight in city center</td>\n",
       "      <td>A great place to stay and visit Valencia.&lt;br /...</td>\n",
       "      <td>NaN</td>\n",
       "      <td>https://a0.muscache.com/pictures/329316/a5d6a7...</td>\n",
       "      <td>120649</td>\n",
       "      <td>...</td>\n",
       "      <td>5.00</td>\n",
       "      <td>5.00</td>\n",
       "      <td>NaN</td>\n",
       "      <td>f</td>\n",
       "      <td>1</td>\n",
       "      <td>1</td>\n",
       "      <td>0</td>\n",
       "      <td>0</td>\n",
       "      <td>0.01</td>\n",
       "      <td>1</td>\n",
       "    </tr>\n",
       "  </tbody>\n",
       "</table>\n",
       "<p>5 rows × 76 columns</p>\n",
       "</div>"
      ],
      "text/plain": [
       "       id                          listing_url       scrape_id last_scraped  \\\n",
       "4  103386  https://www.airbnb.com/rooms/103386  20221221170335   2022-12-21   \n",
       "1   95393   https://www.airbnb.com/rooms/95393  20221221170335   2022-12-21   \n",
       "2  100347  https://www.airbnb.com/rooms/100347  20221221170335   2022-12-22   \n",
       "3  102524  https://www.airbnb.com/rooms/102524  20221221170335   2022-12-21   \n",
       "0   55692   https://www.airbnb.com/rooms/55692  20221221170335   2022-12-22   \n",
       "\n",
       "            source                                               name  \\\n",
       "4      city scrape                Central 2 Bedrooms, 3/5 pers. Wi-Fi   \n",
       "1      city scrape   Modern and bright Duplex 3 Bedrooms Center Wi-Fi   \n",
       "2  previous scrape  3BDR full Home at Sorolla station and Metro Jesús   \n",
       "3      city scrape  EXCLUSIVE VILLA WITH POOL & 5 SUITES ON THE BEACH   \n",
       "0  previous scrape                             Delight in city center   \n",
       "\n",
       "                                         description  \\\n",
       "4  This is \"Edificio Palomar Apartments\", I will ...   \n",
       "1  This is \"Edificio Palomar Apartments\", I will ...   \n",
       "2  Te va a encantar mi espacio por la ubicación y...   \n",
       "3  DO NOT PARTY OR STAG/HEN PARTIES! THE RESERVAT...   \n",
       "0  A great place to stay and visit Valencia.<br /...   \n",
       "\n",
       "                               neighborhood_overview  \\\n",
       "4  It is just 10 min walking distance to the Cath...   \n",
       "1  It is just 10 min walking distance to the Cath...   \n",
       "2  Barrio de Jesús, cercano al centro, zona conso...   \n",
       "3  Best restaurantes bars and clubs and chill out...   \n",
       "0                                                NaN   \n",
       "\n",
       "                                         picture_url  host_id  ...  \\\n",
       "4  https://a0.muscache.com/pictures/44403436/e2a9...   508042  ...   \n",
       "1  https://a0.muscache.com/pictures/931683/64aebc...   508042  ...   \n",
       "2  https://a0.muscache.com/pictures/b0bb18e8-1f24...  1451371  ...   \n",
       "3  https://a0.muscache.com/pictures/d2019707-1596...   535881  ...   \n",
       "0  https://a0.muscache.com/pictures/329316/a5d6a7...   120649  ...   \n",
       "\n",
       "  review_scores_location review_scores_value     license instant_bookable  \\\n",
       "4                   4.75                4.88       31813                f   \n",
       "1                   4.76                4.68       31815                f   \n",
       "2                   4.80                4.65         NaN                f   \n",
       "3                   4.80                4.33  VT-36438-V                f   \n",
       "0                   5.00                5.00         NaN                f   \n",
       "\n",
       "  calculated_host_listings_count calculated_host_listings_count_entire_homes  \\\n",
       "4                              5                                           5   \n",
       "1                              5                                           5   \n",
       "2                              1                                           1   \n",
       "3                              6                                           5   \n",
       "0                              1                                           1   \n",
       "\n",
       "  calculated_host_listings_count_private_rooms  \\\n",
       "4                                            0   \n",
       "1                                            0   \n",
       "2                                            0   \n",
       "3                                            1   \n",
       "0                                            0   \n",
       "\n",
       "  calculated_host_listings_count_shared_rooms reviews_per_month distancia  \n",
       "4                                           0              0.12         1  \n",
       "1                                           0              0.77         2  \n",
       "2                                           0              2.20         2  \n",
       "3                                           0              1.31        11  \n",
       "0                                           0              0.01         1  \n",
       "\n",
       "[5 rows x 76 columns]"
      ]
     },
     "execution_count": 50,
     "metadata": {},
     "output_type": "execute_result"
    }
   ],
   "source": [
    "valencia.iloc[np.random.permutation(5)]"
   ]
  },
  {
   "cell_type": "code",
   "execution_count": 51,
   "id": "ec39d018-0e74-49de-b4b3-de1622be5eb3",
   "metadata": {
    "tags": []
   },
   "outputs": [],
   "source": [
    "# barajamos los elementos\n",
    "valencia = valencia.iloc[\n",
    "    np.random.permutation(\n",
    "        valencia.shape[0]\n",
    "    )\n",
    "]"
   ]
  },
  {
   "cell_type": "code",
   "execution_count": 52,
   "id": "04e4710b-4a96-42e1-aab2-501a709d2cbb",
   "metadata": {
    "tags": []
   },
   "outputs": [
    {
     "data": {
      "text/html": [
       "<div>\n",
       "<style scoped>\n",
       "    .dataframe tbody tr th:only-of-type {\n",
       "        vertical-align: middle;\n",
       "    }\n",
       "\n",
       "    .dataframe tbody tr th {\n",
       "        vertical-align: top;\n",
       "    }\n",
       "\n",
       "    .dataframe thead th {\n",
       "        text-align: right;\n",
       "    }\n",
       "</style>\n",
       "<table border=\"1\" class=\"dataframe\">\n",
       "  <thead>\n",
       "    <tr style=\"text-align: right;\">\n",
       "      <th></th>\n",
       "      <th>id</th>\n",
       "      <th>listing_url</th>\n",
       "      <th>scrape_id</th>\n",
       "      <th>last_scraped</th>\n",
       "      <th>source</th>\n",
       "      <th>name</th>\n",
       "      <th>description</th>\n",
       "      <th>neighborhood_overview</th>\n",
       "      <th>picture_url</th>\n",
       "      <th>host_id</th>\n",
       "      <th>...</th>\n",
       "      <th>review_scores_location</th>\n",
       "      <th>review_scores_value</th>\n",
       "      <th>license</th>\n",
       "      <th>instant_bookable</th>\n",
       "      <th>calculated_host_listings_count</th>\n",
       "      <th>calculated_host_listings_count_entire_homes</th>\n",
       "      <th>calculated_host_listings_count_private_rooms</th>\n",
       "      <th>calculated_host_listings_count_shared_rooms</th>\n",
       "      <th>reviews_per_month</th>\n",
       "      <th>distancia</th>\n",
       "    </tr>\n",
       "  </thead>\n",
       "  <tbody>\n",
       "    <tr>\n",
       "      <th>4017</th>\n",
       "      <td>52849317</td>\n",
       "      <td>https://www.airbnb.com/rooms/52849317</td>\n",
       "      <td>20221221170335</td>\n",
       "      <td>2022-12-21</td>\n",
       "      <td>city scrape</td>\n",
       "      <td>Habitación con baño compartido centro de Valencia</td>\n",
       "      <td>Una habitación individual con baño compartido....</td>\n",
       "      <td>NaN</td>\n",
       "      <td>https://a0.muscache.com/pictures/3f984e63-8da9...</td>\n",
       "      <td>84042875</td>\n",
       "      <td>...</td>\n",
       "      <td>5.00</td>\n",
       "      <td>4.50</td>\n",
       "      <td>NaN</td>\n",
       "      <td>f</td>\n",
       "      <td>4</td>\n",
       "      <td>2</td>\n",
       "      <td>2</td>\n",
       "      <td>0</td>\n",
       "      <td>0.20</td>\n",
       "      <td>3</td>\n",
       "    </tr>\n",
       "    <tr>\n",
       "      <th>4229</th>\n",
       "      <td>54301752</td>\n",
       "      <td>https://www.airbnb.com/rooms/54301752</td>\n",
       "      <td>20221221170335</td>\n",
       "      <td>2022-12-22</td>\n",
       "      <td>city scrape</td>\n",
       "      <td>PLANTA BAJA EN VALENCIA, POBLADOS MARITIMOS</td>\n",
       "      <td>Este alojamiento único tiene personalidad prop...</td>\n",
       "      <td>Antiguo barrio de pescadores, donde encontrar ...</td>\n",
       "      <td>https://a0.muscache.com/pictures/miso/Hosting-...</td>\n",
       "      <td>440431020</td>\n",
       "      <td>...</td>\n",
       "      <td>4.17</td>\n",
       "      <td>4.54</td>\n",
       "      <td>NaN</td>\n",
       "      <td>t</td>\n",
       "      <td>1</td>\n",
       "      <td>1</td>\n",
       "      <td>0</td>\n",
       "      <td>0</td>\n",
       "      <td>2.30</td>\n",
       "      <td>1</td>\n",
       "    </tr>\n",
       "    <tr>\n",
       "      <th>1194</th>\n",
       "      <td>20911350</td>\n",
       "      <td>https://www.airbnb.com/rooms/20911350</td>\n",
       "      <td>20221221170335</td>\n",
       "      <td>2022-12-21</td>\n",
       "      <td>city scrape</td>\n",
       "      <td>3B CASUAL-CHIC STUDIO EN EL CENTRO HISTORICO</td>\n",
       "      <td>CASUAL-CHIC STUDIO , tipo loft . En el centro ...</td>\n",
       "      <td>NaN</td>\n",
       "      <td>https://a0.muscache.com/pictures/018595ef-370d...</td>\n",
       "      <td>54449319</td>\n",
       "      <td>...</td>\n",
       "      <td>4.92</td>\n",
       "      <td>4.81</td>\n",
       "      <td>Generalitat Valenciana VT-41910-V. Ayuntamient...</td>\n",
       "      <td>t</td>\n",
       "      <td>5</td>\n",
       "      <td>5</td>\n",
       "      <td>0</td>\n",
       "      <td>0</td>\n",
       "      <td>3.41</td>\n",
       "      <td>0</td>\n",
       "    </tr>\n",
       "    <tr>\n",
       "      <th>885</th>\n",
       "      <td>17679768</td>\n",
       "      <td>https://www.airbnb.com/rooms/17679768</td>\n",
       "      <td>20221221170335</td>\n",
       "      <td>2022-12-21</td>\n",
       "      <td>city scrape</td>\n",
       "      <td>Amazing LOFT- APARTMENT near to the Beach -Playa</td>\n",
       "      <td>Este ideal LOFT - APARTAMENTO muy amplio y lum...</td>\n",
       "      <td>Barrio típico de Pescadores de Valencia&lt;br /&gt;Z...</td>\n",
       "      <td>https://a0.muscache.com/pictures/a4af3d78-5019...</td>\n",
       "      <td>73233259</td>\n",
       "      <td>...</td>\n",
       "      <td>4.81</td>\n",
       "      <td>4.77</td>\n",
       "      <td>VT-41970-V</td>\n",
       "      <td>f</td>\n",
       "      <td>4</td>\n",
       "      <td>4</td>\n",
       "      <td>0</td>\n",
       "      <td>0</td>\n",
       "      <td>2.05</td>\n",
       "      <td>1</td>\n",
       "    </tr>\n",
       "    <tr>\n",
       "      <th>4629</th>\n",
       "      <td>597542891718231365</td>\n",
       "      <td>https://www.airbnb.com/rooms/597542891718231365</td>\n",
       "      <td>20221221170335</td>\n",
       "      <td>2022-12-22</td>\n",
       "      <td>city scrape</td>\n",
       "      <td>Plaza Redonda</td>\n",
       "      <td>Cozy apartment for 3 people next to the beauti...</td>\n",
       "      <td>NaN</td>\n",
       "      <td>https://a0.muscache.com/pictures/prohost-api/H...</td>\n",
       "      <td>83066665</td>\n",
       "      <td>...</td>\n",
       "      <td>5.00</td>\n",
       "      <td>5.00</td>\n",
       "      <td>VT-36925-V</td>\n",
       "      <td>f</td>\n",
       "      <td>127</td>\n",
       "      <td>126</td>\n",
       "      <td>1</td>\n",
       "      <td>0</td>\n",
       "      <td>0.55</td>\n",
       "      <td>1</td>\n",
       "    </tr>\n",
       "  </tbody>\n",
       "</table>\n",
       "<p>5 rows × 76 columns</p>\n",
       "</div>"
      ],
      "text/plain": [
       "                      id                                      listing_url  \\\n",
       "4017            52849317            https://www.airbnb.com/rooms/52849317   \n",
       "4229            54301752            https://www.airbnb.com/rooms/54301752   \n",
       "1194            20911350            https://www.airbnb.com/rooms/20911350   \n",
       "885             17679768            https://www.airbnb.com/rooms/17679768   \n",
       "4629  597542891718231365  https://www.airbnb.com/rooms/597542891718231365   \n",
       "\n",
       "           scrape_id last_scraped       source  \\\n",
       "4017  20221221170335   2022-12-21  city scrape   \n",
       "4229  20221221170335   2022-12-22  city scrape   \n",
       "1194  20221221170335   2022-12-21  city scrape   \n",
       "885   20221221170335   2022-12-21  city scrape   \n",
       "4629  20221221170335   2022-12-22  city scrape   \n",
       "\n",
       "                                                   name  \\\n",
       "4017  Habitación con baño compartido centro de Valencia   \n",
       "4229        PLANTA BAJA EN VALENCIA, POBLADOS MARITIMOS   \n",
       "1194       3B CASUAL-CHIC STUDIO EN EL CENTRO HISTORICO   \n",
       "885    Amazing LOFT- APARTMENT near to the Beach -Playa   \n",
       "4629                                      Plaza Redonda   \n",
       "\n",
       "                                            description  \\\n",
       "4017  Una habitación individual con baño compartido....   \n",
       "4229  Este alojamiento único tiene personalidad prop...   \n",
       "1194  CASUAL-CHIC STUDIO , tipo loft . En el centro ...   \n",
       "885   Este ideal LOFT - APARTAMENTO muy amplio y lum...   \n",
       "4629  Cozy apartment for 3 people next to the beauti...   \n",
       "\n",
       "                                  neighborhood_overview  \\\n",
       "4017                                                NaN   \n",
       "4229  Antiguo barrio de pescadores, donde encontrar ...   \n",
       "1194                                                NaN   \n",
       "885   Barrio típico de Pescadores de Valencia<br />Z...   \n",
       "4629                                                NaN   \n",
       "\n",
       "                                            picture_url    host_id  ...  \\\n",
       "4017  https://a0.muscache.com/pictures/3f984e63-8da9...   84042875  ...   \n",
       "4229  https://a0.muscache.com/pictures/miso/Hosting-...  440431020  ...   \n",
       "1194  https://a0.muscache.com/pictures/018595ef-370d...   54449319  ...   \n",
       "885   https://a0.muscache.com/pictures/a4af3d78-5019...   73233259  ...   \n",
       "4629  https://a0.muscache.com/pictures/prohost-api/H...   83066665  ...   \n",
       "\n",
       "     review_scores_location review_scores_value  \\\n",
       "4017                   5.00                4.50   \n",
       "4229                   4.17                4.54   \n",
       "1194                   4.92                4.81   \n",
       "885                    4.81                4.77   \n",
       "4629                   5.00                5.00   \n",
       "\n",
       "                                                license instant_bookable  \\\n",
       "4017                                                NaN                f   \n",
       "4229                                                NaN                t   \n",
       "1194  Generalitat Valenciana VT-41910-V. Ayuntamient...                t   \n",
       "885                                          VT-41970-V                f   \n",
       "4629                                         VT-36925-V                f   \n",
       "\n",
       "     calculated_host_listings_count  \\\n",
       "4017                              4   \n",
       "4229                              1   \n",
       "1194                              5   \n",
       "885                               4   \n",
       "4629                            127   \n",
       "\n",
       "     calculated_host_listings_count_entire_homes  \\\n",
       "4017                                           2   \n",
       "4229                                           1   \n",
       "1194                                           5   \n",
       "885                                            4   \n",
       "4629                                         126   \n",
       "\n",
       "     calculated_host_listings_count_private_rooms  \\\n",
       "4017                                            2   \n",
       "4229                                            0   \n",
       "1194                                            0   \n",
       "885                                             0   \n",
       "4629                                            1   \n",
       "\n",
       "     calculated_host_listings_count_shared_rooms reviews_per_month distancia  \n",
       "4017                                           0              0.20         3  \n",
       "4229                                           0              2.30         1  \n",
       "1194                                           0              3.41         0  \n",
       "885                                            0              2.05         1  \n",
       "4629                                           0              0.55         1  \n",
       "\n",
       "[5 rows x 76 columns]"
      ]
     },
     "execution_count": 52,
     "metadata": {},
     "output_type": "execute_result"
    }
   ],
   "source": [
    "valencia.head()"
   ]
  },
  {
   "cell_type": "code",
   "execution_count": 55,
   "id": "f2a99974-734e-4b57-9b7e-b28ced1ac4c4",
   "metadata": {
    "tags": []
   },
   "outputs": [],
   "source": [
    "k_vecinos = valencia[['name', 'accommodates', 'distancia', 'price']].sort_values('distancia').iloc[0:5]"
   ]
  },
  {
   "cell_type": "code",
   "execution_count": 56,
   "id": "72e36b67-8a59-46e2-9c47-c7b0be9e1d75",
   "metadata": {
    "tags": []
   },
   "outputs": [
    {
     "data": {
      "text/html": [
       "<div>\n",
       "<style scoped>\n",
       "    .dataframe tbody tr th:only-of-type {\n",
       "        vertical-align: middle;\n",
       "    }\n",
       "\n",
       "    .dataframe tbody tr th {\n",
       "        vertical-align: top;\n",
       "    }\n",
       "\n",
       "    .dataframe thead th {\n",
       "        text-align: right;\n",
       "    }\n",
       "</style>\n",
       "<table border=\"1\" class=\"dataframe\">\n",
       "  <thead>\n",
       "    <tr style=\"text-align: right;\">\n",
       "      <th></th>\n",
       "      <th>name</th>\n",
       "      <th>accommodates</th>\n",
       "      <th>distancia</th>\n",
       "      <th>price</th>\n",
       "    </tr>\n",
       "  </thead>\n",
       "  <tbody>\n",
       "    <tr>\n",
       "      <th>2460</th>\n",
       "      <td>Flamenco Beach House</td>\n",
       "      <td>4</td>\n",
       "      <td>0</td>\n",
       "      <td>$109.00</td>\n",
       "    </tr>\n",
       "    <tr>\n",
       "      <th>851</th>\n",
       "      <td>A. San Vicente I</td>\n",
       "      <td>4</td>\n",
       "      <td>0</td>\n",
       "      <td>$211.00</td>\n",
       "    </tr>\n",
       "    <tr>\n",
       "      <th>2467</th>\n",
       "      <td>Charming flat with terrace.  License VT48617V</td>\n",
       "      <td>4</td>\n",
       "      <td>0</td>\n",
       "      <td>$139.00</td>\n",
       "    </tr>\n",
       "    <tr>\n",
       "      <th>1989</th>\n",
       "      <td>NEW APARTAMENT  5 pax. FRONT CENTRAL STATION. ...</td>\n",
       "      <td>4</td>\n",
       "      <td>0</td>\n",
       "      <td>$69.00</td>\n",
       "    </tr>\n",
       "    <tr>\n",
       "      <th>2988</th>\n",
       "      <td>Malcolm Crest Apartmento 6</td>\n",
       "      <td>4</td>\n",
       "      <td>0</td>\n",
       "      <td>$75.00</td>\n",
       "    </tr>\n",
       "  </tbody>\n",
       "</table>\n",
       "</div>"
      ],
      "text/plain": [
       "                                                   name  accommodates  \\\n",
       "2460                               Flamenco Beach House             4   \n",
       "851                                    A. San Vicente I             4   \n",
       "2467      Charming flat with terrace.  License VT48617V             4   \n",
       "1989  NEW APARTAMENT  5 pax. FRONT CENTRAL STATION. ...             4   \n",
       "2988                         Malcolm Crest Apartmento 6             4   \n",
       "\n",
       "      distancia    price  \n",
       "2460          0  $109.00  \n",
       "851           0  $211.00  \n",
       "2467          0  $139.00  \n",
       "1989          0   $69.00  \n",
       "2988          0   $75.00  "
      ]
     },
     "execution_count": 56,
     "metadata": {},
     "output_type": "execute_result"
    }
   ],
   "source": [
    "k_vecinos"
   ]
  },
  {
   "cell_type": "code",
   "execution_count": 57,
   "id": "0f5b597a-b69e-4fe6-84fd-c567915b3fb1",
   "metadata": {
    "tags": []
   },
   "outputs": [
    {
     "name": "stdout",
     "output_type": "stream",
     "text": [
      "<class 'pandas.core.frame.DataFrame'>\n",
      "Int64Index: 5 entries, 2460 to 2988\n",
      "Data columns (total 4 columns):\n",
      " #   Column        Non-Null Count  Dtype \n",
      "---  ------        --------------  ----- \n",
      " 0   name          5 non-null      object\n",
      " 1   accommodates  5 non-null      int64 \n",
      " 2   distancia     5 non-null      int64 \n",
      " 3   price         5 non-null      object\n",
      "dtypes: int64(2), object(2)\n",
      "memory usage: 200.0+ bytes\n"
     ]
    }
   ],
   "source": [
    "k_vecinos.info()"
   ]
  },
  {
   "cell_type": "code",
   "execution_count": 59,
   "id": "4ecf7148-ca7a-4455-b66a-8c48120598f6",
   "metadata": {
    "tags": []
   },
   "outputs": [],
   "source": [
    "k_vecinos['price'] = k_vecinos['price'].apply ( lambda x: x.replace('$', '') ) "
   ]
  },
  {
   "cell_type": "code",
   "execution_count": 61,
   "id": "5897a44a-80ec-403f-8dee-2f46dc649c9a",
   "metadata": {
    "tags": []
   },
   "outputs": [
    {
     "data": {
      "text/html": [
       "<div>\n",
       "<style scoped>\n",
       "    .dataframe tbody tr th:only-of-type {\n",
       "        vertical-align: middle;\n",
       "    }\n",
       "\n",
       "    .dataframe tbody tr th {\n",
       "        vertical-align: top;\n",
       "    }\n",
       "\n",
       "    .dataframe thead th {\n",
       "        text-align: right;\n",
       "    }\n",
       "</style>\n",
       "<table border=\"1\" class=\"dataframe\">\n",
       "  <thead>\n",
       "    <tr style=\"text-align: right;\">\n",
       "      <th></th>\n",
       "      <th>name</th>\n",
       "      <th>accommodates</th>\n",
       "      <th>distancia</th>\n",
       "      <th>price</th>\n",
       "    </tr>\n",
       "  </thead>\n",
       "  <tbody>\n",
       "    <tr>\n",
       "      <th>2460</th>\n",
       "      <td>Flamenco Beach House</td>\n",
       "      <td>4</td>\n",
       "      <td>0</td>\n",
       "      <td>109.00</td>\n",
       "    </tr>\n",
       "    <tr>\n",
       "      <th>851</th>\n",
       "      <td>A. San Vicente I</td>\n",
       "      <td>4</td>\n",
       "      <td>0</td>\n",
       "      <td>211.00</td>\n",
       "    </tr>\n",
       "    <tr>\n",
       "      <th>2467</th>\n",
       "      <td>Charming flat with terrace.  License VT48617V</td>\n",
       "      <td>4</td>\n",
       "      <td>0</td>\n",
       "      <td>139.00</td>\n",
       "    </tr>\n",
       "    <tr>\n",
       "      <th>1989</th>\n",
       "      <td>NEW APARTAMENT  5 pax. FRONT CENTRAL STATION. ...</td>\n",
       "      <td>4</td>\n",
       "      <td>0</td>\n",
       "      <td>69.00</td>\n",
       "    </tr>\n",
       "    <tr>\n",
       "      <th>2988</th>\n",
       "      <td>Malcolm Crest Apartmento 6</td>\n",
       "      <td>4</td>\n",
       "      <td>0</td>\n",
       "      <td>75.00</td>\n",
       "    </tr>\n",
       "  </tbody>\n",
       "</table>\n",
       "</div>"
      ],
      "text/plain": [
       "                                                   name  accommodates  \\\n",
       "2460                               Flamenco Beach House             4   \n",
       "851                                    A. San Vicente I             4   \n",
       "2467      Charming flat with terrace.  License VT48617V             4   \n",
       "1989  NEW APARTAMENT  5 pax. FRONT CENTRAL STATION. ...             4   \n",
       "2988                         Malcolm Crest Apartmento 6             4   \n",
       "\n",
       "      distancia   price  \n",
       "2460          0  109.00  \n",
       "851           0  211.00  \n",
       "2467          0  139.00  \n",
       "1989          0   69.00  \n",
       "2988          0   75.00  "
      ]
     },
     "execution_count": 61,
     "metadata": {},
     "output_type": "execute_result"
    }
   ],
   "source": [
    "k_vecinos"
   ]
  },
  {
   "cell_type": "code",
   "execution_count": 63,
   "id": "9321fee3-ef4e-4f04-b994-e1976c21d282",
   "metadata": {
    "tags": []
   },
   "outputs": [],
   "source": [
    "k_vecinos['price'] = k_vecinos['price'].astype('float')"
   ]
  },
  {
   "cell_type": "code",
   "execution_count": 64,
   "id": "9243edfc-64d1-49d6-80e7-f9c29c5fba0b",
   "metadata": {
    "tags": []
   },
   "outputs": [
    {
     "data": {
      "text/plain": [
       "120.6"
      ]
     },
     "execution_count": 64,
     "metadata": {},
     "output_type": "execute_result"
    }
   ],
   "source": [
    "k_vecinos['price'].mean()"
   ]
  }
 ],
 "metadata": {
  "kernelspec": {
   "display_name": "Python 3 (ipykernel)",
   "language": "python",
   "name": "python3"
  },
  "language_info": {
   "codemirror_mode": {
    "name": "ipython",
    "version": 3
   },
   "file_extension": ".py",
   "mimetype": "text/x-python",
   "name": "python",
   "nbconvert_exporter": "python",
   "pygments_lexer": "ipython3",
   "version": "3.9.16"
  }
 },
 "nbformat": 4,
 "nbformat_minor": 5
}
